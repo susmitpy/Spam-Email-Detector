{
 "cells": [
  {
   "cell_type": "code",
   "execution_count": 1,
   "metadata": {},
   "outputs": [],
   "source": [
    "import pandas as pd\n",
    "import numpy as np\n",
    "import os\n",
    "import re"
   ]
  },
  {
   "cell_type": "markdown",
   "metadata": {},
   "source": [
    "# Preprocessing Header"
   ]
  },
  {
   "cell_type": "code",
   "execution_count": 2,
   "metadata": {},
   "outputs": [],
   "source": [
    "df = pd.read_csv(\"../Raw Data/extracted_header.csv\")"
   ]
  },
  {
   "cell_type": "code",
   "execution_count": 3,
   "metadata": {},
   "outputs": [
    {
     "data": {
      "text/html": [
       "<div>\n",
       "<style scoped>\n",
       "    .dataframe tbody tr th:only-of-type {\n",
       "        vertical-align: middle;\n",
       "    }\n",
       "\n",
       "    .dataframe tbody tr th {\n",
       "        vertical-align: top;\n",
       "    }\n",
       "\n",
       "    .dataframe thead th {\n",
       "        text-align: right;\n",
       "    }\n",
       "</style>\n",
       "<table border=\"1\" class=\"dataframe\">\n",
       "  <thead>\n",
       "    <tr style=\"text-align: right;\">\n",
       "      <th></th>\n",
       "      <th>sender_email</th>\n",
       "      <th>reply_to_email</th>\n",
       "      <th>return_path</th>\n",
       "      <th>inline_image_count</th>\n",
       "      <th>Label</th>\n",
       "    </tr>\n",
       "  </thead>\n",
       "  <tbody>\n",
       "    <tr>\n",
       "      <th>0</th>\n",
       "      <td>rssfeeds@example.com</td>\n",
       "      <td>NaN</td>\n",
       "      <td>rssfeeds@example.com</td>\n",
       "      <td>0</td>\n",
       "      <td>Ham</td>\n",
       "    </tr>\n",
       "    <tr>\n",
       "      <th>1</th>\n",
       "      <td>thompson@shelob.ce.ttu.edu</td>\n",
       "      <td>exmh-users@example.com</td>\n",
       "      <td>exmh-users-admin@example.com</td>\n",
       "      <td>0</td>\n",
       "      <td>Ham</td>\n",
       "    </tr>\n",
       "    <tr>\n",
       "      <th>2</th>\n",
       "      <td>beberg@mithral.com</td>\n",
       "      <td>NaN</td>\n",
       "      <td>fork-admin@xent.com</td>\n",
       "      <td>0</td>\n",
       "      <td>Ham</td>\n",
       "    </tr>\n",
       "  </tbody>\n",
       "</table>\n",
       "</div>"
      ],
      "text/plain": [
       "                 sender_email          reply_to_email  \\\n",
       "0        rssfeeds@example.com                     NaN   \n",
       "1  thompson@shelob.ce.ttu.edu  exmh-users@example.com   \n",
       "2          beberg@mithral.com                     NaN   \n",
       "\n",
       "                    return_path  inline_image_count Label  \n",
       "0          rssfeeds@example.com                   0   Ham  \n",
       "1  exmh-users-admin@example.com                   0   Ham  \n",
       "2           fork-admin@xent.com                   0   Ham  "
      ]
     },
     "execution_count": 3,
     "metadata": {},
     "output_type": "execute_result"
    }
   ],
   "source": [
    "df.head(n=3)"
   ]
  },
  {
   "cell_type": "code",
   "execution_count": 4,
   "metadata": {},
   "outputs": [
    {
     "data": {
      "text/plain": [
       "sender_email           130\n",
       "reply_to_email        9312\n",
       "return_path            340\n",
       "inline_image_count       0\n",
       "Label                    0\n",
       "dtype: int64"
      ]
     },
     "execution_count": 4,
     "metadata": {},
     "output_type": "execute_result"
    }
   ],
   "source": [
    "df.isna().sum()"
   ]
  },
  {
   "cell_type": "code",
   "execution_count": 5,
   "metadata": {},
   "outputs": [
    {
     "data": {
      "text/plain": [
       "(12827, 5)"
      ]
     },
     "execution_count": 5,
     "metadata": {},
     "output_type": "execute_result"
    }
   ],
   "source": [
    "df.shape"
   ]
  },
  {
   "cell_type": "code",
   "execution_count": 6,
   "metadata": {},
   "outputs": [
    {
     "data": {
      "text/plain": [
       "Spam    81.211507\n",
       "Ham     18.788493\n",
       "Name: Label, dtype: float64"
      ]
     },
     "execution_count": 6,
     "metadata": {},
     "output_type": "execute_result"
    }
   ],
   "source": [
    "df.Label.value_counts() / len(df) * 100"
   ]
  },
  {
   "cell_type": "code",
   "execution_count": 7,
   "metadata": {},
   "outputs": [
    {
     "data": {
      "text/html": [
       "<div>\n",
       "<style scoped>\n",
       "    .dataframe tbody tr th:only-of-type {\n",
       "        vertical-align: middle;\n",
       "    }\n",
       "\n",
       "    .dataframe tbody tr th {\n",
       "        vertical-align: top;\n",
       "    }\n",
       "\n",
       "    .dataframe thead th {\n",
       "        text-align: right;\n",
       "    }\n",
       "</style>\n",
       "<table border=\"1\" class=\"dataframe\">\n",
       "  <thead>\n",
       "    <tr style=\"text-align: right;\">\n",
       "      <th></th>\n",
       "      <th>mean</th>\n",
       "      <th>median</th>\n",
       "    </tr>\n",
       "    <tr>\n",
       "      <th>Label</th>\n",
       "      <th></th>\n",
       "      <th></th>\n",
       "    </tr>\n",
       "  </thead>\n",
       "  <tbody>\n",
       "    <tr>\n",
       "      <th>Ham</th>\n",
       "      <td>0.000000</td>\n",
       "      <td>0</td>\n",
       "    </tr>\n",
       "    <tr>\n",
       "      <th>Spam</th>\n",
       "      <td>0.607085</td>\n",
       "      <td>0</td>\n",
       "    </tr>\n",
       "  </tbody>\n",
       "</table>\n",
       "</div>"
      ],
      "text/plain": [
       "           mean  median\n",
       "Label                  \n",
       "Ham    0.000000       0\n",
       "Spam   0.607085       0"
      ]
     },
     "execution_count": 7,
     "metadata": {},
     "output_type": "execute_result"
    }
   ],
   "source": [
    "df.groupby(\"Label\")[\"inline_image_count\"].agg([\"mean\",\"median\"])"
   ]
  },
  {
   "cell_type": "code",
   "execution_count": 8,
   "metadata": {},
   "outputs": [
    {
     "data": {
      "text/plain": [
       "array([0])"
      ]
     },
     "execution_count": 8,
     "metadata": {},
     "output_type": "execute_result"
    }
   ],
   "source": [
    "df[df.Label == \"Ham\"][\"inline_image_count\"].unique() # All Ham emails don't have a single inline image"
   ]
  },
  {
   "cell_type": "code",
   "execution_count": 9,
   "metadata": {},
   "outputs": [],
   "source": [
    "a=df[df.Label == \"Spam\"][\"inline_image_count\"]"
   ]
  },
  {
   "cell_type": "code",
   "execution_count": 10,
   "metadata": {},
   "outputs": [
    {
     "data": {
      "text/plain": [
       "85.79245464145147"
      ]
     },
     "execution_count": 10,
     "metadata": {},
     "output_type": "execute_result"
    }
   ],
   "source": [
    "(a == 0).sum() / len(a) * 100 # 86% of Spam Emails don't have a single inline image"
   ]
  },
  {
   "cell_type": "code",
   "execution_count": 11,
   "metadata": {},
   "outputs": [],
   "source": [
    "df[\"has_inline_image\"] = df[\"inline_image_count\"] >= 1\n",
    "df.drop(\"inline_image_count\",axis=1,inplace=True)"
   ]
  },
  {
   "cell_type": "code",
   "execution_count": 12,
   "metadata": {},
   "outputs": [
    {
     "data": {
      "text/html": [
       "<div>\n",
       "<style scoped>\n",
       "    .dataframe tbody tr th:only-of-type {\n",
       "        vertical-align: middle;\n",
       "    }\n",
       "\n",
       "    .dataframe tbody tr th {\n",
       "        vertical-align: top;\n",
       "    }\n",
       "\n",
       "    .dataframe thead th {\n",
       "        text-align: right;\n",
       "    }\n",
       "</style>\n",
       "<table border=\"1\" class=\"dataframe\">\n",
       "  <thead>\n",
       "    <tr style=\"text-align: right;\">\n",
       "      <th></th>\n",
       "      <th>sender_email</th>\n",
       "      <th>reply_to_email</th>\n",
       "      <th>return_path</th>\n",
       "    </tr>\n",
       "  </thead>\n",
       "  <tbody>\n",
       "    <tr>\n",
       "      <th>1404</th>\n",
       "      <td>geege@barrera.org</td>\n",
       "      <td>NaN</td>\n",
       "      <td>fork-admin@xent.com</td>\n",
       "    </tr>\n",
       "    <tr>\n",
       "      <th>1176</th>\n",
       "      <td>rssfeeds@example.com</td>\n",
       "      <td>NaN</td>\n",
       "      <td>rssfeeds@example.com</td>\n",
       "    </tr>\n",
       "    <tr>\n",
       "      <th>193</th>\n",
       "      <td>rssfeeds@example.com</td>\n",
       "      <td>NaN</td>\n",
       "      <td>rssfeeds@example.com</td>\n",
       "    </tr>\n",
       "    <tr>\n",
       "      <th>222</th>\n",
       "      <td>garym@canada.com</td>\n",
       "      <td>garym@canada.com</td>\n",
       "      <td>fork-admin@xent.com</td>\n",
       "    </tr>\n",
       "    <tr>\n",
       "      <th>434</th>\n",
       "      <td>fork_list@hotmail.com</td>\n",
       "      <td>NaN</td>\n",
       "      <td>fork-admin@xent.com</td>\n",
       "    </tr>\n",
       "    <tr>\n",
       "      <th>1434</th>\n",
       "      <td>garym@canada.com</td>\n",
       "      <td>garym@canada.com</td>\n",
       "      <td>fork-admin@xent.com</td>\n",
       "    </tr>\n",
       "    <tr>\n",
       "      <th>1905</th>\n",
       "      <td>rssfeeds@example.com</td>\n",
       "      <td>NaN</td>\n",
       "      <td>rssfeeds@example.com</td>\n",
       "    </tr>\n",
       "    <tr>\n",
       "      <th>1903</th>\n",
       "      <td>rssfeeds@example.com</td>\n",
       "      <td>NaN</td>\n",
       "      <td>rssfeeds@example.com</td>\n",
       "    </tr>\n",
       "    <tr>\n",
       "      <th>2226</th>\n",
       "      <td>msquadrat.nospamplease@gmx.net</td>\n",
       "      <td>NaN</td>\n",
       "      <td>spamassassin-talk-admin@example.sourceforge.net</td>\n",
       "    </tr>\n",
       "    <tr>\n",
       "      <th>1294</th>\n",
       "      <td>sati_home@yahoo.com</td>\n",
       "      <td>NaN</td>\n",
       "      <td>fork-admin@xent.com</td>\n",
       "    </tr>\n",
       "  </tbody>\n",
       "</table>\n",
       "</div>"
      ],
      "text/plain": [
       "                        sender_email    reply_to_email  \\\n",
       "1404               geege@barrera.org               NaN   \n",
       "1176            rssfeeds@example.com               NaN   \n",
       "193             rssfeeds@example.com               NaN   \n",
       "222                 garym@canada.com  garym@canada.com   \n",
       "434            fork_list@hotmail.com               NaN   \n",
       "1434                garym@canada.com  garym@canada.com   \n",
       "1905            rssfeeds@example.com               NaN   \n",
       "1903            rssfeeds@example.com               NaN   \n",
       "2226  msquadrat.nospamplease@gmx.net               NaN   \n",
       "1294             sati_home@yahoo.com               NaN   \n",
       "\n",
       "                                          return_path  \n",
       "1404                              fork-admin@xent.com  \n",
       "1176                             rssfeeds@example.com  \n",
       "193                              rssfeeds@example.com  \n",
       "222                               fork-admin@xent.com  \n",
       "434                               fork-admin@xent.com  \n",
       "1434                              fork-admin@xent.com  \n",
       "1905                             rssfeeds@example.com  \n",
       "1903                             rssfeeds@example.com  \n",
       "2226  spamassassin-talk-admin@example.sourceforge.net  \n",
       "1294                              fork-admin@xent.com  "
      ]
     },
     "execution_count": 12,
     "metadata": {},
     "output_type": "execute_result"
    }
   ],
   "source": [
    "df[df.Label == \"Ham\"][[\"sender_email\",\"reply_to_email\",\"return_path\"]].sample(10)"
   ]
  },
  {
   "cell_type": "code",
   "execution_count": 13,
   "metadata": {},
   "outputs": [
    {
     "data": {
      "text/html": [
       "<div>\n",
       "<style scoped>\n",
       "    .dataframe tbody tr th:only-of-type {\n",
       "        vertical-align: middle;\n",
       "    }\n",
       "\n",
       "    .dataframe tbody tr th {\n",
       "        vertical-align: top;\n",
       "    }\n",
       "\n",
       "    .dataframe thead th {\n",
       "        text-align: right;\n",
       "    }\n",
       "</style>\n",
       "<table border=\"1\" class=\"dataframe\">\n",
       "  <thead>\n",
       "    <tr style=\"text-align: right;\">\n",
       "      <th></th>\n",
       "      <th>sender_email</th>\n",
       "      <th>reply_to_email</th>\n",
       "      <th>return_path</th>\n",
       "    </tr>\n",
       "  </thead>\n",
       "  <tbody>\n",
       "    <tr>\n",
       "      <th>4028</th>\n",
       "      <td>news@e-pepper.net</td>\n",
       "      <td>news@e-pepper.net</td>\n",
       "      <td>news@e-pepper.net</td>\n",
       "    </tr>\n",
       "    <tr>\n",
       "      <th>9438</th>\n",
       "      <td>oijih@jpb.o2.pl</td>\n",
       "      <td>NaN</td>\n",
       "      <td>oijih@jpb.o2.pl</td>\n",
       "    </tr>\n",
       "    <tr>\n",
       "      <th>4254</th>\n",
       "      <td>ujuchkksdsxft@mycity.com.cn</td>\n",
       "      <td>NaN</td>\n",
       "      <td>ujuchkksdsxft@mycity.com.cn</td>\n",
       "    </tr>\n",
       "    <tr>\n",
       "      <th>11434</th>\n",
       "      <td>tdtulstpdnnme@dwp.net</td>\n",
       "      <td>NaN</td>\n",
       "      <td>tdtulstpdnnme@dwp.net</td>\n",
       "    </tr>\n",
       "    <tr>\n",
       "      <th>8436</th>\n",
       "      <td>fskweqssbtecpw@8848.net</td>\n",
       "      <td>NaN</td>\n",
       "      <td>fskweqssbtecpw@8848.net</td>\n",
       "    </tr>\n",
       "    <tr>\n",
       "      <th>4825</th>\n",
       "      <td>hlclcoxkwpbb@freewebemail.com</td>\n",
       "      <td>NaN</td>\n",
       "      <td>hlclcoxkwpbb@freewebemail.com</td>\n",
       "    </tr>\n",
       "    <tr>\n",
       "      <th>5628</th>\n",
       "      <td>nim@th.com</td>\n",
       "      <td>NaN</td>\n",
       "      <td>nim@th.com</td>\n",
       "    </tr>\n",
       "    <tr>\n",
       "      <th>10609</th>\n",
       "      <td>WendyBerliner@lumbago.net</td>\n",
       "      <td>WendyBerliner@lumbago.net</td>\n",
       "      <td>WendyBerliner@lumbago.net</td>\n",
       "    </tr>\n",
       "    <tr>\n",
       "      <th>3521</th>\n",
       "      <td>eurostarlotto10@netscape.net</td>\n",
       "      <td>NaN</td>\n",
       "      <td>eurostarlotto10@netscape.net</td>\n",
       "    </tr>\n",
       "    <tr>\n",
       "      <th>9930</th>\n",
       "      <td>Newtonjcwt@mauimail.com</td>\n",
       "      <td>NaN</td>\n",
       "      <td>Newtonjcwt@mauimail.com</td>\n",
       "    </tr>\n",
       "  </tbody>\n",
       "</table>\n",
       "</div>"
      ],
      "text/plain": [
       "                        sender_email             reply_to_email  \\\n",
       "4028               news@e-pepper.net          news@e-pepper.net   \n",
       "9438                 oijih@jpb.o2.pl                        NaN   \n",
       "4254     ujuchkksdsxft@mycity.com.cn                        NaN   \n",
       "11434          tdtulstpdnnme@dwp.net                        NaN   \n",
       "8436         fskweqssbtecpw@8848.net                        NaN   \n",
       "4825   hlclcoxkwpbb@freewebemail.com                        NaN   \n",
       "5628                      nim@th.com                        NaN   \n",
       "10609      WendyBerliner@lumbago.net  WendyBerliner@lumbago.net   \n",
       "3521    eurostarlotto10@netscape.net                        NaN   \n",
       "9930         Newtonjcwt@mauimail.com                        NaN   \n",
       "\n",
       "                         return_path  \n",
       "4028               news@e-pepper.net  \n",
       "9438                 oijih@jpb.o2.pl  \n",
       "4254     ujuchkksdsxft@mycity.com.cn  \n",
       "11434          tdtulstpdnnme@dwp.net  \n",
       "8436         fskweqssbtecpw@8848.net  \n",
       "4825   hlclcoxkwpbb@freewebemail.com  \n",
       "5628                      nim@th.com  \n",
       "10609      WendyBerliner@lumbago.net  \n",
       "3521    eurostarlotto10@netscape.net  \n",
       "9930         Newtonjcwt@mauimail.com  "
      ]
     },
     "execution_count": 13,
     "metadata": {},
     "output_type": "execute_result"
    }
   ],
   "source": [
    "df[df.Label == \"Spam\"][[\"sender_email\",\"reply_to_email\",\"return_path\"]].sample(10)"
   ]
  },
  {
   "cell_type": "code",
   "execution_count": 14,
   "metadata": {},
   "outputs": [
    {
     "data": {
      "text/plain": [
       "sender_email         1.013487\n",
       "reply_to_email      72.596866\n",
       "return_path          2.650659\n",
       "Label                0.000000\n",
       "has_inline_image     0.000000\n",
       "dtype: float64"
      ]
     },
     "execution_count": 14,
     "metadata": {},
     "output_type": "execute_result"
    }
   ],
   "source": [
    "df.isna().sum() / len(df) * 100"
   ]
  },
  {
   "cell_type": "code",
   "execution_count": 15,
   "metadata": {},
   "outputs": [
    {
     "data": {
      "text/html": [
       "<div>\n",
       "<style scoped>\n",
       "    .dataframe tbody tr th:only-of-type {\n",
       "        vertical-align: middle;\n",
       "    }\n",
       "\n",
       "    .dataframe tbody tr th {\n",
       "        vertical-align: top;\n",
       "    }\n",
       "\n",
       "    .dataframe thead th {\n",
       "        text-align: right;\n",
       "    }\n",
       "</style>\n",
       "<table border=\"1\" class=\"dataframe\">\n",
       "  <thead>\n",
       "    <tr style=\"text-align: right;\">\n",
       "      <th></th>\n",
       "      <th>mean</th>\n",
       "    </tr>\n",
       "    <tr>\n",
       "      <th>Label</th>\n",
       "      <th></th>\n",
       "    </tr>\n",
       "  </thead>\n",
       "  <tbody>\n",
       "    <tr>\n",
       "      <th>Ham</th>\n",
       "      <td>74.439834</td>\n",
       "    </tr>\n",
       "    <tr>\n",
       "      <th>Spam</th>\n",
       "      <td>72.170491</td>\n",
       "    </tr>\n",
       "  </tbody>\n",
       "</table>\n",
       "</div>"
      ],
      "text/plain": [
       "            mean\n",
       "Label           \n",
       "Ham    74.439834\n",
       "Spam   72.170491"
      ]
     },
     "execution_count": 15,
     "metadata": {},
     "output_type": "execute_result"
    }
   ],
   "source": [
    "df[\"no_reply_to_email\"] = df[\"reply_to_email\"].isna() # true -> does not have\n",
    "df.groupby(\"Label\")[\"no_reply_to_email\"].agg([\"mean\"])*100"
   ]
  },
  {
   "cell_type": "code",
   "execution_count": 16,
   "metadata": {},
   "outputs": [
    {
     "data": {
      "text/html": [
       "<div>\n",
       "<style scoped>\n",
       "    .dataframe tbody tr th:only-of-type {\n",
       "        vertical-align: middle;\n",
       "    }\n",
       "\n",
       "    .dataframe tbody tr th {\n",
       "        vertical-align: top;\n",
       "    }\n",
       "\n",
       "    .dataframe thead th {\n",
       "        text-align: right;\n",
       "    }\n",
       "</style>\n",
       "<table border=\"1\" class=\"dataframe\">\n",
       "  <thead>\n",
       "    <tr style=\"text-align: right;\">\n",
       "      <th></th>\n",
       "      <th>mean</th>\n",
       "    </tr>\n",
       "    <tr>\n",
       "      <th>Label</th>\n",
       "      <th></th>\n",
       "    </tr>\n",
       "  </thead>\n",
       "  <tbody>\n",
       "    <tr>\n",
       "      <th>Ham</th>\n",
       "      <td>0.000000</td>\n",
       "    </tr>\n",
       "    <tr>\n",
       "      <th>Spam</th>\n",
       "      <td>3.263896</td>\n",
       "    </tr>\n",
       "  </tbody>\n",
       "</table>\n",
       "</div>"
      ],
      "text/plain": [
       "           mean\n",
       "Label          \n",
       "Ham    0.000000\n",
       "Spam   3.263896"
      ]
     },
     "execution_count": 16,
     "metadata": {},
     "output_type": "execute_result"
    }
   ],
   "source": [
    "df[\"no_return_path\"] = df[\"return_path\"].isna() # true -> does not have\n",
    "df.groupby(\"Label\")[\"no_return_path\"].agg([\"mean\"])*100\n",
    "\n",
    "# 3.26% of spam don't have return path"
   ]
  },
  {
   "cell_type": "code",
   "execution_count": 17,
   "metadata": {},
   "outputs": [
    {
     "data": {
      "text/html": [
       "<div>\n",
       "<style scoped>\n",
       "    .dataframe tbody tr th:only-of-type {\n",
       "        vertical-align: middle;\n",
       "    }\n",
       "\n",
       "    .dataframe tbody tr th {\n",
       "        vertical-align: top;\n",
       "    }\n",
       "\n",
       "    .dataframe thead th {\n",
       "        text-align: right;\n",
       "    }\n",
       "</style>\n",
       "<table border=\"1\" class=\"dataframe\">\n",
       "  <thead>\n",
       "    <tr style=\"text-align: right;\">\n",
       "      <th></th>\n",
       "      <th>sender_email</th>\n",
       "      <th>reply_to_email</th>\n",
       "      <th>return_path</th>\n",
       "      <th>Label</th>\n",
       "      <th>has_inline_image</th>\n",
       "      <th>no_reply_to_email</th>\n",
       "      <th>no_return_path</th>\n",
       "    </tr>\n",
       "  </thead>\n",
       "  <tbody>\n",
       "    <tr>\n",
       "      <th>2484</th>\n",
       "      <td>rkkss@redseven.de</td>\n",
       "      <td>NaN</td>\n",
       "      <td>NaN</td>\n",
       "      <td>Spam</td>\n",
       "      <td>False</td>\n",
       "      <td>True</td>\n",
       "      <td>True</td>\n",
       "    </tr>\n",
       "    <tr>\n",
       "      <th>2541</th>\n",
       "      <td>rkkss@redseven.de</td>\n",
       "      <td>NaN</td>\n",
       "      <td>NaN</td>\n",
       "      <td>Spam</td>\n",
       "      <td>False</td>\n",
       "      <td>True</td>\n",
       "      <td>True</td>\n",
       "    </tr>\n",
       "    <tr>\n",
       "      <th>2571</th>\n",
       "      <td>emailrewardz@emailrewardz.email-publisher.com</td>\n",
       "      <td>perf-remove.3565.64698.13893713.0.0.4@boing.to...</td>\n",
       "      <td>NaN</td>\n",
       "      <td>Spam</td>\n",
       "      <td>False</td>\n",
       "      <td>False</td>\n",
       "      <td>True</td>\n",
       "    </tr>\n",
       "    <tr>\n",
       "      <th>2693</th>\n",
       "      <td>meg34807147238s03@isppan.waw.pl</td>\n",
       "      <td>meg34807147238s03@isppan.waw.pl</td>\n",
       "      <td>NaN</td>\n",
       "      <td>Spam</td>\n",
       "      <td>False</td>\n",
       "      <td>False</td>\n",
       "      <td>True</td>\n",
       "    </tr>\n",
       "    <tr>\n",
       "      <th>2745</th>\n",
       "      <td>meg34807147238s03@isppan.waw.pl</td>\n",
       "      <td>meg34807147238s03@isppan.waw.pl</td>\n",
       "      <td>NaN</td>\n",
       "      <td>Spam</td>\n",
       "      <td>False</td>\n",
       "      <td>False</td>\n",
       "      <td>True</td>\n",
       "    </tr>\n",
       "    <tr>\n",
       "      <th>...</th>\n",
       "      <td>...</td>\n",
       "      <td>...</td>\n",
       "      <td>...</td>\n",
       "      <td>...</td>\n",
       "      <td>...</td>\n",
       "      <td>...</td>\n",
       "      <td>...</td>\n",
       "    </tr>\n",
       "    <tr>\n",
       "      <th>12625</th>\n",
       "      <td>NaN</td>\n",
       "      <td>NaN</td>\n",
       "      <td>NaN</td>\n",
       "      <td>Spam</td>\n",
       "      <td>False</td>\n",
       "      <td>True</td>\n",
       "      <td>True</td>\n",
       "    </tr>\n",
       "    <tr>\n",
       "      <th>12639</th>\n",
       "      <td>YCPZHUNZN@marchmail.com</td>\n",
       "      <td>YCPZHUNZN@marchmail.com</td>\n",
       "      <td>NaN</td>\n",
       "      <td>Spam</td>\n",
       "      <td>False</td>\n",
       "      <td>False</td>\n",
       "      <td>True</td>\n",
       "    </tr>\n",
       "    <tr>\n",
       "      <th>12648</th>\n",
       "      <td>keh-ming@a-vip.com</td>\n",
       "      <td>NaN</td>\n",
       "      <td>NaN</td>\n",
       "      <td>Spam</td>\n",
       "      <td>False</td>\n",
       "      <td>True</td>\n",
       "      <td>True</td>\n",
       "    </tr>\n",
       "    <tr>\n",
       "      <th>12747</th>\n",
       "      <td>505jeff@acadia.net</td>\n",
       "      <td>NaN</td>\n",
       "      <td>NaN</td>\n",
       "      <td>Spam</td>\n",
       "      <td>False</td>\n",
       "      <td>True</td>\n",
       "      <td>True</td>\n",
       "    </tr>\n",
       "    <tr>\n",
       "      <th>12814</th>\n",
       "      <td>MelHaas6869@janornode.com</td>\n",
       "      <td>NaN</td>\n",
       "      <td>NaN</td>\n",
       "      <td>Spam</td>\n",
       "      <td>False</td>\n",
       "      <td>True</td>\n",
       "      <td>True</td>\n",
       "    </tr>\n",
       "  </tbody>\n",
       "</table>\n",
       "<p>340 rows × 7 columns</p>\n",
       "</div>"
      ],
      "text/plain": [
       "                                        sender_email  \\\n",
       "2484                               rkkss@redseven.de   \n",
       "2541                               rkkss@redseven.de   \n",
       "2571   emailrewardz@emailrewardz.email-publisher.com   \n",
       "2693                 meg34807147238s03@isppan.waw.pl   \n",
       "2745                 meg34807147238s03@isppan.waw.pl   \n",
       "...                                              ...   \n",
       "12625                                            NaN   \n",
       "12639                        YCPZHUNZN@marchmail.com   \n",
       "12648                             keh-ming@a-vip.com   \n",
       "12747                             505jeff@acadia.net   \n",
       "12814                      MelHaas6869@janornode.com   \n",
       "\n",
       "                                          reply_to_email return_path Label  \\\n",
       "2484                                                 NaN         NaN  Spam   \n",
       "2541                                                 NaN         NaN  Spam   \n",
       "2571   perf-remove.3565.64698.13893713.0.0.4@boing.to...         NaN  Spam   \n",
       "2693                     meg34807147238s03@isppan.waw.pl         NaN  Spam   \n",
       "2745                     meg34807147238s03@isppan.waw.pl         NaN  Spam   \n",
       "...                                                  ...         ...   ...   \n",
       "12625                                                NaN         NaN  Spam   \n",
       "12639                            YCPZHUNZN@marchmail.com         NaN  Spam   \n",
       "12648                                                NaN         NaN  Spam   \n",
       "12747                                                NaN         NaN  Spam   \n",
       "12814                                                NaN         NaN  Spam   \n",
       "\n",
       "       has_inline_image  no_reply_to_email  no_return_path  \n",
       "2484              False               True            True  \n",
       "2541              False               True            True  \n",
       "2571              False              False            True  \n",
       "2693              False              False            True  \n",
       "2745              False              False            True  \n",
       "...                 ...                ...             ...  \n",
       "12625             False               True            True  \n",
       "12639             False              False            True  \n",
       "12648             False               True            True  \n",
       "12747             False               True            True  \n",
       "12814             False               True            True  \n",
       "\n",
       "[340 rows x 7 columns]"
      ]
     },
     "execution_count": 17,
     "metadata": {},
     "output_type": "execute_result"
    }
   ],
   "source": [
    "df[df[\"no_return_path\"] == True]"
   ]
  },
  {
   "cell_type": "code",
   "execution_count": 18,
   "metadata": {},
   "outputs": [
    {
     "name": "stdout",
     "output_type": "stream",
     "text": [
      "Spam    100.0\n",
      "Name: Label, dtype: float64\n",
      "Overall Distribution of class:\n",
      "Spam    81.211507\n",
      "Ham     18.788493\n",
      "Name: Label, dtype: float64\n",
      "% of such records: 2.3388165588212364\n",
      "      Label  no_reply_to_email  no_return_path\n",
      "12483  Spam               True            True\n",
      "11478  Spam               True            True\n",
      "9490   Spam               True            True\n",
      "8363   Spam               True            True\n",
      "5046   Spam               True            True\n",
      "3960   Spam               True            True\n",
      "9621   Spam               True            True\n"
     ]
    }
   ],
   "source": [
    "a=df[(df[\"no_reply_to_email\"]==True) & (df[\"no_return_path\"] == True)]\n",
    "print(a[\"Label\"].value_counts() / len(a) * 100)\n",
    "print(\"Overall Distribution of class:\")\n",
    "print(df.Label.value_counts() / len(df) * 100)\n",
    "print(\"% of such records: \" + str(len(a)/len(df)*100))\n",
    "print(a.sample(7)[[\"Label\",\"no_reply_to_email\",\"no_return_path\"]])"
   ]
  },
  {
   "cell_type": "code",
   "execution_count": 19,
   "metadata": {},
   "outputs": [
    {
     "name": "stdout",
     "output_type": "stream",
     "text": [
      "Spam    82.273381\n",
      "Ham     17.726619\n",
      "Name: Label, dtype: float64\n",
      "Overall Distribution of class:\n",
      "Spam    81.211507\n",
      "Ham     18.788493\n",
      "Name: Label, dtype: float64\n",
      "% of such records: 27.09129180634599\n",
      "      Label  no_reply_to_email  no_return_path\n",
      "9562   Spam              False           False\n",
      "7534   Spam              False           False\n",
      "6049   Spam              False           False\n",
      "9114   Spam              False           False\n",
      "10133  Spam              False           False\n",
      "4979   Spam              False           False\n",
      "1403    Ham              False           False\n"
     ]
    }
   ],
   "source": [
    "a=df[(df[\"no_reply_to_email\"]==False) & (df[\"no_return_path\"] == False)]\n",
    "print(a[\"Label\"].value_counts() / len(a) * 100)\n",
    "print(\"Overall Distribution of class:\")\n",
    "print(df.Label.value_counts() / len(df) * 100)\n",
    "print(\"% of such records: \" + str(len(a)/len(df)*100))\n",
    "print(a.sample(7)[[\"Label\",\"no_reply_to_email\",\"no_return_path\"]])"
   ]
  },
  {
   "cell_type": "code",
   "execution_count": 20,
   "metadata": {},
   "outputs": [
    {
     "name": "stdout",
     "output_type": "stream",
     "text": [
      "Spam    80.093209\n",
      "Ham     19.906791\n",
      "Name: Label, dtype: float64\n",
      "Overall Distribution of class:\n",
      "Spam    81.211507\n",
      "Ham     18.788493\n",
      "Name: Label, dtype: float64\n",
      "% of such records: 70.25804942698994\n",
      "      Label  no_reply_to_email  no_return_path\n",
      "8959   Spam               True           False\n",
      "2959   Spam               True           False\n",
      "12693  Spam               True           False\n",
      "11877  Spam               True           False\n",
      "4958   Spam               True           False\n",
      "1265    Ham               True           False\n",
      "7363   Spam               True           False\n"
     ]
    }
   ],
   "source": [
    "a=df[(df[\"no_reply_to_email\"]==True) & (df[\"no_return_path\"] == False)]\n",
    "print(a[\"Label\"].value_counts() / len(a) * 100)\n",
    "print(\"Overall Distribution of class:\")\n",
    "print(df.Label.value_counts() / len(df) * 100)\n",
    "print(\"% of such records: \" + str(len(a)/len(df)*100))\n",
    "print(a.sample(7)[[\"Label\",\"no_reply_to_email\",\"no_return_path\"]])"
   ]
  },
  {
   "cell_type": "code",
   "execution_count": 21,
   "metadata": {},
   "outputs": [
    {
     "name": "stdout",
     "output_type": "stream",
     "text": [
      "Spam    100.0\n",
      "Name: Label, dtype: float64\n",
      "Overall Distribution of class:\n",
      "Spam    81.211507\n",
      "Ham     18.788493\n",
      "Name: Label, dtype: float64\n",
      "% of such records: 0.3118422078428315\n",
      "      Label  no_reply_to_email  no_return_path\n",
      "7395   Spam              False            True\n",
      "11826  Spam              False            True\n",
      "10915  Spam              False            True\n",
      "7796   Spam              False            True\n",
      "5080   Spam              False            True\n",
      "8458   Spam              False            True\n",
      "2571   Spam              False            True\n"
     ]
    }
   ],
   "source": [
    "a=df[(df[\"no_reply_to_email\"]==False) & (df[\"no_return_path\"] == True)]\n",
    "print(a[\"Label\"].value_counts() / len(a) * 100)\n",
    "print(\"Overall Distribution of class:\")\n",
    "print(df.Label.value_counts() / len(df) * 100)\n",
    "print(\"% of such records: \" + str(len(a)/len(df)*100))\n",
    "print(a.sample(7)[[\"Label\",\"no_reply_to_email\",\"no_return_path\"]])"
   ]
  },
  {
   "cell_type": "code",
   "execution_count": 22,
   "metadata": {},
   "outputs": [
    {
     "name": "stdout",
     "output_type": "stream",
     "text": [
      "Index(['sender_email', 'reply_to_email', 'return_path', 'Label',\n",
      "       'has_inline_image', 'no_reply_to_email', 'no_return_path',\n",
      "       'no_reply_no_return', 'yes_reply_no_return'],\n",
      "      dtype='object')\n"
     ]
    }
   ],
   "source": [
    "df[\"no_reply_no_return\"] = (df[\"no_reply_to_email\"] == True) & (df[\"no_return_path\"] == True)\n",
    "df[\"yes_reply_no_return\"] = (df[\"no_reply_to_email\"] == False) & (df[\"no_return_path\"] == True)\n",
    "print(df.columns)"
   ]
  },
  {
   "cell_type": "code",
   "execution_count": 23,
   "metadata": {},
   "outputs": [
    {
     "data": {
      "text/html": [
       "<div>\n",
       "<style scoped>\n",
       "    .dataframe tbody tr th:only-of-type {\n",
       "        vertical-align: middle;\n",
       "    }\n",
       "\n",
       "    .dataframe tbody tr th {\n",
       "        vertical-align: top;\n",
       "    }\n",
       "\n",
       "    .dataframe thead th {\n",
       "        text-align: right;\n",
       "    }\n",
       "</style>\n",
       "<table border=\"1\" class=\"dataframe\">\n",
       "  <thead>\n",
       "    <tr style=\"text-align: right;\">\n",
       "      <th></th>\n",
       "      <th>sender_email</th>\n",
       "      <th>Label</th>\n",
       "      <th>has_inline_image</th>\n",
       "      <th>no_return_path</th>\n",
       "      <th>no_reply_no_return</th>\n",
       "      <th>yes_reply_no_return</th>\n",
       "    </tr>\n",
       "  </thead>\n",
       "  <tbody>\n",
       "    <tr>\n",
       "      <th>0</th>\n",
       "      <td>rssfeeds@example.com</td>\n",
       "      <td>Ham</td>\n",
       "      <td>False</td>\n",
       "      <td>False</td>\n",
       "      <td>False</td>\n",
       "      <td>False</td>\n",
       "    </tr>\n",
       "    <tr>\n",
       "      <th>1</th>\n",
       "      <td>thompson@shelob.ce.ttu.edu</td>\n",
       "      <td>Ham</td>\n",
       "      <td>False</td>\n",
       "      <td>False</td>\n",
       "      <td>False</td>\n",
       "      <td>False</td>\n",
       "    </tr>\n",
       "    <tr>\n",
       "      <th>2</th>\n",
       "      <td>beberg@mithral.com</td>\n",
       "      <td>Ham</td>\n",
       "      <td>False</td>\n",
       "      <td>False</td>\n",
       "      <td>False</td>\n",
       "      <td>False</td>\n",
       "    </tr>\n",
       "    <tr>\n",
       "      <th>3</th>\n",
       "      <td>rssfeeds@example.com</td>\n",
       "      <td>Ham</td>\n",
       "      <td>False</td>\n",
       "      <td>False</td>\n",
       "      <td>False</td>\n",
       "      <td>False</td>\n",
       "    </tr>\n",
       "    <tr>\n",
       "      <th>4</th>\n",
       "      <td>garym@canada.com</td>\n",
       "      <td>Ham</td>\n",
       "      <td>False</td>\n",
       "      <td>False</td>\n",
       "      <td>False</td>\n",
       "      <td>False</td>\n",
       "    </tr>\n",
       "  </tbody>\n",
       "</table>\n",
       "</div>"
      ],
      "text/plain": [
       "                 sender_email Label  has_inline_image  no_return_path  \\\n",
       "0        rssfeeds@example.com   Ham             False           False   \n",
       "1  thompson@shelob.ce.ttu.edu   Ham             False           False   \n",
       "2          beberg@mithral.com   Ham             False           False   \n",
       "3        rssfeeds@example.com   Ham             False           False   \n",
       "4            garym@canada.com   Ham             False           False   \n",
       "\n",
       "   no_reply_no_return  yes_reply_no_return  \n",
       "0               False                False  \n",
       "1               False                False  \n",
       "2               False                False  \n",
       "3               False                False  \n",
       "4               False                False  "
      ]
     },
     "execution_count": 23,
     "metadata": {},
     "output_type": "execute_result"
    }
   ],
   "source": [
    "df.drop([\"no_reply_to_email\",\"reply_to_email\",\"return_path\"],axis=1,inplace=True)\n",
    "df.head()"
   ]
  },
  {
   "cell_type": "code",
   "execution_count": 24,
   "metadata": {},
   "outputs": [
    {
     "data": {
      "text/plain": [
       "sender_email           130\n",
       "Label                    0\n",
       "has_inline_image         0\n",
       "no_return_path           0\n",
       "no_reply_no_return       0\n",
       "yes_reply_no_return      0\n",
       "dtype: int64"
      ]
     },
     "execution_count": 24,
     "metadata": {},
     "output_type": "execute_result"
    }
   ],
   "source": [
    "df.isna().sum()"
   ]
  },
  {
   "cell_type": "code",
   "execution_count": 25,
   "metadata": {},
   "outputs": [],
   "source": [
    "df = df.dropna()"
   ]
  },
  {
   "cell_type": "code",
   "execution_count": 26,
   "metadata": {},
   "outputs": [],
   "source": [
    "tld_pattern_compiled = re.compile(r\"(@.+\\.)(\\w+)\")\n",
    "def get_tld(email):\n",
    "    return tld_pattern_compiled.search(email).groups()[1]\n",
    "    \n",
    "df[\"top_level_domain\"] = df[\"sender_email\"].apply(get_tld)"
   ]
  },
  {
   "cell_type": "code",
   "execution_count": 27,
   "metadata": {},
   "outputs": [
    {
     "data": {
      "text/plain": [
       "com     6873\n",
       "net     2108\n",
       "org      424\n",
       "de       311\n",
       "uk       302\n",
       "        ... \n",
       "name       1\n",
       "su         1\n",
       "ma         1\n",
       "er         1\n",
       "ps         1\n",
       "Name: top_level_domain, Length: 150, dtype: int64"
      ]
     },
     "execution_count": 27,
     "metadata": {},
     "output_type": "execute_result"
    }
   ],
   "source": [
    "df[\"top_level_domain\"].value_counts()"
   ]
  },
  {
   "cell_type": "code",
   "execution_count": 28,
   "metadata": {},
   "outputs": [
    {
     "data": {
      "text/html": [
       "<div>\n",
       "<style scoped>\n",
       "    .dataframe tbody tr th:only-of-type {\n",
       "        vertical-align: middle;\n",
       "    }\n",
       "\n",
       "    .dataframe tbody tr th {\n",
       "        vertical-align: top;\n",
       "    }\n",
       "\n",
       "    .dataframe thead th {\n",
       "        text-align: right;\n",
       "    }\n",
       "</style>\n",
       "<table border=\"1\" class=\"dataframe\">\n",
       "  <thead>\n",
       "    <tr style=\"text-align: right;\">\n",
       "      <th></th>\n",
       "      <th>sender_email</th>\n",
       "      <th>Label</th>\n",
       "      <th>has_inline_image</th>\n",
       "      <th>no_return_path</th>\n",
       "      <th>no_reply_no_return</th>\n",
       "      <th>yes_reply_no_return</th>\n",
       "      <th>top_level_domain</th>\n",
       "    </tr>\n",
       "  </thead>\n",
       "  <tbody>\n",
       "    <tr>\n",
       "      <th>0</th>\n",
       "      <td>rssfeeds@example.com</td>\n",
       "      <td>Ham</td>\n",
       "      <td>False</td>\n",
       "      <td>False</td>\n",
       "      <td>False</td>\n",
       "      <td>False</td>\n",
       "      <td>com</td>\n",
       "    </tr>\n",
       "    <tr>\n",
       "      <th>1</th>\n",
       "      <td>thompson@shelob.ce.ttu.edu</td>\n",
       "      <td>Ham</td>\n",
       "      <td>False</td>\n",
       "      <td>False</td>\n",
       "      <td>False</td>\n",
       "      <td>False</td>\n",
       "      <td>edu</td>\n",
       "    </tr>\n",
       "    <tr>\n",
       "      <th>2</th>\n",
       "      <td>beberg@mithral.com</td>\n",
       "      <td>Ham</td>\n",
       "      <td>False</td>\n",
       "      <td>False</td>\n",
       "      <td>False</td>\n",
       "      <td>False</td>\n",
       "      <td>com</td>\n",
       "    </tr>\n",
       "    <tr>\n",
       "      <th>3</th>\n",
       "      <td>rssfeeds@example.com</td>\n",
       "      <td>Ham</td>\n",
       "      <td>False</td>\n",
       "      <td>False</td>\n",
       "      <td>False</td>\n",
       "      <td>False</td>\n",
       "      <td>com</td>\n",
       "    </tr>\n",
       "    <tr>\n",
       "      <th>4</th>\n",
       "      <td>garym@canada.com</td>\n",
       "      <td>Ham</td>\n",
       "      <td>False</td>\n",
       "      <td>False</td>\n",
       "      <td>False</td>\n",
       "      <td>False</td>\n",
       "      <td>com</td>\n",
       "    </tr>\n",
       "  </tbody>\n",
       "</table>\n",
       "</div>"
      ],
      "text/plain": [
       "                 sender_email Label  has_inline_image  no_return_path  \\\n",
       "0        rssfeeds@example.com   Ham             False           False   \n",
       "1  thompson@shelob.ce.ttu.edu   Ham             False           False   \n",
       "2          beberg@mithral.com   Ham             False           False   \n",
       "3        rssfeeds@example.com   Ham             False           False   \n",
       "4            garym@canada.com   Ham             False           False   \n",
       "\n",
       "   no_reply_no_return  yes_reply_no_return top_level_domain  \n",
       "0               False                False              com  \n",
       "1               False                False              edu  \n",
       "2               False                False              com  \n",
       "3               False                False              com  \n",
       "4               False                False              com  "
      ]
     },
     "execution_count": 28,
     "metadata": {},
     "output_type": "execute_result"
    }
   ],
   "source": [
    "df.head()"
   ]
  },
  {
   "cell_type": "code",
   "execution_count": 29,
   "metadata": {},
   "outputs": [],
   "source": [
    "account_pattern_compiled = re.compile(r\"(.+@)\")\n",
    "def get_account(email):\n",
    "    return account_pattern_compiled.search(email).groups()[0][:-1]\n",
    "    \n",
    "df[\"account_name\"] = df[\"sender_email\"].apply(get_account)"
   ]
  },
  {
   "cell_type": "code",
   "execution_count": 30,
   "metadata": {},
   "outputs": [],
   "source": [
    "domain_pattern_compiled = re.compile(r\"(@.+)(\\.\\w+)\")\n",
    "def get_domain(email):\n",
    "    return domain_pattern_compiled.search(email).groups()[0][1:]\n",
    "    \n",
    "df[\"domain\"] = df[\"sender_email\"].apply(get_domain)"
   ]
  },
  {
   "cell_type": "code",
   "execution_count": 31,
   "metadata": {},
   "outputs": [
    {
     "data": {
      "text/html": [
       "<div>\n",
       "<style scoped>\n",
       "    .dataframe tbody tr th:only-of-type {\n",
       "        vertical-align: middle;\n",
       "    }\n",
       "\n",
       "    .dataframe tbody tr th {\n",
       "        vertical-align: top;\n",
       "    }\n",
       "\n",
       "    .dataframe thead th {\n",
       "        text-align: right;\n",
       "    }\n",
       "</style>\n",
       "<table border=\"1\" class=\"dataframe\">\n",
       "  <thead>\n",
       "    <tr style=\"text-align: right;\">\n",
       "      <th></th>\n",
       "      <th>account_name</th>\n",
       "      <th>top_level_domain</th>\n",
       "      <th>domain</th>\n",
       "      <th>Label</th>\n",
       "    </tr>\n",
       "  </thead>\n",
       "  <tbody>\n",
       "    <tr>\n",
       "      <th>2468</th>\n",
       "      <td>info</td>\n",
       "      <td>com</td>\n",
       "      <td>smokesdirect</td>\n",
       "      <td>Spam</td>\n",
       "    </tr>\n",
       "    <tr>\n",
       "      <th>7419</th>\n",
       "      <td>vhgkqpjvwejcrh</td>\n",
       "      <td>com</td>\n",
       "      <td>emiliomorenatti</td>\n",
       "      <td>Spam</td>\n",
       "    </tr>\n",
       "    <tr>\n",
       "      <th>10910</th>\n",
       "      <td>heinrich</td>\n",
       "      <td>net</td>\n",
       "      <td>3n</td>\n",
       "      <td>Spam</td>\n",
       "    </tr>\n",
       "    <tr>\n",
       "      <th>8861</th>\n",
       "      <td>noconnor_ep</td>\n",
       "      <td>net</td>\n",
       "      <td>mediaone</td>\n",
       "      <td>Spam</td>\n",
       "    </tr>\n",
       "    <tr>\n",
       "      <th>11000</th>\n",
       "      <td>kathleen_worley_35</td>\n",
       "      <td>nl</td>\n",
       "      <td>vdschoor.myweb</td>\n",
       "      <td>Spam</td>\n",
       "    </tr>\n",
       "    <tr>\n",
       "      <th>10354</th>\n",
       "      <td>TQYRV</td>\n",
       "      <td>com</td>\n",
       "      <td>chroddii</td>\n",
       "      <td>Spam</td>\n",
       "    </tr>\n",
       "    <tr>\n",
       "      <th>5723</th>\n",
       "      <td>bookstoredolan</td>\n",
       "      <td>com</td>\n",
       "      <td>lebaron</td>\n",
       "      <td>Spam</td>\n",
       "    </tr>\n",
       "    <tr>\n",
       "      <th>8630</th>\n",
       "      <td>kdgcistt</td>\n",
       "      <td>com</td>\n",
       "      <td>anjungcafe</td>\n",
       "      <td>Spam</td>\n",
       "    </tr>\n",
       "    <tr>\n",
       "      <th>7664</th>\n",
       "      <td>carton</td>\n",
       "      <td>com</td>\n",
       "      <td>smoke.savquest</td>\n",
       "      <td>Spam</td>\n",
       "    </tr>\n",
       "    <tr>\n",
       "      <th>9274</th>\n",
       "      <td>stockpoint</td>\n",
       "      <td>net</td>\n",
       "      <td>Venturepro.prserv</td>\n",
       "      <td>Spam</td>\n",
       "    </tr>\n",
       "  </tbody>\n",
       "</table>\n",
       "</div>"
      ],
      "text/plain": [
       "             account_name top_level_domain             domain Label\n",
       "2468                 info              com       smokesdirect  Spam\n",
       "7419       vhgkqpjvwejcrh              com    emiliomorenatti  Spam\n",
       "10910            heinrich              net                 3n  Spam\n",
       "8861          noconnor_ep              net           mediaone  Spam\n",
       "11000  kathleen_worley_35               nl     vdschoor.myweb  Spam\n",
       "10354               TQYRV              com           chroddii  Spam\n",
       "5723       bookstoredolan              com            lebaron  Spam\n",
       "8630             kdgcistt              com         anjungcafe  Spam\n",
       "7664               carton              com     smoke.savquest  Spam\n",
       "9274           stockpoint              net  Venturepro.prserv  Spam"
      ]
     },
     "execution_count": 31,
     "metadata": {},
     "output_type": "execute_result"
    }
   ],
   "source": [
    "df[df.Label == \"Spam\"][[\"account_name\",\"top_level_domain\",\"domain\",\"Label\"]].sample(10)"
   ]
  },
  {
   "cell_type": "code",
   "execution_count": 32,
   "metadata": {},
   "outputs": [
    {
     "data": {
      "text/html": [
       "<div>\n",
       "<style scoped>\n",
       "    .dataframe tbody tr th:only-of-type {\n",
       "        vertical-align: middle;\n",
       "    }\n",
       "\n",
       "    .dataframe tbody tr th {\n",
       "        vertical-align: top;\n",
       "    }\n",
       "\n",
       "    .dataframe thead th {\n",
       "        text-align: right;\n",
       "    }\n",
       "</style>\n",
       "<table border=\"1\" class=\"dataframe\">\n",
       "  <thead>\n",
       "    <tr style=\"text-align: right;\">\n",
       "      <th></th>\n",
       "      <th>account_name</th>\n",
       "      <th>top_level_domain</th>\n",
       "      <th>domain</th>\n",
       "      <th>Label</th>\n",
       "    </tr>\n",
       "  </thead>\n",
       "  <tbody>\n",
       "    <tr>\n",
       "      <th>1228</th>\n",
       "      <td>dl</td>\n",
       "      <td>com</td>\n",
       "      <td>silcom</td>\n",
       "      <td>Ham</td>\n",
       "    </tr>\n",
       "    <tr>\n",
       "      <th>988</th>\n",
       "      <td>rssfeeds</td>\n",
       "      <td>com</td>\n",
       "      <td>example</td>\n",
       "      <td>Ham</td>\n",
       "    </tr>\n",
       "    <tr>\n",
       "      <th>454</th>\n",
       "      <td>mail</td>\n",
       "      <td>net</td>\n",
       "      <td>vipul</td>\n",
       "      <td>Ham</td>\n",
       "    </tr>\n",
       "    <tr>\n",
       "      <th>1493</th>\n",
       "      <td>rssfeeds</td>\n",
       "      <td>com</td>\n",
       "      <td>example</td>\n",
       "      <td>Ham</td>\n",
       "    </tr>\n",
       "    <tr>\n",
       "      <th>61</th>\n",
       "      <td>hoppel</td>\n",
       "      <td>mil</td>\n",
       "      <td>opt.nrl.navy</td>\n",
       "      <td>Ham</td>\n",
       "    </tr>\n",
       "    <tr>\n",
       "      <th>393</th>\n",
       "      <td>rssfeeds</td>\n",
       "      <td>com</td>\n",
       "      <td>example</td>\n",
       "      <td>Ham</td>\n",
       "    </tr>\n",
       "    <tr>\n",
       "      <th>2409</th>\n",
       "      <td>listuser</td>\n",
       "      <td>edu</td>\n",
       "      <td>neo.pittstate</td>\n",
       "      <td>Ham</td>\n",
       "    </tr>\n",
       "    <tr>\n",
       "      <th>2374</th>\n",
       "      <td>deafbox</td>\n",
       "      <td>com</td>\n",
       "      <td>hotmail</td>\n",
       "      <td>Ham</td>\n",
       "    </tr>\n",
       "    <tr>\n",
       "      <th>505</th>\n",
       "      <td>rssfeeds</td>\n",
       "      <td>com</td>\n",
       "      <td>example</td>\n",
       "      <td>Ham</td>\n",
       "    </tr>\n",
       "    <tr>\n",
       "      <th>1326</th>\n",
       "      <td>geege4</td>\n",
       "      <td>net</td>\n",
       "      <td>bellsouth</td>\n",
       "      <td>Ham</td>\n",
       "    </tr>\n",
       "  </tbody>\n",
       "</table>\n",
       "</div>"
      ],
      "text/plain": [
       "     account_name top_level_domain         domain Label\n",
       "1228           dl              com         silcom   Ham\n",
       "988      rssfeeds              com        example   Ham\n",
       "454          mail              net          vipul   Ham\n",
       "1493     rssfeeds              com        example   Ham\n",
       "61         hoppel              mil   opt.nrl.navy   Ham\n",
       "393      rssfeeds              com        example   Ham\n",
       "2409     listuser              edu  neo.pittstate   Ham\n",
       "2374      deafbox              com        hotmail   Ham\n",
       "505      rssfeeds              com        example   Ham\n",
       "1326       geege4              net      bellsouth   Ham"
      ]
     },
     "execution_count": 32,
     "metadata": {},
     "output_type": "execute_result"
    }
   ],
   "source": [
    "df[df.Label == \"Ham\"][[\"account_name\",\"top_level_domain\",\"domain\",\"Label\"]].sample(10)"
   ]
  },
  {
   "cell_type": "code",
   "execution_count": 33,
   "metadata": {},
   "outputs": [
    {
     "data": {
      "text/plain": [
       "com     5557\n",
       "net     1652\n",
       "de       299\n",
       "uk       276\n",
       "org      166\n",
       "        ... \n",
       "name       1\n",
       "su         1\n",
       "ma         1\n",
       "er         1\n",
       "ps         1\n",
       "Name: top_level_domain, Length: 145, dtype: int64"
      ]
     },
     "execution_count": 33,
     "metadata": {},
     "output_type": "execute_result"
    }
   ],
   "source": [
    "df[df[\"Label\"] == \"Spam\"][\"top_level_domain\"].value_counts()"
   ]
  },
  {
   "cell_type": "code",
   "execution_count": 34,
   "metadata": {},
   "outputs": [
    {
     "data": {
      "text/plain": [
       "com    1316\n",
       "net     456\n",
       "org     258\n",
       "edu      83\n",
       "Com      39\n",
       "ie       38\n",
       "uk       26\n",
       "AU       25\n",
       "ch       22\n",
       "au       21\n",
       "ca       19\n",
       "fm       13\n",
       "fi       13\n",
       "de       12\n",
       "be        8\n",
       "at        7\n",
       "COM       6\n",
       "fr        5\n",
       "nu        5\n",
       "FI        5\n",
       "EDU       5\n",
       "it        5\n",
       "ru        4\n",
       "to        4\n",
       "za        2\n",
       "ph        2\n",
       "br        2\n",
       "bz        2\n",
       "us        2\n",
       "es        1\n",
       "mx        1\n",
       "dk        1\n",
       "mil       1\n",
       "ee        1\n",
       "Name: top_level_domain, dtype: int64"
      ]
     },
     "execution_count": 34,
     "metadata": {},
     "output_type": "execute_result"
    }
   ],
   "source": [
    "df[df[\"Label\"] == \"Ham\"][\"top_level_domain\"].value_counts()"
   ]
  },
  {
   "cell_type": "code",
   "execution_count": 35,
   "metadata": {},
   "outputs": [
    {
     "data": {
      "text/plain": [
       "yahoo                                     529\n",
       "hotmail                                   222\n",
       "netscape                                   70\n",
       "msn                                        66\n",
       "yahoo.co                                   65\n",
       "                                         ... \n",
       "rgid                                        1\n",
       "millennium.co                               1\n",
       "jositi.bigsavingsguy                        1\n",
       "ACaen-251-1-37-214.w83-115.abo.wanadoo      1\n",
       "dcsri                                       1\n",
       "Name: domain, Length: 4915, dtype: int64"
      ]
     },
     "execution_count": 35,
     "metadata": {},
     "output_type": "execute_result"
    }
   ],
   "source": [
    "df[df[\"Label\"] == \"Spam\"][\"domain\"].value_counts()"
   ]
  },
  {
   "cell_type": "code",
   "execution_count": 36,
   "metadata": {},
   "outputs": [
    {
     "data": {
      "text/plain": [
       "example         649\n",
       "hotmail          58\n",
       "slack            57\n",
       "perl             56\n",
       "comcast          45\n",
       "               ... \n",
       "motorola          1\n",
       "firstusa          1\n",
       "blu               1\n",
       "bite-ltd          1\n",
       "kssp.upd.edu      1\n",
       "Name: domain, Length: 355, dtype: int64"
      ]
     },
     "execution_count": 36,
     "metadata": {},
     "output_type": "execute_result"
    }
   ],
   "source": [
    "df[df[\"Label\"] == \"Ham\"][\"domain\"].value_counts()"
   ]
  },
  {
   "cell_type": "code",
   "execution_count": 37,
   "metadata": {},
   "outputs": [
    {
     "data": {
      "text/plain": [
       "43.45120894699535"
      ]
     },
     "execution_count": 37,
     "metadata": {},
     "output_type": "execute_result"
    }
   ],
   "source": [
    "df[df[\"account_name\"] == \"rssfeeds\"].size / len(df) * 100"
   ]
  },
  {
   "cell_type": "code",
   "execution_count": 38,
   "metadata": {},
   "outputs": [
    {
     "data": {
      "text/plain": [
       "0.0"
      ]
     },
     "execution_count": 38,
     "metadata": {},
     "output_type": "execute_result"
    }
   ],
   "source": [
    "df[(df[\"account_name\"] == \"rssfeeds\") & (df[\"Label\"] == \"Spam\")].size /df[df[\"account_name\"] == \"rssfeeds\"].size  * 100"
   ]
  },
  {
   "cell_type": "code",
   "execution_count": 39,
   "metadata": {},
   "outputs": [
    {
     "data": {
      "text/plain": [
       "100.0"
      ]
     },
     "execution_count": 39,
     "metadata": {},
     "output_type": "execute_result"
    }
   ],
   "source": [
    "df[(df[\"account_name\"] == \"rssfeeds\") & (df[\"Label\"] == \"Ham\")].size /df[df[\"account_name\"] == \"rssfeeds\"].size  * 100"
   ]
  },
  {
   "cell_type": "markdown",
   "metadata": {},
   "source": [
    "### In Production while predicting:\n",
    "    if rss in sender_mail, and user likes rss feeds: Ham else Spam"
   ]
  },
  {
   "cell_type": "code",
   "execution_count": 40,
   "metadata": {},
   "outputs": [],
   "source": [
    "df.drop(df[df[\"account_name\"] == \"rssfeeds\"].index,inplace=True)"
   ]
  },
  {
   "cell_type": "code",
   "execution_count": 41,
   "metadata": {},
   "outputs": [],
   "source": [
    "df[\"free_in_domain\"] = df[\"domain\"].map(lambda x: \"free\" in x)\n",
    "df[\"free_in_account\"] = df[\"account_name\"].map(lambda x: \"free\" in x)"
   ]
  },
  {
   "cell_type": "code",
   "execution_count": 42,
   "metadata": {},
   "outputs": [
    {
     "name": "stderr",
     "output_type": "stream",
     "text": [
      "/Users/susmitvengurlekar/opt/miniconda3/lib/python3.7/site-packages/ipykernel_launcher.py:1: FutureWarning: Indexing with multiple keys (implicitly converted to a tuple of keys) will be deprecated, use a list instead.\n",
      "  \"\"\"Entry point for launching an IPython kernel.\n"
     ]
    },
    {
     "data": {
      "text/html": [
       "<div>\n",
       "<style scoped>\n",
       "    .dataframe tbody tr th:only-of-type {\n",
       "        vertical-align: middle;\n",
       "    }\n",
       "\n",
       "    .dataframe tbody tr th {\n",
       "        vertical-align: top;\n",
       "    }\n",
       "\n",
       "    .dataframe thead th {\n",
       "        text-align: right;\n",
       "    }\n",
       "</style>\n",
       "<table border=\"1\" class=\"dataframe\">\n",
       "  <thead>\n",
       "    <tr style=\"text-align: right;\">\n",
       "      <th></th>\n",
       "      <th>free_in_domain</th>\n",
       "      <th>free_in_account</th>\n",
       "    </tr>\n",
       "    <tr>\n",
       "      <th>Label</th>\n",
       "      <th></th>\n",
       "      <th></th>\n",
       "    </tr>\n",
       "  </thead>\n",
       "  <tbody>\n",
       "    <tr>\n",
       "      <th>Ham</th>\n",
       "      <td>0.111297</td>\n",
       "      <td>0.000000</td>\n",
       "    </tr>\n",
       "    <tr>\n",
       "      <th>Spam</th>\n",
       "      <td>1.866433</td>\n",
       "      <td>0.087489</td>\n",
       "    </tr>\n",
       "  </tbody>\n",
       "</table>\n",
       "</div>"
      ],
      "text/plain": [
       "       free_in_domain  free_in_account\n",
       "Label                                 \n",
       "Ham          0.111297         0.000000\n",
       "Spam         1.866433         0.087489"
      ]
     },
     "execution_count": 42,
     "metadata": {},
     "output_type": "execute_result"
    }
   ],
   "source": [
    "df.groupby(\"Label\")['free_in_domain',\"free_in_account\"].mean()*100"
   ]
  },
  {
   "cell_type": "code",
   "execution_count": 43,
   "metadata": {},
   "outputs": [
    {
     "data": {
      "text/html": [
       "<div>\n",
       "<style scoped>\n",
       "    .dataframe tbody tr th:only-of-type {\n",
       "        vertical-align: middle;\n",
       "    }\n",
       "\n",
       "    .dataframe tbody tr th {\n",
       "        vertical-align: top;\n",
       "    }\n",
       "\n",
       "    .dataframe thead th {\n",
       "        text-align: right;\n",
       "    }\n",
       "</style>\n",
       "<table border=\"1\" class=\"dataframe\">\n",
       "  <thead>\n",
       "    <tr style=\"text-align: right;\">\n",
       "      <th></th>\n",
       "      <th>sender_email</th>\n",
       "      <th>Label</th>\n",
       "      <th>has_inline_image</th>\n",
       "      <th>no_return_path</th>\n",
       "      <th>no_reply_no_return</th>\n",
       "      <th>yes_reply_no_return</th>\n",
       "      <th>top_level_domain</th>\n",
       "      <th>account_name</th>\n",
       "      <th>domain</th>\n",
       "      <th>free_in_domain</th>\n",
       "      <th>free_in_account</th>\n",
       "    </tr>\n",
       "  </thead>\n",
       "  <tbody>\n",
       "    <tr>\n",
       "      <th>1</th>\n",
       "      <td>thompson@shelob.ce.ttu.edu</td>\n",
       "      <td>Ham</td>\n",
       "      <td>False</td>\n",
       "      <td>False</td>\n",
       "      <td>False</td>\n",
       "      <td>False</td>\n",
       "      <td>edu</td>\n",
       "      <td>thompson</td>\n",
       "      <td>shelob.ce.ttu</td>\n",
       "      <td>False</td>\n",
       "      <td>False</td>\n",
       "    </tr>\n",
       "    <tr>\n",
       "      <th>2</th>\n",
       "      <td>beberg@mithral.com</td>\n",
       "      <td>Ham</td>\n",
       "      <td>False</td>\n",
       "      <td>False</td>\n",
       "      <td>False</td>\n",
       "      <td>False</td>\n",
       "      <td>com</td>\n",
       "      <td>beberg</td>\n",
       "      <td>mithral</td>\n",
       "      <td>False</td>\n",
       "      <td>False</td>\n",
       "    </tr>\n",
       "    <tr>\n",
       "      <th>4</th>\n",
       "      <td>garym@canada.com</td>\n",
       "      <td>Ham</td>\n",
       "      <td>False</td>\n",
       "      <td>False</td>\n",
       "      <td>False</td>\n",
       "      <td>False</td>\n",
       "      <td>com</td>\n",
       "      <td>garym</td>\n",
       "      <td>canada</td>\n",
       "      <td>False</td>\n",
       "      <td>False</td>\n",
       "    </tr>\n",
       "    <tr>\n",
       "      <th>5</th>\n",
       "      <td>kragen@pobox.com</td>\n",
       "      <td>Ham</td>\n",
       "      <td>False</td>\n",
       "      <td>False</td>\n",
       "      <td>False</td>\n",
       "      <td>False</td>\n",
       "      <td>com</td>\n",
       "      <td>kragen</td>\n",
       "      <td>pobox</td>\n",
       "      <td>False</td>\n",
       "      <td>False</td>\n",
       "    </tr>\n",
       "    <tr>\n",
       "      <th>6</th>\n",
       "      <td>paul@cwie.net</td>\n",
       "      <td>Ham</td>\n",
       "      <td>False</td>\n",
       "      <td>False</td>\n",
       "      <td>False</td>\n",
       "      <td>False</td>\n",
       "      <td>net</td>\n",
       "      <td>paul</td>\n",
       "      <td>cwie</td>\n",
       "      <td>False</td>\n",
       "      <td>False</td>\n",
       "    </tr>\n",
       "  </tbody>\n",
       "</table>\n",
       "</div>"
      ],
      "text/plain": [
       "                 sender_email Label  has_inline_image  no_return_path  \\\n",
       "1  thompson@shelob.ce.ttu.edu   Ham             False           False   \n",
       "2          beberg@mithral.com   Ham             False           False   \n",
       "4            garym@canada.com   Ham             False           False   \n",
       "5            kragen@pobox.com   Ham             False           False   \n",
       "6               paul@cwie.net   Ham             False           False   \n",
       "\n",
       "   no_reply_no_return  yes_reply_no_return top_level_domain account_name  \\\n",
       "1               False                False              edu     thompson   \n",
       "2               False                False              com       beberg   \n",
       "4               False                False              com        garym   \n",
       "5               False                False              com       kragen   \n",
       "6               False                False              net         paul   \n",
       "\n",
       "          domain  free_in_domain  free_in_account  \n",
       "1  shelob.ce.ttu           False            False  \n",
       "2        mithral           False            False  \n",
       "4         canada           False            False  \n",
       "5          pobox           False            False  \n",
       "6           cwie           False            False  "
      ]
     },
     "execution_count": 43,
     "metadata": {},
     "output_type": "execute_result"
    }
   ],
   "source": [
    "df.head()"
   ]
  },
  {
   "cell_type": "code",
   "execution_count": 46,
   "metadata": {},
   "outputs": [
    {
     "data": {
      "text/html": [
       "<div>\n",
       "<style scoped>\n",
       "    .dataframe tbody tr th:only-of-type {\n",
       "        vertical-align: middle;\n",
       "    }\n",
       "\n",
       "    .dataframe tbody tr th {\n",
       "        vertical-align: top;\n",
       "    }\n",
       "\n",
       "    .dataframe thead th {\n",
       "        text-align: right;\n",
       "    }\n",
       "</style>\n",
       "<table border=\"1\" class=\"dataframe\">\n",
       "  <thead>\n",
       "    <tr style=\"text-align: right;\">\n",
       "      <th></th>\n",
       "      <th>account_name</th>\n",
       "      <th>Label</th>\n",
       "    </tr>\n",
       "  </thead>\n",
       "  <tbody>\n",
       "    <tr>\n",
       "      <th>3174</th>\n",
       "      <td>zafvyst</td>\n",
       "      <td>Spam</td>\n",
       "    </tr>\n",
       "    <tr>\n",
       "      <th>4963</th>\n",
       "      <td>-UXWPOST</td>\n",
       "      <td>Spam</td>\n",
       "    </tr>\n",
       "    <tr>\n",
       "      <th>4427</th>\n",
       "      <td>wcypzmujhxzcoy</td>\n",
       "      <td>Spam</td>\n",
       "    </tr>\n",
       "    <tr>\n",
       "      <th>11755</th>\n",
       "      <td>bob</td>\n",
       "      <td>Spam</td>\n",
       "    </tr>\n",
       "    <tr>\n",
       "      <th>4751</th>\n",
       "      <td>psawyer_pf</td>\n",
       "      <td>Spam</td>\n",
       "    </tr>\n",
       "    <tr>\n",
       "      <th>6096</th>\n",
       "      <td>marketplaza</td>\n",
       "      <td>Spam</td>\n",
       "    </tr>\n",
       "    <tr>\n",
       "      <th>2774</th>\n",
       "      <td>home_loans</td>\n",
       "      <td>Spam</td>\n",
       "    </tr>\n",
       "    <tr>\n",
       "      <th>3093</th>\n",
       "      <td>Claudia_Fechtner</td>\n",
       "      <td>Spam</td>\n",
       "    </tr>\n",
       "    <tr>\n",
       "      <th>12235</th>\n",
       "      <td>maiolica</td>\n",
       "      <td>Spam</td>\n",
       "    </tr>\n",
       "    <tr>\n",
       "      <th>12412</th>\n",
       "      <td>g.velez_on</td>\n",
       "      <td>Spam</td>\n",
       "    </tr>\n",
       "  </tbody>\n",
       "</table>\n",
       "</div>"
      ],
      "text/plain": [
       "           account_name Label\n",
       "3174            zafvyst  Spam\n",
       "4963           -UXWPOST  Spam\n",
       "4427     wcypzmujhxzcoy  Spam\n",
       "11755               bob  Spam\n",
       "4751         psawyer_pf  Spam\n",
       "6096        marketplaza  Spam\n",
       "2774         home_loans  Spam\n",
       "3093   Claudia_Fechtner  Spam\n",
       "12235          maiolica  Spam\n",
       "12412        g.velez_on  Spam"
      ]
     },
     "execution_count": 46,
     "metadata": {},
     "output_type": "execute_result"
    }
   ],
   "source": [
    "df[df.Label == \"Spam\"][[\"account_name\",\"Label\"]].sample(10)"
   ]
  },
  {
   "cell_type": "code",
   "execution_count": 47,
   "metadata": {},
   "outputs": [
    {
     "data": {
      "text/html": [
       "<div>\n",
       "<style scoped>\n",
       "    .dataframe tbody tr th:only-of-type {\n",
       "        vertical-align: middle;\n",
       "    }\n",
       "\n",
       "    .dataframe tbody tr th {\n",
       "        vertical-align: top;\n",
       "    }\n",
       "\n",
       "    .dataframe thead th {\n",
       "        text-align: right;\n",
       "    }\n",
       "</style>\n",
       "<table border=\"1\" class=\"dataframe\">\n",
       "  <thead>\n",
       "    <tr style=\"text-align: right;\">\n",
       "      <th></th>\n",
       "      <th>account_name</th>\n",
       "      <th>Label</th>\n",
       "    </tr>\n",
       "  </thead>\n",
       "  <tbody>\n",
       "    <tr>\n",
       "      <th>2233</th>\n",
       "      <td>bigpeted</td>\n",
       "      <td>Ham</td>\n",
       "    </tr>\n",
       "    <tr>\n",
       "      <th>1533</th>\n",
       "      <td>yyyy</td>\n",
       "      <td>Ham</td>\n",
       "    </tr>\n",
       "    <tr>\n",
       "      <th>161</th>\n",
       "      <td>kevinc</td>\n",
       "      <td>Ham</td>\n",
       "    </tr>\n",
       "    <tr>\n",
       "      <th>854</th>\n",
       "      <td>matthias</td>\n",
       "      <td>Ham</td>\n",
       "    </tr>\n",
       "    <tr>\n",
       "      <th>2184</th>\n",
       "      <td>Axel.Thimm</td>\n",
       "      <td>Ham</td>\n",
       "    </tr>\n",
       "    <tr>\n",
       "      <th>1254</th>\n",
       "      <td>cdale</td>\n",
       "      <td>Ham</td>\n",
       "    </tr>\n",
       "    <tr>\n",
       "      <th>777</th>\n",
       "      <td>harley</td>\n",
       "      <td>Ham</td>\n",
       "    </tr>\n",
       "    <tr>\n",
       "      <th>336</th>\n",
       "      <td>tomwhore</td>\n",
       "      <td>Ham</td>\n",
       "    </tr>\n",
       "    <tr>\n",
       "      <th>581</th>\n",
       "      <td>tony</td>\n",
       "      <td>Ham</td>\n",
       "    </tr>\n",
       "    <tr>\n",
       "      <th>1666</th>\n",
       "      <td>thomas</td>\n",
       "      <td>Ham</td>\n",
       "    </tr>\n",
       "  </tbody>\n",
       "</table>\n",
       "</div>"
      ],
      "text/plain": [
       "     account_name Label\n",
       "2233     bigpeted   Ham\n",
       "1533         yyyy   Ham\n",
       "161        kevinc   Ham\n",
       "854      matthias   Ham\n",
       "2184   Axel.Thimm   Ham\n",
       "1254        cdale   Ham\n",
       "777        harley   Ham\n",
       "336      tomwhore   Ham\n",
       "581          tony   Ham\n",
       "1666       thomas   Ham"
      ]
     },
     "execution_count": 47,
     "metadata": {},
     "output_type": "execute_result"
    }
   ],
   "source": [
    "df[df.Label == \"Ham\"][[\"account_name\",\"Label\"]].sample(10)"
   ]
  },
  {
   "cell_type": "code",
   "execution_count": 48,
   "metadata": {},
   "outputs": [],
   "source": [
    "df.drop([\"sender_email\",\"free_in_account\",\"domain\",\"top_level_domain\"],axis=1,inplace=True)"
   ]
  },
  {
   "cell_type": "code",
   "execution_count": 49,
   "metadata": {},
   "outputs": [
    {
     "data": {
      "text/html": [
       "<div>\n",
       "<style scoped>\n",
       "    .dataframe tbody tr th:only-of-type {\n",
       "        vertical-align: middle;\n",
       "    }\n",
       "\n",
       "    .dataframe tbody tr th {\n",
       "        vertical-align: top;\n",
       "    }\n",
       "\n",
       "    .dataframe thead th {\n",
       "        text-align: right;\n",
       "    }\n",
       "</style>\n",
       "<table border=\"1\" class=\"dataframe\">\n",
       "  <thead>\n",
       "    <tr style=\"text-align: right;\">\n",
       "      <th></th>\n",
       "      <th>Label</th>\n",
       "      <th>has_inline_image</th>\n",
       "      <th>no_return_path</th>\n",
       "      <th>no_reply_no_return</th>\n",
       "      <th>yes_reply_no_return</th>\n",
       "      <th>account_name</th>\n",
       "      <th>free_in_domain</th>\n",
       "    </tr>\n",
       "  </thead>\n",
       "  <tbody>\n",
       "    <tr>\n",
       "      <th>1</th>\n",
       "      <td>Ham</td>\n",
       "      <td>False</td>\n",
       "      <td>False</td>\n",
       "      <td>False</td>\n",
       "      <td>False</td>\n",
       "      <td>thompson</td>\n",
       "      <td>False</td>\n",
       "    </tr>\n",
       "    <tr>\n",
       "      <th>2</th>\n",
       "      <td>Ham</td>\n",
       "      <td>False</td>\n",
       "      <td>False</td>\n",
       "      <td>False</td>\n",
       "      <td>False</td>\n",
       "      <td>beberg</td>\n",
       "      <td>False</td>\n",
       "    </tr>\n",
       "    <tr>\n",
       "      <th>4</th>\n",
       "      <td>Ham</td>\n",
       "      <td>False</td>\n",
       "      <td>False</td>\n",
       "      <td>False</td>\n",
       "      <td>False</td>\n",
       "      <td>garym</td>\n",
       "      <td>False</td>\n",
       "    </tr>\n",
       "    <tr>\n",
       "      <th>5</th>\n",
       "      <td>Ham</td>\n",
       "      <td>False</td>\n",
       "      <td>False</td>\n",
       "      <td>False</td>\n",
       "      <td>False</td>\n",
       "      <td>kragen</td>\n",
       "      <td>False</td>\n",
       "    </tr>\n",
       "    <tr>\n",
       "      <th>6</th>\n",
       "      <td>Ham</td>\n",
       "      <td>False</td>\n",
       "      <td>False</td>\n",
       "      <td>False</td>\n",
       "      <td>False</td>\n",
       "      <td>paul</td>\n",
       "      <td>False</td>\n",
       "    </tr>\n",
       "  </tbody>\n",
       "</table>\n",
       "</div>"
      ],
      "text/plain": [
       "  Label  has_inline_image  no_return_path  no_reply_no_return  \\\n",
       "1   Ham             False           False               False   \n",
       "2   Ham             False           False               False   \n",
       "4   Ham             False           False               False   \n",
       "5   Ham             False           False               False   \n",
       "6   Ham             False           False               False   \n",
       "\n",
       "   yes_reply_no_return account_name  free_in_domain  \n",
       "1                False     thompson           False  \n",
       "2                False       beberg           False  \n",
       "4                False        garym           False  \n",
       "5                False       kragen           False  \n",
       "6                False         paul           False  "
      ]
     },
     "execution_count": 49,
     "metadata": {},
     "output_type": "execute_result"
    }
   ],
   "source": [
    "df.head()"
   ]
  },
  {
   "cell_type": "markdown",
   "metadata": {},
   "source": [
    "# Feature Extraction From Subject, Text\n"
   ]
  },
  {
   "cell_type": "code",
   "execution_count": 50,
   "metadata": {},
   "outputs": [],
   "source": [
    "df = pd.read_csv(\"../Raw Data/extracted_body.csv\")"
   ]
  },
  {
   "cell_type": "code",
   "execution_count": 51,
   "metadata": {},
   "outputs": [
    {
     "data": {
      "text/plain": [
       "(15720, 3)"
      ]
     },
     "execution_count": 51,
     "metadata": {},
     "output_type": "execute_result"
    }
   ],
   "source": [
    "df.shape"
   ]
  },
  {
   "cell_type": "code",
   "execution_count": 52,
   "metadata": {},
   "outputs": [
    {
     "data": {
      "text/plain": [
       "Subject    247\n",
       "Text         7\n",
       "Label        0\n",
       "dtype: int64"
      ]
     },
     "execution_count": 52,
     "metadata": {},
     "output_type": "execute_result"
    }
   ],
   "source": [
    "df.isna().sum()"
   ]
  },
  {
   "cell_type": "code",
   "execution_count": null,
   "metadata": {},
   "outputs": [],
   "source": []
  }
 ],
 "metadata": {
  "kernelspec": {
   "display_name": "Python 3",
   "language": "python",
   "name": "python3"
  },
  "language_info": {
   "codemirror_mode": {
    "name": "ipython",
    "version": 3
   },
   "file_extension": ".py",
   "mimetype": "text/x-python",
   "name": "python",
   "nbconvert_exporter": "python",
   "pygments_lexer": "ipython3",
   "version": "3.7.6"
  },
  "toc": {
   "base_numbering": 1,
   "nav_menu": {},
   "number_sections": true,
   "sideBar": true,
   "skip_h1_title": false,
   "title_cell": "Table of Contents",
   "title_sidebar": "Contents",
   "toc_cell": false,
   "toc_position": {},
   "toc_section_display": true,
   "toc_window_display": false
  }
 },
 "nbformat": 4,
 "nbformat_minor": 4
}
