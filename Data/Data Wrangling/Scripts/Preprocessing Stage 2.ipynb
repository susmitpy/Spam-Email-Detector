{
 "cells": [
  {
   "cell_type": "code",
   "execution_count": 1,
   "metadata": {},
   "outputs": [
    {
     "name": "stderr",
     "output_type": "stream",
     "text": [
      "[nltk_data] Error loading punkt: <urlopen error [Errno 8] nodename nor\n",
      "[nltk_data]     servname provided, or not known>\n"
     ]
    }
   ],
   "source": [
    "import os\n",
    "import pandas as pd\n",
    "import numpy as np\n",
    "import nltk\n",
    "nltk.download('punkt')\n",
    "\n",
    "from nltk.stem import PorterStemmer\n",
    "from nltk.tokenize import word_tokenize"
   ]
  },
  {
   "cell_type": "code",
   "execution_count": 50,
   "metadata": {},
   "outputs": [],
   "source": [
    "df = pd.read_csv(\"../Processed Data/body_processed.csv\",keep_default_na=False)"
   ]
  },
  {
   "cell_type": "code",
   "execution_count": 51,
   "metadata": {},
   "outputs": [
    {
     "data": {
      "text/html": [
       "<div>\n",
       "<style scoped>\n",
       "    .dataframe tbody tr th:only-of-type {\n",
       "        vertical-align: middle;\n",
       "    }\n",
       "\n",
       "    .dataframe tbody tr th {\n",
       "        vertical-align: top;\n",
       "    }\n",
       "\n",
       "    .dataframe thead th {\n",
       "        text-align: right;\n",
       "    }\n",
       "</style>\n",
       "<table border=\"1\" class=\"dataframe\">\n",
       "  <thead>\n",
       "    <tr style=\"text-align: right;\">\n",
       "      <th></th>\n",
       "      <th>Subject</th>\n",
       "      <th>Text</th>\n",
       "      <th>Label</th>\n",
       "      <th>no_subject</th>\n",
       "      <th>no_text</th>\n",
       "      <th>is_html</th>\n",
       "      <th>http_count</th>\n",
       "    </tr>\n",
       "  </thead>\n",
       "  <tbody>\n",
       "    <tr>\n",
       "      <th>0</th>\n",
       "      <td>eless rubens works stolen raid mansion</td>\n",
       "      <td>url click date arts fourth art raid philanthro...</td>\n",
       "      <td>Ham</td>\n",
       "      <td>False</td>\n",
       "      <td>False</td>\n",
       "      <td>False</td>\n",
       "      <td>1</td>\n",
       "    </tr>\n",
       "    <tr>\n",
       "      <th>1</th>\n",
       "      <td>sorting</td>\n",
       "      <td>probably running exmh local machine running re...</td>\n",
       "      <td>Ham</td>\n",
       "      <td>False</td>\n",
       "      <td>False</td>\n",
       "      <td>False</td>\n",
       "      <td>1</td>\n",
       "    </tr>\n",
       "    <tr>\n",
       "      <th>2</th>\n",
       "      <td>java kiddies</td>\n",
       "      <td>sun sep reza far ebuilt wrote forces developer...</td>\n",
       "      <td>Ham</td>\n",
       "      <td>False</td>\n",
       "      <td>False</td>\n",
       "      <td>False</td>\n",
       "      <td>1</td>\n",
       "    </tr>\n",
       "    <tr>\n",
       "      <th>3</th>\n",
       "      <td>eboarder drives subway</td>\n",
       "      <td>url click date dekalb daily chronicle</td>\n",
       "      <td>Ham</td>\n",
       "      <td>False</td>\n",
       "      <td>False</td>\n",
       "      <td>False</td>\n",
       "      <td>1</td>\n",
       "    </tr>\n",
       "    <tr>\n",
       "      <th>4</th>\n",
       "      <td>canadians</td>\n",
       "      <td>owen byrne owen permafrost net writes local pa...</td>\n",
       "      <td>Ham</td>\n",
       "      <td>False</td>\n",
       "      <td>False</td>\n",
       "      <td>False</td>\n",
       "      <td>1</td>\n",
       "    </tr>\n",
       "  </tbody>\n",
       "</table>\n",
       "</div>"
      ],
      "text/plain": [
       "                                  Subject  \\\n",
       "0  eless rubens works stolen raid mansion   \n",
       "1                                 sorting   \n",
       "2                            java kiddies   \n",
       "3                  eboarder drives subway   \n",
       "4                               canadians   \n",
       "\n",
       "                                                Text Label  no_subject  \\\n",
       "0  url click date arts fourth art raid philanthro...   Ham       False   \n",
       "1  probably running exmh local machine running re...   Ham       False   \n",
       "2  sun sep reza far ebuilt wrote forces developer...   Ham       False   \n",
       "3              url click date dekalb daily chronicle   Ham       False   \n",
       "4  owen byrne owen permafrost net writes local pa...   Ham       False   \n",
       "\n",
       "   no_text  is_html  http_count  \n",
       "0    False    False           1  \n",
       "1    False    False           1  \n",
       "2    False    False           1  \n",
       "3    False    False           1  \n",
       "4    False    False           1  "
      ]
     },
     "execution_count": 51,
     "metadata": {},
     "output_type": "execute_result"
    }
   ],
   "source": [
    "df.head()"
   ]
  },
  {
   "cell_type": "code",
   "execution_count": 52,
   "metadata": {},
   "outputs": [
    {
     "data": {
      "text/plain": [
       "(15720, 7)"
      ]
     },
     "execution_count": 52,
     "metadata": {},
     "output_type": "execute_result"
    }
   ],
   "source": [
    "df.shape"
   ]
  },
  {
   "cell_type": "code",
   "execution_count": 53,
   "metadata": {},
   "outputs": [],
   "source": [
    "def stem_text(tokens):\n",
    "    ps = PorterStemmer()\n",
    "    combined = []\n",
    "    for token in tokens:\n",
    "        combined.append(ps.stem(token))\n",
    "    return \" \".join(combined)"
   ]
  },
  {
   "cell_type": "code",
   "execution_count": 54,
   "metadata": {},
   "outputs": [],
   "source": [
    "df[\"Text\"] = df[\"Text\"].map(lambda x: word_tokenize(x))\n",
    "df[\"Subject\"] = df[\"Subject\"].map(lambda x: word_tokenize(x))"
   ]
  },
  {
   "cell_type": "code",
   "execution_count": 55,
   "metadata": {},
   "outputs": [],
   "source": [
    "df[\"Text\"] = df[\"Text\"].map(stem_text)\n",
    "df[\"Subject\"] = df[\"Subject\"].map(stem_text)\n"
   ]
  },
  {
   "cell_type": "code",
   "execution_count": 57,
   "metadata": {},
   "outputs": [
    {
     "data": {
      "text/html": [
       "<div>\n",
       "<style scoped>\n",
       "    .dataframe tbody tr th:only-of-type {\n",
       "        vertical-align: middle;\n",
       "    }\n",
       "\n",
       "    .dataframe tbody tr th {\n",
       "        vertical-align: top;\n",
       "    }\n",
       "\n",
       "    .dataframe thead th {\n",
       "        text-align: right;\n",
       "    }\n",
       "</style>\n",
       "<table border=\"1\" class=\"dataframe\">\n",
       "  <thead>\n",
       "    <tr style=\"text-align: right;\">\n",
       "      <th></th>\n",
       "      <th>Subject</th>\n",
       "      <th>Text</th>\n",
       "      <th>Label</th>\n",
       "      <th>no_subject</th>\n",
       "      <th>no_text</th>\n",
       "      <th>is_html</th>\n",
       "      <th>http_count</th>\n",
       "    </tr>\n",
       "  </thead>\n",
       "  <tbody>\n",
       "    <tr>\n",
       "      <th>0</th>\n",
       "      <td>eless ruben work stolen raid mansion</td>\n",
       "      <td>url click date art fourth art raid philanthrop...</td>\n",
       "      <td>Ham</td>\n",
       "      <td>False</td>\n",
       "      <td>False</td>\n",
       "      <td>False</td>\n",
       "      <td>1</td>\n",
       "    </tr>\n",
       "    <tr>\n",
       "      <th>1</th>\n",
       "      <td>sort</td>\n",
       "      <td>probabl run exmh local machin run remot machin...</td>\n",
       "      <td>Ham</td>\n",
       "      <td>False</td>\n",
       "      <td>False</td>\n",
       "      <td>False</td>\n",
       "      <td>1</td>\n",
       "    </tr>\n",
       "    <tr>\n",
       "      <th>2</th>\n",
       "      <td>java kiddi</td>\n",
       "      <td>sun sep reza far ebuilt wrote forc develop sol...</td>\n",
       "      <td>Ham</td>\n",
       "      <td>False</td>\n",
       "      <td>False</td>\n",
       "      <td>False</td>\n",
       "      <td>1</td>\n",
       "    </tr>\n",
       "    <tr>\n",
       "      <th>3</th>\n",
       "      <td>eboard drive subway</td>\n",
       "      <td>url click date dekalb daili chronicl</td>\n",
       "      <td>Ham</td>\n",
       "      <td>False</td>\n",
       "      <td>False</td>\n",
       "      <td>False</td>\n",
       "      <td>1</td>\n",
       "    </tr>\n",
       "    <tr>\n",
       "      <th>4</th>\n",
       "      <td>canadian</td>\n",
       "      <td>owen byrn owen permafrost net write local pape...</td>\n",
       "      <td>Ham</td>\n",
       "      <td>False</td>\n",
       "      <td>False</td>\n",
       "      <td>False</td>\n",
       "      <td>1</td>\n",
       "    </tr>\n",
       "  </tbody>\n",
       "</table>\n",
       "</div>"
      ],
      "text/plain": [
       "                                Subject  \\\n",
       "0  eless ruben work stolen raid mansion   \n",
       "1                                  sort   \n",
       "2                            java kiddi   \n",
       "3                   eboard drive subway   \n",
       "4                              canadian   \n",
       "\n",
       "                                                Text Label  no_subject  \\\n",
       "0  url click date art fourth art raid philanthrop...   Ham       False   \n",
       "1  probabl run exmh local machin run remot machin...   Ham       False   \n",
       "2  sun sep reza far ebuilt wrote forc develop sol...   Ham       False   \n",
       "3               url click date dekalb daili chronicl   Ham       False   \n",
       "4  owen byrn owen permafrost net write local pape...   Ham       False   \n",
       "\n",
       "   no_text  is_html  http_count  \n",
       "0    False    False           1  \n",
       "1    False    False           1  \n",
       "2    False    False           1  \n",
       "3    False    False           1  \n",
       "4    False    False           1  "
      ]
     },
     "execution_count": 57,
     "metadata": {},
     "output_type": "execute_result"
    }
   ],
   "source": [
    "df.head()"
   ]
  },
  {
   "cell_type": "code",
   "execution_count": 63,
   "metadata": {},
   "outputs": [
    {
     "name": "stderr",
     "output_type": "stream",
     "text": [
      "/Users/susmitvengurlekar/opt/miniconda3/lib/python3.7/site-packages/ipykernel_launcher.py:1: FutureWarning: Indexing with multiple keys (implicitly converted to a tuple of keys) will be deprecated, use a list instead.\n",
      "  \"\"\"Entry point for launching an IPython kernel.\n"
     ]
    },
    {
     "data": {
      "text/html": [
       "<div>\n",
       "<style scoped>\n",
       "    .dataframe tbody tr th:only-of-type {\n",
       "        vertical-align: middle;\n",
       "    }\n",
       "\n",
       "    .dataframe tbody tr th {\n",
       "        vertical-align: top;\n",
       "    }\n",
       "\n",
       "    .dataframe thead th {\n",
       "        text-align: right;\n",
       "    }\n",
       "</style>\n",
       "<table border=\"1\" class=\"dataframe\">\n",
       "  <thead>\n",
       "    <tr style=\"text-align: right;\">\n",
       "      <th></th>\n",
       "      <th>no_text</th>\n",
       "      <th>no_subject</th>\n",
       "      <th>no_text</th>\n",
       "      <th>is_html</th>\n",
       "      <th>http_count</th>\n",
       "    </tr>\n",
       "    <tr>\n",
       "      <th>Label</th>\n",
       "      <th></th>\n",
       "      <th></th>\n",
       "      <th></th>\n",
       "      <th></th>\n",
       "      <th></th>\n",
       "    </tr>\n",
       "  </thead>\n",
       "  <tbody>\n",
       "    <tr>\n",
       "      <th>Ham</th>\n",
       "      <td>0.000000</td>\n",
       "      <td>0.002281</td>\n",
       "      <td>0.000000</td>\n",
       "      <td>0.001866</td>\n",
       "      <td>1.224181</td>\n",
       "    </tr>\n",
       "    <tr>\n",
       "      <th>Spam</th>\n",
       "      <td>0.000642</td>\n",
       "      <td>0.021655</td>\n",
       "      <td>0.000642</td>\n",
       "      <td>0.496880</td>\n",
       "      <td>4.956047</td>\n",
       "    </tr>\n",
       "  </tbody>\n",
       "</table>\n",
       "</div>"
      ],
      "text/plain": [
       "        no_text  no_subject   no_text   is_html  http_count\n",
       "Label                                                      \n",
       "Ham    0.000000    0.002281  0.000000  0.001866    1.224181\n",
       "Spam   0.000642    0.021655  0.000642  0.496880    4.956047"
      ]
     },
     "execution_count": 63,
     "metadata": {},
     "output_type": "execute_result"
    }
   ],
   "source": [
    "df.groupby(\"Label\")[\"no_text\",\"no_subject\",\"no_text\",\"is_html\",\"http_count\"].mean()"
   ]
  },
  {
   "cell_type": "code",
   "execution_count": 64,
   "metadata": {},
   "outputs": [],
   "source": [
    "nlp_data = df[[\"Subject\",\"Text\",\"Label\"]]\n",
    "nlp_data = nlp_data.dropna()\n",
    "\n",
    "df = df.drop([\"Subject\",\"Text\"],axis=1)"
   ]
  },
  {
   "cell_type": "code",
   "execution_count": null,
   "metadata": {},
   "outputs": [],
   "source": []
  }
 ],
 "metadata": {
  "kernelspec": {
   "display_name": "Python 3",
   "language": "python",
   "name": "python3"
  },
  "language_info": {
   "codemirror_mode": {
    "name": "ipython",
    "version": 3
   },
   "file_extension": ".py",
   "mimetype": "text/x-python",
   "name": "python",
   "nbconvert_exporter": "python",
   "pygments_lexer": "ipython3",
   "version": "3.7.6"
  },
  "toc": {
   "base_numbering": 1,
   "nav_menu": {},
   "number_sections": true,
   "sideBar": true,
   "skip_h1_title": false,
   "title_cell": "Table of Contents",
   "title_sidebar": "Contents",
   "toc_cell": false,
   "toc_position": {},
   "toc_section_display": true,
   "toc_window_display": false
  }
 },
 "nbformat": 4,
 "nbformat_minor": 4
}
