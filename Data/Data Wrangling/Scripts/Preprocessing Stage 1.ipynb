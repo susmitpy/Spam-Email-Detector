{
 "cells": [
  {
   "cell_type": "code",
   "execution_count": 1,
   "metadata": {},
   "outputs": [],
   "source": [
    "import pandas as pd\n",
    "import numpy as np\n",
    "import os\n",
    "import re"
   ]
  },
  {
   "cell_type": "markdown",
   "metadata": {},
   "source": [
    "# Preprocessing Header"
   ]
  },
  {
   "cell_type": "code",
   "execution_count": 50,
   "metadata": {},
   "outputs": [],
   "source": [
    "df = pd.read_csv(\"../Raw Data/extracted_header.csv\")"
   ]
  },
  {
   "cell_type": "code",
   "execution_count": 51,
   "metadata": {},
   "outputs": [
    {
     "data": {
      "text/html": [
       "<div>\n",
       "<style scoped>\n",
       "    .dataframe tbody tr th:only-of-type {\n",
       "        vertical-align: middle;\n",
       "    }\n",
       "\n",
       "    .dataframe tbody tr th {\n",
       "        vertical-align: top;\n",
       "    }\n",
       "\n",
       "    .dataframe thead th {\n",
       "        text-align: right;\n",
       "    }\n",
       "</style>\n",
       "<table border=\"1\" class=\"dataframe\">\n",
       "  <thead>\n",
       "    <tr style=\"text-align: right;\">\n",
       "      <th></th>\n",
       "      <th>sender_email</th>\n",
       "      <th>reply_to_email</th>\n",
       "      <th>return_path</th>\n",
       "      <th>inline_image_count</th>\n",
       "      <th>Label</th>\n",
       "    </tr>\n",
       "  </thead>\n",
       "  <tbody>\n",
       "    <tr>\n",
       "      <th>0</th>\n",
       "      <td>rssfeeds@example.com</td>\n",
       "      <td>NaN</td>\n",
       "      <td>rssfeeds@example.com</td>\n",
       "      <td>0</td>\n",
       "      <td>Ham</td>\n",
       "    </tr>\n",
       "    <tr>\n",
       "      <th>1</th>\n",
       "      <td>thompson@shelob.ce.ttu.edu</td>\n",
       "      <td>exmh-users@example.com</td>\n",
       "      <td>exmh-users-admin@example.com</td>\n",
       "      <td>0</td>\n",
       "      <td>Ham</td>\n",
       "    </tr>\n",
       "    <tr>\n",
       "      <th>2</th>\n",
       "      <td>beberg@mithral.com</td>\n",
       "      <td>NaN</td>\n",
       "      <td>fork-admin@xent.com</td>\n",
       "      <td>0</td>\n",
       "      <td>Ham</td>\n",
       "    </tr>\n",
       "  </tbody>\n",
       "</table>\n",
       "</div>"
      ],
      "text/plain": [
       "                 sender_email          reply_to_email  \\\n",
       "0        rssfeeds@example.com                     NaN   \n",
       "1  thompson@shelob.ce.ttu.edu  exmh-users@example.com   \n",
       "2          beberg@mithral.com                     NaN   \n",
       "\n",
       "                    return_path  inline_image_count Label  \n",
       "0          rssfeeds@example.com                   0   Ham  \n",
       "1  exmh-users-admin@example.com                   0   Ham  \n",
       "2           fork-admin@xent.com                   0   Ham  "
      ]
     },
     "execution_count": 51,
     "metadata": {},
     "output_type": "execute_result"
    }
   ],
   "source": [
    "df.head(n=3)"
   ]
  },
  {
   "cell_type": "code",
   "execution_count": 52,
   "metadata": {},
   "outputs": [
    {
     "data": {
      "text/plain": [
       "sender_email           130\n",
       "reply_to_email        9312\n",
       "return_path            340\n",
       "inline_image_count       0\n",
       "Label                    0\n",
       "dtype: int64"
      ]
     },
     "execution_count": 52,
     "metadata": {},
     "output_type": "execute_result"
    }
   ],
   "source": [
    "df.isna().sum()"
   ]
  },
  {
   "cell_type": "code",
   "execution_count": 53,
   "metadata": {},
   "outputs": [
    {
     "data": {
      "text/plain": [
       "(12827, 5)"
      ]
     },
     "execution_count": 53,
     "metadata": {},
     "output_type": "execute_result"
    }
   ],
   "source": [
    "df.shape"
   ]
  },
  {
   "cell_type": "code",
   "execution_count": 54,
   "metadata": {},
   "outputs": [
    {
     "data": {
      "text/plain": [
       "Spam    81.211507\n",
       "Ham     18.788493\n",
       "Name: Label, dtype: float64"
      ]
     },
     "execution_count": 54,
     "metadata": {},
     "output_type": "execute_result"
    }
   ],
   "source": [
    "df.Label.value_counts() / len(df) * 100"
   ]
  },
  {
   "cell_type": "code",
   "execution_count": 55,
   "metadata": {},
   "outputs": [
    {
     "data": {
      "text/html": [
       "<div>\n",
       "<style scoped>\n",
       "    .dataframe tbody tr th:only-of-type {\n",
       "        vertical-align: middle;\n",
       "    }\n",
       "\n",
       "    .dataframe tbody tr th {\n",
       "        vertical-align: top;\n",
       "    }\n",
       "\n",
       "    .dataframe thead th {\n",
       "        text-align: right;\n",
       "    }\n",
       "</style>\n",
       "<table border=\"1\" class=\"dataframe\">\n",
       "  <thead>\n",
       "    <tr style=\"text-align: right;\">\n",
       "      <th></th>\n",
       "      <th>mean</th>\n",
       "      <th>median</th>\n",
       "    </tr>\n",
       "    <tr>\n",
       "      <th>Label</th>\n",
       "      <th></th>\n",
       "      <th></th>\n",
       "    </tr>\n",
       "  </thead>\n",
       "  <tbody>\n",
       "    <tr>\n",
       "      <th>Ham</th>\n",
       "      <td>0.000000</td>\n",
       "      <td>0</td>\n",
       "    </tr>\n",
       "    <tr>\n",
       "      <th>Spam</th>\n",
       "      <td>0.607085</td>\n",
       "      <td>0</td>\n",
       "    </tr>\n",
       "  </tbody>\n",
       "</table>\n",
       "</div>"
      ],
      "text/plain": [
       "           mean  median\n",
       "Label                  \n",
       "Ham    0.000000       0\n",
       "Spam   0.607085       0"
      ]
     },
     "execution_count": 55,
     "metadata": {},
     "output_type": "execute_result"
    }
   ],
   "source": [
    "df.groupby(\"Label\")[\"inline_image_count\"].agg([\"mean\",\"median\"])"
   ]
  },
  {
   "cell_type": "code",
   "execution_count": 56,
   "metadata": {},
   "outputs": [
    {
     "data": {
      "text/plain": [
       "array([0])"
      ]
     },
     "execution_count": 56,
     "metadata": {},
     "output_type": "execute_result"
    }
   ],
   "source": [
    "df[df.Label == \"Ham\"][\"inline_image_count\"].unique() # All Ham emails don't have a single inline image"
   ]
  },
  {
   "cell_type": "code",
   "execution_count": 57,
   "metadata": {},
   "outputs": [],
   "source": [
    "a=df[df.Label == \"Spam\"][\"inline_image_count\"]"
   ]
  },
  {
   "cell_type": "code",
   "execution_count": 58,
   "metadata": {},
   "outputs": [
    {
     "data": {
      "text/plain": [
       "85.79245464145147"
      ]
     },
     "execution_count": 58,
     "metadata": {},
     "output_type": "execute_result"
    }
   ],
   "source": [
    "(a == 0).sum() / len(a) * 100 # 86% of Spam Emails don't have a single inline image"
   ]
  },
  {
   "cell_type": "code",
   "execution_count": 59,
   "metadata": {},
   "outputs": [],
   "source": [
    "df[\"has_inline_image\"] = df[\"inline_image_count\"] >= 1\n",
    "df.drop(\"inline_image_count\",axis=1,inplace=True)"
   ]
  },
  {
   "cell_type": "code",
   "execution_count": 60,
   "metadata": {},
   "outputs": [
    {
     "data": {
      "text/html": [
       "<div>\n",
       "<style scoped>\n",
       "    .dataframe tbody tr th:only-of-type {\n",
       "        vertical-align: middle;\n",
       "    }\n",
       "\n",
       "    .dataframe tbody tr th {\n",
       "        vertical-align: top;\n",
       "    }\n",
       "\n",
       "    .dataframe thead th {\n",
       "        text-align: right;\n",
       "    }\n",
       "</style>\n",
       "<table border=\"1\" class=\"dataframe\">\n",
       "  <thead>\n",
       "    <tr style=\"text-align: right;\">\n",
       "      <th></th>\n",
       "      <th>sender_email</th>\n",
       "      <th>reply_to_email</th>\n",
       "      <th>return_path</th>\n",
       "    </tr>\n",
       "  </thead>\n",
       "  <tbody>\n",
       "    <tr>\n",
       "      <th>1833</th>\n",
       "      <td>bill@whump.com</td>\n",
       "      <td>NaN</td>\n",
       "      <td>fork-admin@xent.com</td>\n",
       "    </tr>\n",
       "    <tr>\n",
       "      <th>347</th>\n",
       "      <td>rssfeeds@example.com</td>\n",
       "      <td>NaN</td>\n",
       "      <td>rssfeeds@example.com</td>\n",
       "    </tr>\n",
       "    <tr>\n",
       "      <th>704</th>\n",
       "      <td>rssfeeds@example.com</td>\n",
       "      <td>NaN</td>\n",
       "      <td>rssfeeds@example.com</td>\n",
       "    </tr>\n",
       "    <tr>\n",
       "      <th>1819</th>\n",
       "      <td>waider@waider.ie</td>\n",
       "      <td>NaN</td>\n",
       "      <td>ilug-admin@linux.ie</td>\n",
       "    </tr>\n",
       "    <tr>\n",
       "      <th>822</th>\n",
       "      <td>matthias@egwn.net</td>\n",
       "      <td>rpm-zzzlist@freshrpms.net</td>\n",
       "      <td>rpm-zzzlist-admin@freshrpms.net</td>\n",
       "    </tr>\n",
       "    <tr>\n",
       "      <th>1875</th>\n",
       "      <td>tomwhore@slack.net</td>\n",
       "      <td>NaN</td>\n",
       "      <td>fork-admin@xent.com</td>\n",
       "    </tr>\n",
       "    <tr>\n",
       "      <th>878</th>\n",
       "      <td>rssfeeds@example.com</td>\n",
       "      <td>NaN</td>\n",
       "      <td>rssfeeds@example.com</td>\n",
       "    </tr>\n",
       "    <tr>\n",
       "      <th>125</th>\n",
       "      <td>glen@netnoteinc.com</td>\n",
       "      <td>NaN</td>\n",
       "      <td>ilug-admin@linux.ie</td>\n",
       "    </tr>\n",
       "    <tr>\n",
       "      <th>1824</th>\n",
       "      <td>matthias@rpmforge.net</td>\n",
       "      <td>rpm-zzzlist@freshrpms.net</td>\n",
       "      <td>rpm-zzzlist-admin@freshrpms.net</td>\n",
       "    </tr>\n",
       "    <tr>\n",
       "      <th>379</th>\n",
       "      <td>bitbitch@magnesium.net</td>\n",
       "      <td>bitbitch@magnesium.net</td>\n",
       "      <td>fork-admin@xent.com</td>\n",
       "    </tr>\n",
       "  </tbody>\n",
       "</table>\n",
       "</div>"
      ],
      "text/plain": [
       "                sender_email             reply_to_email  \\\n",
       "1833          bill@whump.com                        NaN   \n",
       "347     rssfeeds@example.com                        NaN   \n",
       "704     rssfeeds@example.com                        NaN   \n",
       "1819        waider@waider.ie                        NaN   \n",
       "822        matthias@egwn.net  rpm-zzzlist@freshrpms.net   \n",
       "1875      tomwhore@slack.net                        NaN   \n",
       "878     rssfeeds@example.com                        NaN   \n",
       "125      glen@netnoteinc.com                        NaN   \n",
       "1824   matthias@rpmforge.net  rpm-zzzlist@freshrpms.net   \n",
       "379   bitbitch@magnesium.net     bitbitch@magnesium.net   \n",
       "\n",
       "                          return_path  \n",
       "1833              fork-admin@xent.com  \n",
       "347              rssfeeds@example.com  \n",
       "704              rssfeeds@example.com  \n",
       "1819              ilug-admin@linux.ie  \n",
       "822   rpm-zzzlist-admin@freshrpms.net  \n",
       "1875              fork-admin@xent.com  \n",
       "878              rssfeeds@example.com  \n",
       "125               ilug-admin@linux.ie  \n",
       "1824  rpm-zzzlist-admin@freshrpms.net  \n",
       "379               fork-admin@xent.com  "
      ]
     },
     "execution_count": 60,
     "metadata": {},
     "output_type": "execute_result"
    }
   ],
   "source": [
    "df[df.Label == \"Ham\"][[\"sender_email\",\"reply_to_email\",\"return_path\"]].sample(10)"
   ]
  },
  {
   "cell_type": "code",
   "execution_count": 61,
   "metadata": {},
   "outputs": [
    {
     "data": {
      "text/html": [
       "<div>\n",
       "<style scoped>\n",
       "    .dataframe tbody tr th:only-of-type {\n",
       "        vertical-align: middle;\n",
       "    }\n",
       "\n",
       "    .dataframe tbody tr th {\n",
       "        vertical-align: top;\n",
       "    }\n",
       "\n",
       "    .dataframe thead th {\n",
       "        text-align: right;\n",
       "    }\n",
       "</style>\n",
       "<table border=\"1\" class=\"dataframe\">\n",
       "  <thead>\n",
       "    <tr style=\"text-align: right;\">\n",
       "      <th></th>\n",
       "      <th>sender_email</th>\n",
       "      <th>reply_to_email</th>\n",
       "      <th>return_path</th>\n",
       "    </tr>\n",
       "  </thead>\n",
       "  <tbody>\n",
       "    <tr>\n",
       "      <th>10932</th>\n",
       "      <td>pdvbmtbuahy@hotmail.com</td>\n",
       "      <td>NaN</td>\n",
       "      <td>pdvbmtbuahy@hotmail.com</td>\n",
       "    </tr>\n",
       "    <tr>\n",
       "      <th>3555</th>\n",
       "      <td>1eosine9@tiscali.fr</td>\n",
       "      <td>NaN</td>\n",
       "      <td>1eosine9@tiscali.fr</td>\n",
       "    </tr>\n",
       "    <tr>\n",
       "      <th>3620</th>\n",
       "      <td>ihyireiyles@smyth.net</td>\n",
       "      <td>NaN</td>\n",
       "      <td>ihyireiyles@smyth.net</td>\n",
       "    </tr>\n",
       "    <tr>\n",
       "      <th>9344</th>\n",
       "      <td>rait@brem.ee</td>\n",
       "      <td>NaN</td>\n",
       "      <td>NaN</td>\n",
       "    </tr>\n",
       "    <tr>\n",
       "      <th>5844</th>\n",
       "      <td>Barberxdgjg@infoconex.com</td>\n",
       "      <td>NaN</td>\n",
       "      <td>Barberxdgjg@infoconex.com</td>\n",
       "    </tr>\n",
       "    <tr>\n",
       "      <th>12360</th>\n",
       "      <td>publicdomain@consultant.com</td>\n",
       "      <td>publicdomain@consultant.com</td>\n",
       "      <td>publicdomain@consultant.com</td>\n",
       "    </tr>\n",
       "    <tr>\n",
       "      <th>6918</th>\n",
       "      <td>Martinez@interia.pl</td>\n",
       "      <td>NaN</td>\n",
       "      <td>Martinez@interia.pl</td>\n",
       "    </tr>\n",
       "    <tr>\n",
       "      <th>3754</th>\n",
       "      <td>essie.palmerdn@openface.ca</td>\n",
       "      <td>NaN</td>\n",
       "      <td>essie.palmerdn@openface.ca</td>\n",
       "    </tr>\n",
       "    <tr>\n",
       "      <th>2845</th>\n",
       "      <td>inconsiderable@fell.com</td>\n",
       "      <td>NaN</td>\n",
       "      <td>40bruce-guenter.dyndns.org-S261713AbVEVAIi@vge...</td>\n",
       "    </tr>\n",
       "    <tr>\n",
       "      <th>5056</th>\n",
       "      <td>PLQOWP@kaiea.west.sun.com</td>\n",
       "      <td>NaN</td>\n",
       "      <td>PLQOWP@kaiea.west.sun.com</td>\n",
       "    </tr>\n",
       "  </tbody>\n",
       "</table>\n",
       "</div>"
      ],
      "text/plain": [
       "                      sender_email               reply_to_email  \\\n",
       "10932      pdvbmtbuahy@hotmail.com                          NaN   \n",
       "3555           1eosine9@tiscali.fr                          NaN   \n",
       "3620         ihyireiyles@smyth.net                          NaN   \n",
       "9344                  rait@brem.ee                          NaN   \n",
       "5844     Barberxdgjg@infoconex.com                          NaN   \n",
       "12360  publicdomain@consultant.com  publicdomain@consultant.com   \n",
       "6918           Martinez@interia.pl                          NaN   \n",
       "3754    essie.palmerdn@openface.ca                          NaN   \n",
       "2845       inconsiderable@fell.com                          NaN   \n",
       "5056     PLQOWP@kaiea.west.sun.com                          NaN   \n",
       "\n",
       "                                             return_path  \n",
       "10932                            pdvbmtbuahy@hotmail.com  \n",
       "3555                                 1eosine9@tiscali.fr  \n",
       "3620                               ihyireiyles@smyth.net  \n",
       "9344                                                 NaN  \n",
       "5844                           Barberxdgjg@infoconex.com  \n",
       "12360                        publicdomain@consultant.com  \n",
       "6918                                 Martinez@interia.pl  \n",
       "3754                          essie.palmerdn@openface.ca  \n",
       "2845   40bruce-guenter.dyndns.org-S261713AbVEVAIi@vge...  \n",
       "5056                           PLQOWP@kaiea.west.sun.com  "
      ]
     },
     "execution_count": 61,
     "metadata": {},
     "output_type": "execute_result"
    }
   ],
   "source": [
    "df[df.Label == \"Spam\"][[\"sender_email\",\"reply_to_email\",\"return_path\"]].sample(10)"
   ]
  },
  {
   "cell_type": "code",
   "execution_count": 62,
   "metadata": {},
   "outputs": [
    {
     "data": {
      "text/plain": [
       "sender_email         1.013487\n",
       "reply_to_email      72.596866\n",
       "return_path          2.650659\n",
       "Label                0.000000\n",
       "has_inline_image     0.000000\n",
       "dtype: float64"
      ]
     },
     "execution_count": 62,
     "metadata": {},
     "output_type": "execute_result"
    }
   ],
   "source": [
    "df.isna().sum() / len(df) * 100"
   ]
  },
  {
   "cell_type": "code",
   "execution_count": 63,
   "metadata": {},
   "outputs": [
    {
     "data": {
      "text/html": [
       "<div>\n",
       "<style scoped>\n",
       "    .dataframe tbody tr th:only-of-type {\n",
       "        vertical-align: middle;\n",
       "    }\n",
       "\n",
       "    .dataframe tbody tr th {\n",
       "        vertical-align: top;\n",
       "    }\n",
       "\n",
       "    .dataframe thead th {\n",
       "        text-align: right;\n",
       "    }\n",
       "</style>\n",
       "<table border=\"1\" class=\"dataframe\">\n",
       "  <thead>\n",
       "    <tr style=\"text-align: right;\">\n",
       "      <th></th>\n",
       "      <th>mean</th>\n",
       "    </tr>\n",
       "    <tr>\n",
       "      <th>Label</th>\n",
       "      <th></th>\n",
       "    </tr>\n",
       "  </thead>\n",
       "  <tbody>\n",
       "    <tr>\n",
       "      <th>Ham</th>\n",
       "      <td>74.439834</td>\n",
       "    </tr>\n",
       "    <tr>\n",
       "      <th>Spam</th>\n",
       "      <td>72.170491</td>\n",
       "    </tr>\n",
       "  </tbody>\n",
       "</table>\n",
       "</div>"
      ],
      "text/plain": [
       "            mean\n",
       "Label           \n",
       "Ham    74.439834\n",
       "Spam   72.170491"
      ]
     },
     "execution_count": 63,
     "metadata": {},
     "output_type": "execute_result"
    }
   ],
   "source": [
    "df[\"no_reply_to_email\"] = df[\"reply_to_email\"].isna() # true -> does not have\n",
    "df.groupby(\"Label\")[\"no_reply_to_email\"].agg([\"mean\"])*100"
   ]
  },
  {
   "cell_type": "code",
   "execution_count": 64,
   "metadata": {},
   "outputs": [
    {
     "data": {
      "text/html": [
       "<div>\n",
       "<style scoped>\n",
       "    .dataframe tbody tr th:only-of-type {\n",
       "        vertical-align: middle;\n",
       "    }\n",
       "\n",
       "    .dataframe tbody tr th {\n",
       "        vertical-align: top;\n",
       "    }\n",
       "\n",
       "    .dataframe thead th {\n",
       "        text-align: right;\n",
       "    }\n",
       "</style>\n",
       "<table border=\"1\" class=\"dataframe\">\n",
       "  <thead>\n",
       "    <tr style=\"text-align: right;\">\n",
       "      <th></th>\n",
       "      <th>mean</th>\n",
       "    </tr>\n",
       "    <tr>\n",
       "      <th>Label</th>\n",
       "      <th></th>\n",
       "    </tr>\n",
       "  </thead>\n",
       "  <tbody>\n",
       "    <tr>\n",
       "      <th>Ham</th>\n",
       "      <td>0.000000</td>\n",
       "    </tr>\n",
       "    <tr>\n",
       "      <th>Spam</th>\n",
       "      <td>3.263896</td>\n",
       "    </tr>\n",
       "  </tbody>\n",
       "</table>\n",
       "</div>"
      ],
      "text/plain": [
       "           mean\n",
       "Label          \n",
       "Ham    0.000000\n",
       "Spam   3.263896"
      ]
     },
     "execution_count": 64,
     "metadata": {},
     "output_type": "execute_result"
    }
   ],
   "source": [
    "df[\"no_return_path\"] = df[\"return_path\"].isna() # true -> does not have\n",
    "df.groupby(\"Label\")[\"no_return_path\"].agg([\"mean\"])*100\n",
    "\n",
    "# 3.26% of spam don't have return path"
   ]
  },
  {
   "cell_type": "code",
   "execution_count": 65,
   "metadata": {},
   "outputs": [
    {
     "data": {
      "text/html": [
       "<div>\n",
       "<style scoped>\n",
       "    .dataframe tbody tr th:only-of-type {\n",
       "        vertical-align: middle;\n",
       "    }\n",
       "\n",
       "    .dataframe tbody tr th {\n",
       "        vertical-align: top;\n",
       "    }\n",
       "\n",
       "    .dataframe thead th {\n",
       "        text-align: right;\n",
       "    }\n",
       "</style>\n",
       "<table border=\"1\" class=\"dataframe\">\n",
       "  <thead>\n",
       "    <tr style=\"text-align: right;\">\n",
       "      <th></th>\n",
       "      <th>sender_email</th>\n",
       "      <th>reply_to_email</th>\n",
       "      <th>return_path</th>\n",
       "      <th>Label</th>\n",
       "      <th>has_inline_image</th>\n",
       "      <th>no_reply_to_email</th>\n",
       "      <th>no_return_path</th>\n",
       "    </tr>\n",
       "  </thead>\n",
       "  <tbody>\n",
       "    <tr>\n",
       "      <th>2484</th>\n",
       "      <td>rkkss@redseven.de</td>\n",
       "      <td>NaN</td>\n",
       "      <td>NaN</td>\n",
       "      <td>Spam</td>\n",
       "      <td>False</td>\n",
       "      <td>True</td>\n",
       "      <td>True</td>\n",
       "    </tr>\n",
       "    <tr>\n",
       "      <th>2541</th>\n",
       "      <td>rkkss@redseven.de</td>\n",
       "      <td>NaN</td>\n",
       "      <td>NaN</td>\n",
       "      <td>Spam</td>\n",
       "      <td>False</td>\n",
       "      <td>True</td>\n",
       "      <td>True</td>\n",
       "    </tr>\n",
       "    <tr>\n",
       "      <th>2571</th>\n",
       "      <td>emailrewardz@emailrewardz.email-publisher.com</td>\n",
       "      <td>perf-remove.3565.64698.13893713.0.0.4@boing.to...</td>\n",
       "      <td>NaN</td>\n",
       "      <td>Spam</td>\n",
       "      <td>False</td>\n",
       "      <td>False</td>\n",
       "      <td>True</td>\n",
       "    </tr>\n",
       "    <tr>\n",
       "      <th>2693</th>\n",
       "      <td>meg34807147238s03@isppan.waw.pl</td>\n",
       "      <td>meg34807147238s03@isppan.waw.pl</td>\n",
       "      <td>NaN</td>\n",
       "      <td>Spam</td>\n",
       "      <td>False</td>\n",
       "      <td>False</td>\n",
       "      <td>True</td>\n",
       "    </tr>\n",
       "    <tr>\n",
       "      <th>2745</th>\n",
       "      <td>meg34807147238s03@isppan.waw.pl</td>\n",
       "      <td>meg34807147238s03@isppan.waw.pl</td>\n",
       "      <td>NaN</td>\n",
       "      <td>Spam</td>\n",
       "      <td>False</td>\n",
       "      <td>False</td>\n",
       "      <td>True</td>\n",
       "    </tr>\n",
       "    <tr>\n",
       "      <th>...</th>\n",
       "      <td>...</td>\n",
       "      <td>...</td>\n",
       "      <td>...</td>\n",
       "      <td>...</td>\n",
       "      <td>...</td>\n",
       "      <td>...</td>\n",
       "      <td>...</td>\n",
       "    </tr>\n",
       "    <tr>\n",
       "      <th>12625</th>\n",
       "      <td>NaN</td>\n",
       "      <td>NaN</td>\n",
       "      <td>NaN</td>\n",
       "      <td>Spam</td>\n",
       "      <td>False</td>\n",
       "      <td>True</td>\n",
       "      <td>True</td>\n",
       "    </tr>\n",
       "    <tr>\n",
       "      <th>12639</th>\n",
       "      <td>YCPZHUNZN@marchmail.com</td>\n",
       "      <td>YCPZHUNZN@marchmail.com</td>\n",
       "      <td>NaN</td>\n",
       "      <td>Spam</td>\n",
       "      <td>False</td>\n",
       "      <td>False</td>\n",
       "      <td>True</td>\n",
       "    </tr>\n",
       "    <tr>\n",
       "      <th>12648</th>\n",
       "      <td>keh-ming@a-vip.com</td>\n",
       "      <td>NaN</td>\n",
       "      <td>NaN</td>\n",
       "      <td>Spam</td>\n",
       "      <td>False</td>\n",
       "      <td>True</td>\n",
       "      <td>True</td>\n",
       "    </tr>\n",
       "    <tr>\n",
       "      <th>12747</th>\n",
       "      <td>505jeff@acadia.net</td>\n",
       "      <td>NaN</td>\n",
       "      <td>NaN</td>\n",
       "      <td>Spam</td>\n",
       "      <td>False</td>\n",
       "      <td>True</td>\n",
       "      <td>True</td>\n",
       "    </tr>\n",
       "    <tr>\n",
       "      <th>12814</th>\n",
       "      <td>MelHaas6869@janornode.com</td>\n",
       "      <td>NaN</td>\n",
       "      <td>NaN</td>\n",
       "      <td>Spam</td>\n",
       "      <td>False</td>\n",
       "      <td>True</td>\n",
       "      <td>True</td>\n",
       "    </tr>\n",
       "  </tbody>\n",
       "</table>\n",
       "<p>340 rows × 7 columns</p>\n",
       "</div>"
      ],
      "text/plain": [
       "                                        sender_email  \\\n",
       "2484                               rkkss@redseven.de   \n",
       "2541                               rkkss@redseven.de   \n",
       "2571   emailrewardz@emailrewardz.email-publisher.com   \n",
       "2693                 meg34807147238s03@isppan.waw.pl   \n",
       "2745                 meg34807147238s03@isppan.waw.pl   \n",
       "...                                              ...   \n",
       "12625                                            NaN   \n",
       "12639                        YCPZHUNZN@marchmail.com   \n",
       "12648                             keh-ming@a-vip.com   \n",
       "12747                             505jeff@acadia.net   \n",
       "12814                      MelHaas6869@janornode.com   \n",
       "\n",
       "                                          reply_to_email return_path Label  \\\n",
       "2484                                                 NaN         NaN  Spam   \n",
       "2541                                                 NaN         NaN  Spam   \n",
       "2571   perf-remove.3565.64698.13893713.0.0.4@boing.to...         NaN  Spam   \n",
       "2693                     meg34807147238s03@isppan.waw.pl         NaN  Spam   \n",
       "2745                     meg34807147238s03@isppan.waw.pl         NaN  Spam   \n",
       "...                                                  ...         ...   ...   \n",
       "12625                                                NaN         NaN  Spam   \n",
       "12639                            YCPZHUNZN@marchmail.com         NaN  Spam   \n",
       "12648                                                NaN         NaN  Spam   \n",
       "12747                                                NaN         NaN  Spam   \n",
       "12814                                                NaN         NaN  Spam   \n",
       "\n",
       "       has_inline_image  no_reply_to_email  no_return_path  \n",
       "2484              False               True            True  \n",
       "2541              False               True            True  \n",
       "2571              False              False            True  \n",
       "2693              False              False            True  \n",
       "2745              False              False            True  \n",
       "...                 ...                ...             ...  \n",
       "12625             False               True            True  \n",
       "12639             False              False            True  \n",
       "12648             False               True            True  \n",
       "12747             False               True            True  \n",
       "12814             False               True            True  \n",
       "\n",
       "[340 rows x 7 columns]"
      ]
     },
     "execution_count": 65,
     "metadata": {},
     "output_type": "execute_result"
    }
   ],
   "source": [
    "df[df[\"no_return_path\"] == True]"
   ]
  },
  {
   "cell_type": "code",
   "execution_count": 66,
   "metadata": {},
   "outputs": [
    {
     "name": "stdout",
     "output_type": "stream",
     "text": [
      "Spam    100.0\n",
      "Name: Label, dtype: float64\n",
      "Overall Distribution of class:\n",
      "Spam    81.211507\n",
      "Ham     18.788493\n",
      "Name: Label, dtype: float64\n",
      "% of such records: 2.3388165588212364\n",
      "      Label  no_reply_to_email  no_return_path\n",
      "10117  Spam               True            True\n",
      "4795   Spam               True            True\n",
      "9613   Spam               True            True\n",
      "3773   Spam               True            True\n",
      "2541   Spam               True            True\n",
      "5436   Spam               True            True\n",
      "9253   Spam               True            True\n"
     ]
    }
   ],
   "source": [
    "a=df[(df[\"no_reply_to_email\"]==True) & (df[\"no_return_path\"] == True)]\n",
    "print(a[\"Label\"].value_counts() / len(a) * 100)\n",
    "print(\"Overall Distribution of class:\")\n",
    "print(df.Label.value_counts() / len(df) * 100)\n",
    "print(\"% of such records: \" + str(len(a)/len(df)*100))\n",
    "print(a.sample(7)[[\"Label\",\"no_reply_to_email\",\"no_return_path\"]])"
   ]
  },
  {
   "cell_type": "code",
   "execution_count": 67,
   "metadata": {},
   "outputs": [
    {
     "name": "stdout",
     "output_type": "stream",
     "text": [
      "Spam    82.273381\n",
      "Ham     17.726619\n",
      "Name: Label, dtype: float64\n",
      "Overall Distribution of class:\n",
      "Spam    81.211507\n",
      "Ham     18.788493\n",
      "Name: Label, dtype: float64\n",
      "% of such records: 27.09129180634599\n",
      "      Label  no_reply_to_email  no_return_path\n",
      "776     Ham              False           False\n",
      "902     Ham              False           False\n",
      "2879   Spam              False           False\n",
      "12730  Spam              False           False\n",
      "8929   Spam              False           False\n",
      "636     Ham              False           False\n",
      "6613   Spam              False           False\n"
     ]
    }
   ],
   "source": [
    "a=df[(df[\"no_reply_to_email\"]==False) & (df[\"no_return_path\"] == False)]\n",
    "print(a[\"Label\"].value_counts() / len(a) * 100)\n",
    "print(\"Overall Distribution of class:\")\n",
    "print(df.Label.value_counts() / len(df) * 100)\n",
    "print(\"% of such records: \" + str(len(a)/len(df)*100))\n",
    "print(a.sample(7)[[\"Label\",\"no_reply_to_email\",\"no_return_path\"]])"
   ]
  },
  {
   "cell_type": "code",
   "execution_count": 68,
   "metadata": {},
   "outputs": [
    {
     "name": "stdout",
     "output_type": "stream",
     "text": [
      "Spam    80.093209\n",
      "Ham     19.906791\n",
      "Name: Label, dtype: float64\n",
      "Overall Distribution of class:\n",
      "Spam    81.211507\n",
      "Ham     18.788493\n",
      "Name: Label, dtype: float64\n",
      "% of such records: 70.25804942698994\n",
      "      Label  no_reply_to_email  no_return_path\n",
      "11469  Spam               True           False\n",
      "2536   Spam               True           False\n",
      "8648   Spam               True           False\n",
      "4209   Spam               True           False\n",
      "11616  Spam               True           False\n",
      "6719   Spam               True           False\n",
      "3072   Spam               True           False\n"
     ]
    }
   ],
   "source": [
    "a=df[(df[\"no_reply_to_email\"]==True) & (df[\"no_return_path\"] == False)]\n",
    "print(a[\"Label\"].value_counts() / len(a) * 100)\n",
    "print(\"Overall Distribution of class:\")\n",
    "print(df.Label.value_counts() / len(df) * 100)\n",
    "print(\"% of such records: \" + str(len(a)/len(df)*100))\n",
    "print(a.sample(7)[[\"Label\",\"no_reply_to_email\",\"no_return_path\"]])"
   ]
  },
  {
   "cell_type": "code",
   "execution_count": 69,
   "metadata": {},
   "outputs": [
    {
     "name": "stdout",
     "output_type": "stream",
     "text": [
      "Spam    100.0\n",
      "Name: Label, dtype: float64\n",
      "Overall Distribution of class:\n",
      "Spam    81.211507\n",
      "Ham     18.788493\n",
      "Name: Label, dtype: float64\n",
      "% of such records: 0.3118422078428315\n",
      "      Label  no_reply_to_email  no_return_path\n",
      "11417  Spam              False            True\n",
      "11694  Spam              False            True\n",
      "6502   Spam              False            True\n",
      "11532  Spam              False            True\n",
      "8753   Spam              False            True\n",
      "8458   Spam              False            True\n",
      "12639  Spam              False            True\n"
     ]
    }
   ],
   "source": [
    "a=df[(df[\"no_reply_to_email\"]==False) & (df[\"no_return_path\"] == True)]\n",
    "print(a[\"Label\"].value_counts() / len(a) * 100)\n",
    "print(\"Overall Distribution of class:\")\n",
    "print(df.Label.value_counts() / len(df) * 100)\n",
    "print(\"% of such records: \" + str(len(a)/len(df)*100))\n",
    "print(a.sample(7)[[\"Label\",\"no_reply_to_email\",\"no_return_path\"]])"
   ]
  },
  {
   "cell_type": "code",
   "execution_count": 70,
   "metadata": {},
   "outputs": [
    {
     "name": "stdout",
     "output_type": "stream",
     "text": [
      "Index(['sender_email', 'reply_to_email', 'return_path', 'Label',\n",
      "       'has_inline_image', 'no_reply_to_email', 'no_return_path',\n",
      "       'no_reply_no_return', 'yes_reply_no_return'],\n",
      "      dtype='object')\n"
     ]
    }
   ],
   "source": [
    "df[\"no_reply_no_return\"] = (df[\"no_reply_to_email\"] == True) & (df[\"no_return_path\"] == True)\n",
    "df[\"yes_reply_no_return\"] = (df[\"no_reply_to_email\"] == False) & (df[\"no_return_path\"] == True)\n",
    "print(df.columns)"
   ]
  },
  {
   "cell_type": "code",
   "execution_count": 71,
   "metadata": {},
   "outputs": [
    {
     "data": {
      "text/html": [
       "<div>\n",
       "<style scoped>\n",
       "    .dataframe tbody tr th:only-of-type {\n",
       "        vertical-align: middle;\n",
       "    }\n",
       "\n",
       "    .dataframe tbody tr th {\n",
       "        vertical-align: top;\n",
       "    }\n",
       "\n",
       "    .dataframe thead th {\n",
       "        text-align: right;\n",
       "    }\n",
       "</style>\n",
       "<table border=\"1\" class=\"dataframe\">\n",
       "  <thead>\n",
       "    <tr style=\"text-align: right;\">\n",
       "      <th></th>\n",
       "      <th>sender_email</th>\n",
       "      <th>Label</th>\n",
       "      <th>has_inline_image</th>\n",
       "      <th>no_return_path</th>\n",
       "      <th>no_reply_no_return</th>\n",
       "      <th>yes_reply_no_return</th>\n",
       "    </tr>\n",
       "  </thead>\n",
       "  <tbody>\n",
       "    <tr>\n",
       "      <th>0</th>\n",
       "      <td>rssfeeds@example.com</td>\n",
       "      <td>Ham</td>\n",
       "      <td>False</td>\n",
       "      <td>False</td>\n",
       "      <td>False</td>\n",
       "      <td>False</td>\n",
       "    </tr>\n",
       "    <tr>\n",
       "      <th>1</th>\n",
       "      <td>thompson@shelob.ce.ttu.edu</td>\n",
       "      <td>Ham</td>\n",
       "      <td>False</td>\n",
       "      <td>False</td>\n",
       "      <td>False</td>\n",
       "      <td>False</td>\n",
       "    </tr>\n",
       "    <tr>\n",
       "      <th>2</th>\n",
       "      <td>beberg@mithral.com</td>\n",
       "      <td>Ham</td>\n",
       "      <td>False</td>\n",
       "      <td>False</td>\n",
       "      <td>False</td>\n",
       "      <td>False</td>\n",
       "    </tr>\n",
       "    <tr>\n",
       "      <th>3</th>\n",
       "      <td>rssfeeds@example.com</td>\n",
       "      <td>Ham</td>\n",
       "      <td>False</td>\n",
       "      <td>False</td>\n",
       "      <td>False</td>\n",
       "      <td>False</td>\n",
       "    </tr>\n",
       "    <tr>\n",
       "      <th>4</th>\n",
       "      <td>garym@canada.com</td>\n",
       "      <td>Ham</td>\n",
       "      <td>False</td>\n",
       "      <td>False</td>\n",
       "      <td>False</td>\n",
       "      <td>False</td>\n",
       "    </tr>\n",
       "  </tbody>\n",
       "</table>\n",
       "</div>"
      ],
      "text/plain": [
       "                 sender_email Label  has_inline_image  no_return_path  \\\n",
       "0        rssfeeds@example.com   Ham             False           False   \n",
       "1  thompson@shelob.ce.ttu.edu   Ham             False           False   \n",
       "2          beberg@mithral.com   Ham             False           False   \n",
       "3        rssfeeds@example.com   Ham             False           False   \n",
       "4            garym@canada.com   Ham             False           False   \n",
       "\n",
       "   no_reply_no_return  yes_reply_no_return  \n",
       "0               False                False  \n",
       "1               False                False  \n",
       "2               False                False  \n",
       "3               False                False  \n",
       "4               False                False  "
      ]
     },
     "execution_count": 71,
     "metadata": {},
     "output_type": "execute_result"
    }
   ],
   "source": [
    "df.drop([\"no_reply_to_email\",\"reply_to_email\",\"return_path\"],axis=1,inplace=True)\n",
    "df.head()"
   ]
  },
  {
   "cell_type": "code",
   "execution_count": 72,
   "metadata": {},
   "outputs": [
    {
     "data": {
      "text/plain": [
       "sender_email           130\n",
       "Label                    0\n",
       "has_inline_image         0\n",
       "no_return_path           0\n",
       "no_reply_no_return       0\n",
       "yes_reply_no_return      0\n",
       "dtype: int64"
      ]
     },
     "execution_count": 72,
     "metadata": {},
     "output_type": "execute_result"
    }
   ],
   "source": [
    "df.isna().sum()"
   ]
  },
  {
   "cell_type": "code",
   "execution_count": 73,
   "metadata": {},
   "outputs": [],
   "source": [
    "df = df.dropna()"
   ]
  },
  {
   "cell_type": "code",
   "execution_count": 74,
   "metadata": {},
   "outputs": [],
   "source": [
    "tld_pattern_compiled = re.compile(r\"(@.+\\.)(\\w+)\")\n",
    "def get_tld(email):\n",
    "    return tld_pattern_compiled.search(email).groups()[1]\n",
    "    \n",
    "df[\"top_level_domain\"] = df[\"sender_email\"].apply(get_tld)"
   ]
  },
  {
   "cell_type": "code",
   "execution_count": 75,
   "metadata": {},
   "outputs": [
    {
     "data": {
      "text/plain": [
       "com     6873\n",
       "net     2108\n",
       "org      424\n",
       "de       311\n",
       "uk       302\n",
       "        ... \n",
       "ps         1\n",
       "kw         1\n",
       "INFO       1\n",
       "ba         1\n",
       "name       1\n",
       "Name: top_level_domain, Length: 150, dtype: int64"
      ]
     },
     "execution_count": 75,
     "metadata": {},
     "output_type": "execute_result"
    }
   ],
   "source": [
    "df[\"top_level_domain\"].value_counts()"
   ]
  },
  {
   "cell_type": "code",
   "execution_count": 76,
   "metadata": {},
   "outputs": [
    {
     "data": {
      "text/html": [
       "<div>\n",
       "<style scoped>\n",
       "    .dataframe tbody tr th:only-of-type {\n",
       "        vertical-align: middle;\n",
       "    }\n",
       "\n",
       "    .dataframe tbody tr th {\n",
       "        vertical-align: top;\n",
       "    }\n",
       "\n",
       "    .dataframe thead th {\n",
       "        text-align: right;\n",
       "    }\n",
       "</style>\n",
       "<table border=\"1\" class=\"dataframe\">\n",
       "  <thead>\n",
       "    <tr style=\"text-align: right;\">\n",
       "      <th></th>\n",
       "      <th>sender_email</th>\n",
       "      <th>Label</th>\n",
       "      <th>has_inline_image</th>\n",
       "      <th>no_return_path</th>\n",
       "      <th>no_reply_no_return</th>\n",
       "      <th>yes_reply_no_return</th>\n",
       "      <th>top_level_domain</th>\n",
       "    </tr>\n",
       "  </thead>\n",
       "  <tbody>\n",
       "    <tr>\n",
       "      <th>0</th>\n",
       "      <td>rssfeeds@example.com</td>\n",
       "      <td>Ham</td>\n",
       "      <td>False</td>\n",
       "      <td>False</td>\n",
       "      <td>False</td>\n",
       "      <td>False</td>\n",
       "      <td>com</td>\n",
       "    </tr>\n",
       "    <tr>\n",
       "      <th>1</th>\n",
       "      <td>thompson@shelob.ce.ttu.edu</td>\n",
       "      <td>Ham</td>\n",
       "      <td>False</td>\n",
       "      <td>False</td>\n",
       "      <td>False</td>\n",
       "      <td>False</td>\n",
       "      <td>edu</td>\n",
       "    </tr>\n",
       "    <tr>\n",
       "      <th>2</th>\n",
       "      <td>beberg@mithral.com</td>\n",
       "      <td>Ham</td>\n",
       "      <td>False</td>\n",
       "      <td>False</td>\n",
       "      <td>False</td>\n",
       "      <td>False</td>\n",
       "      <td>com</td>\n",
       "    </tr>\n",
       "    <tr>\n",
       "      <th>3</th>\n",
       "      <td>rssfeeds@example.com</td>\n",
       "      <td>Ham</td>\n",
       "      <td>False</td>\n",
       "      <td>False</td>\n",
       "      <td>False</td>\n",
       "      <td>False</td>\n",
       "      <td>com</td>\n",
       "    </tr>\n",
       "    <tr>\n",
       "      <th>4</th>\n",
       "      <td>garym@canada.com</td>\n",
       "      <td>Ham</td>\n",
       "      <td>False</td>\n",
       "      <td>False</td>\n",
       "      <td>False</td>\n",
       "      <td>False</td>\n",
       "      <td>com</td>\n",
       "    </tr>\n",
       "  </tbody>\n",
       "</table>\n",
       "</div>"
      ],
      "text/plain": [
       "                 sender_email Label  has_inline_image  no_return_path  \\\n",
       "0        rssfeeds@example.com   Ham             False           False   \n",
       "1  thompson@shelob.ce.ttu.edu   Ham             False           False   \n",
       "2          beberg@mithral.com   Ham             False           False   \n",
       "3        rssfeeds@example.com   Ham             False           False   \n",
       "4            garym@canada.com   Ham             False           False   \n",
       "\n",
       "   no_reply_no_return  yes_reply_no_return top_level_domain  \n",
       "0               False                False              com  \n",
       "1               False                False              edu  \n",
       "2               False                False              com  \n",
       "3               False                False              com  \n",
       "4               False                False              com  "
      ]
     },
     "execution_count": 76,
     "metadata": {},
     "output_type": "execute_result"
    }
   ],
   "source": [
    "df.head()"
   ]
  },
  {
   "cell_type": "code",
   "execution_count": 77,
   "metadata": {},
   "outputs": [],
   "source": [
    "account_pattern_compiled = re.compile(r\"(.+@)\")\n",
    "def get_account(email):\n",
    "    return account_pattern_compiled.search(email).groups()[0][:-1]\n",
    "    \n",
    "df[\"account_name\"] = df[\"sender_email\"].apply(get_account)"
   ]
  },
  {
   "cell_type": "code",
   "execution_count": 78,
   "metadata": {},
   "outputs": [],
   "source": [
    "domain_pattern_compiled = re.compile(r\"(@.+)(\\.\\w+)\")\n",
    "def get_domain(email):\n",
    "    return domain_pattern_compiled.search(email).groups()[0][1:]\n",
    "    \n",
    "df[\"domain\"] = df[\"sender_email\"].apply(get_domain)"
   ]
  },
  {
   "cell_type": "code",
   "execution_count": 79,
   "metadata": {},
   "outputs": [
    {
     "data": {
      "text/html": [
       "<div>\n",
       "<style scoped>\n",
       "    .dataframe tbody tr th:only-of-type {\n",
       "        vertical-align: middle;\n",
       "    }\n",
       "\n",
       "    .dataframe tbody tr th {\n",
       "        vertical-align: top;\n",
       "    }\n",
       "\n",
       "    .dataframe thead th {\n",
       "        text-align: right;\n",
       "    }\n",
       "</style>\n",
       "<table border=\"1\" class=\"dataframe\">\n",
       "  <thead>\n",
       "    <tr style=\"text-align: right;\">\n",
       "      <th></th>\n",
       "      <th>account_name</th>\n",
       "      <th>top_level_domain</th>\n",
       "      <th>domain</th>\n",
       "      <th>Label</th>\n",
       "    </tr>\n",
       "  </thead>\n",
       "  <tbody>\n",
       "    <tr>\n",
       "      <th>5646</th>\n",
       "      <td>franknkosi2002</td>\n",
       "      <td>com</td>\n",
       "      <td>yahoo</td>\n",
       "      <td>Spam</td>\n",
       "    </tr>\n",
       "    <tr>\n",
       "      <th>3400</th>\n",
       "      <td>rrsukkd</td>\n",
       "      <td>com</td>\n",
       "      <td>building</td>\n",
       "      <td>Spam</td>\n",
       "    </tr>\n",
       "    <tr>\n",
       "      <th>8236</th>\n",
       "      <td>roffie0scm</td>\n",
       "      <td>com</td>\n",
       "      <td>sepo</td>\n",
       "      <td>Spam</td>\n",
       "    </tr>\n",
       "    <tr>\n",
       "      <th>3946</th>\n",
       "      <td>amesfs</td>\n",
       "      <td>it</td>\n",
       "      <td>cima</td>\n",
       "      <td>Spam</td>\n",
       "    </tr>\n",
       "    <tr>\n",
       "      <th>3299</th>\n",
       "      <td>dmobleybk</td>\n",
       "      <td>dk</td>\n",
       "      <td>stardog</td>\n",
       "      <td>Spam</td>\n",
       "    </tr>\n",
       "    <tr>\n",
       "      <th>5650</th>\n",
       "      <td>qrjtehciwkb</td>\n",
       "      <td>com</td>\n",
       "      <td>myrealbox</td>\n",
       "      <td>Spam</td>\n",
       "    </tr>\n",
       "    <tr>\n",
       "      <th>11580</th>\n",
       "      <td>ravenna.tyler2001</td>\n",
       "      <td>mx</td>\n",
       "      <td>prod-infinitum.com</td>\n",
       "      <td>Spam</td>\n",
       "    </tr>\n",
       "    <tr>\n",
       "      <th>9321</th>\n",
       "      <td>qam3uhpzf</td>\n",
       "      <td>net</td>\n",
       "      <td>discover</td>\n",
       "      <td>Spam</td>\n",
       "    </tr>\n",
       "    <tr>\n",
       "      <th>4751</th>\n",
       "      <td>psawyer_pf</td>\n",
       "      <td>de</td>\n",
       "      <td>itmagic</td>\n",
       "      <td>Spam</td>\n",
       "    </tr>\n",
       "    <tr>\n",
       "      <th>12214</th>\n",
       "      <td>htinrnink</td>\n",
       "      <td>au</td>\n",
       "      <td>rocknet.net</td>\n",
       "      <td>Spam</td>\n",
       "    </tr>\n",
       "  </tbody>\n",
       "</table>\n",
       "</div>"
      ],
      "text/plain": [
       "            account_name top_level_domain              domain Label\n",
       "5646      franknkosi2002              com               yahoo  Spam\n",
       "3400             rrsukkd              com            building  Spam\n",
       "8236          roffie0scm              com                sepo  Spam\n",
       "3946              amesfs               it                cima  Spam\n",
       "3299           dmobleybk               dk             stardog  Spam\n",
       "5650         qrjtehciwkb              com           myrealbox  Spam\n",
       "11580  ravenna.tyler2001               mx  prod-infinitum.com  Spam\n",
       "9321           qam3uhpzf              net            discover  Spam\n",
       "4751          psawyer_pf               de             itmagic  Spam\n",
       "12214          htinrnink               au         rocknet.net  Spam"
      ]
     },
     "execution_count": 79,
     "metadata": {},
     "output_type": "execute_result"
    }
   ],
   "source": [
    "df[df.Label == \"Spam\"][[\"account_name\",\"top_level_domain\",\"domain\",\"Label\"]].sample(10)"
   ]
  },
  {
   "cell_type": "code",
   "execution_count": 80,
   "metadata": {},
   "outputs": [
    {
     "data": {
      "text/html": [
       "<div>\n",
       "<style scoped>\n",
       "    .dataframe tbody tr th:only-of-type {\n",
       "        vertical-align: middle;\n",
       "    }\n",
       "\n",
       "    .dataframe tbody tr th {\n",
       "        vertical-align: top;\n",
       "    }\n",
       "\n",
       "    .dataframe thead th {\n",
       "        text-align: right;\n",
       "    }\n",
       "</style>\n",
       "<table border=\"1\" class=\"dataframe\">\n",
       "  <thead>\n",
       "    <tr style=\"text-align: right;\">\n",
       "      <th></th>\n",
       "      <th>account_name</th>\n",
       "      <th>top_level_domain</th>\n",
       "      <th>domain</th>\n",
       "      <th>Label</th>\n",
       "    </tr>\n",
       "  </thead>\n",
       "  <tbody>\n",
       "    <tr>\n",
       "      <th>835</th>\n",
       "      <td>baartman</td>\n",
       "      <td>ca</td>\n",
       "      <td>lin12.triumf</td>\n",
       "      <td>Ham</td>\n",
       "    </tr>\n",
       "    <tr>\n",
       "      <th>900</th>\n",
       "      <td>vernon</td>\n",
       "      <td>com</td>\n",
       "      <td>b2unow</td>\n",
       "      <td>Ham</td>\n",
       "    </tr>\n",
       "    <tr>\n",
       "      <th>1367</th>\n",
       "      <td>hussein</td>\n",
       "      <td>org</td>\n",
       "      <td>stanfordalumni</td>\n",
       "      <td>Ham</td>\n",
       "    </tr>\n",
       "    <tr>\n",
       "      <th>2321</th>\n",
       "      <td>liblit</td>\n",
       "      <td>edu</td>\n",
       "      <td>eecs.berkeley</td>\n",
       "      <td>Ham</td>\n",
       "    </tr>\n",
       "    <tr>\n",
       "      <th>272</th>\n",
       "      <td>fork_list</td>\n",
       "      <td>com</td>\n",
       "      <td>hotmail</td>\n",
       "      <td>Ham</td>\n",
       "    </tr>\n",
       "    <tr>\n",
       "      <th>2158</th>\n",
       "      <td>baartman</td>\n",
       "      <td>ca</td>\n",
       "      <td>lin12.triumf</td>\n",
       "      <td>Ham</td>\n",
       "    </tr>\n",
       "    <tr>\n",
       "      <th>129</th>\n",
       "      <td>opslag</td>\n",
       "      <td>net</td>\n",
       "      <td>inklaar</td>\n",
       "      <td>Ham</td>\n",
       "    </tr>\n",
       "    <tr>\n",
       "      <th>134</th>\n",
       "      <td>rssfeeds</td>\n",
       "      <td>com</td>\n",
       "      <td>example</td>\n",
       "      <td>Ham</td>\n",
       "    </tr>\n",
       "    <tr>\n",
       "      <th>1267</th>\n",
       "      <td>dan</td>\n",
       "      <td>com</td>\n",
       "      <td>dankohn</td>\n",
       "      <td>Ham</td>\n",
       "    </tr>\n",
       "    <tr>\n",
       "      <th>2002</th>\n",
       "      <td>jeff.taylor</td>\n",
       "      <td>org</td>\n",
       "      <td>ieee</td>\n",
       "      <td>Ham</td>\n",
       "    </tr>\n",
       "  </tbody>\n",
       "</table>\n",
       "</div>"
      ],
      "text/plain": [
       "     account_name top_level_domain          domain Label\n",
       "835      baartman               ca    lin12.triumf   Ham\n",
       "900        vernon              com          b2unow   Ham\n",
       "1367      hussein              org  stanfordalumni   Ham\n",
       "2321       liblit              edu   eecs.berkeley   Ham\n",
       "272     fork_list              com         hotmail   Ham\n",
       "2158     baartman               ca    lin12.triumf   Ham\n",
       "129        opslag              net         inklaar   Ham\n",
       "134      rssfeeds              com         example   Ham\n",
       "1267          dan              com         dankohn   Ham\n",
       "2002  jeff.taylor              org            ieee   Ham"
      ]
     },
     "execution_count": 80,
     "metadata": {},
     "output_type": "execute_result"
    }
   ],
   "source": [
    "df[df.Label == \"Ham\"][[\"account_name\",\"top_level_domain\",\"domain\",\"Label\"]].sample(10)"
   ]
  },
  {
   "cell_type": "code",
   "execution_count": 81,
   "metadata": {},
   "outputs": [
    {
     "data": {
      "text/plain": [
       "com     5557\n",
       "net     1652\n",
       "de       299\n",
       "uk       276\n",
       "org      166\n",
       "        ... \n",
       "InFo       1\n",
       "uy         1\n",
       "ba         1\n",
       "vg         1\n",
       "INC        1\n",
       "Name: top_level_domain, Length: 145, dtype: int64"
      ]
     },
     "execution_count": 81,
     "metadata": {},
     "output_type": "execute_result"
    }
   ],
   "source": [
    "df[df[\"Label\"] == \"Spam\"][\"top_level_domain\"].value_counts()"
   ]
  },
  {
   "cell_type": "code",
   "execution_count": 82,
   "metadata": {},
   "outputs": [
    {
     "data": {
      "text/plain": [
       "com    1316\n",
       "net     456\n",
       "org     258\n",
       "edu      83\n",
       "Com      39\n",
       "ie       38\n",
       "uk       26\n",
       "AU       25\n",
       "ch       22\n",
       "au       21\n",
       "ca       19\n",
       "fm       13\n",
       "fi       13\n",
       "de       12\n",
       "be        8\n",
       "at        7\n",
       "COM       6\n",
       "nu        5\n",
       "FI        5\n",
       "EDU       5\n",
       "it        5\n",
       "fr        5\n",
       "ru        4\n",
       "to        4\n",
       "bz        2\n",
       "us        2\n",
       "za        2\n",
       "br        2\n",
       "ph        2\n",
       "es        1\n",
       "mil       1\n",
       "ee        1\n",
       "mx        1\n",
       "dk        1\n",
       "Name: top_level_domain, dtype: int64"
      ]
     },
     "execution_count": 82,
     "metadata": {},
     "output_type": "execute_result"
    }
   ],
   "source": [
    "df[df[\"Label\"] == \"Ham\"][\"top_level_domain\"].value_counts()"
   ]
  },
  {
   "cell_type": "code",
   "execution_count": 83,
   "metadata": {},
   "outputs": [
    {
     "data": {
      "text/plain": [
       "yahoo                        529\n",
       "hotmail                      222\n",
       "netscape                      70\n",
       "msn                           66\n",
       "yahoo.co                      65\n",
       "                            ... \n",
       "moirabaptist.freeserve.co      1\n",
       "59b0j                          1\n",
       "yojo                           1\n",
       "stanislas.loria                1\n",
       "genesshoes                     1\n",
       "Name: domain, Length: 4915, dtype: int64"
      ]
     },
     "execution_count": 83,
     "metadata": {},
     "output_type": "execute_result"
    }
   ],
   "source": [
    "df[df[\"Label\"] == \"Spam\"][\"domain\"].value_counts()"
   ]
  },
  {
   "cell_type": "code",
   "execution_count": 97,
   "metadata": {},
   "outputs": [
    {
     "data": {
      "text/plain": [
       "example      649\n",
       "hotmail       58\n",
       "slack         57\n",
       "perl          56\n",
       "comcast       45\n",
       "            ... \n",
       "attbi          1\n",
       "comp-wiz       1\n",
       "gimp           1\n",
       "trackbike      1\n",
       "hotp           1\n",
       "Name: domain, Length: 355, dtype: int64"
      ]
     },
     "execution_count": 97,
     "metadata": {},
     "output_type": "execute_result"
    }
   ],
   "source": [
    "df[df[\"Label\"] == \"Ham\"][\"domain\"].value_counts()"
   ]
  },
  {
   "cell_type": "code",
   "execution_count": 98,
   "metadata": {},
   "outputs": [
    {
     "data": {
      "text/plain": [
       "4.8279121052217056"
      ]
     },
     "execution_count": 98,
     "metadata": {},
     "output_type": "execute_result"
    }
   ],
   "source": [
    "len(df[df[\"account_name\"] == \"rssfeeds\"]) / len(df) * 100"
   ]
  },
  {
   "cell_type": "code",
   "execution_count": 99,
   "metadata": {},
   "outputs": [
    {
     "data": {
      "text/plain": [
       "43.45120894699535"
      ]
     },
     "execution_count": 99,
     "metadata": {},
     "output_type": "execute_result"
    }
   ],
   "source": [
    "df[df[\"account_name\"] == \"rssfeeds\"].size / len(df) * 100"
   ]
  },
  {
   "cell_type": "code",
   "execution_count": 107,
   "metadata": {},
   "outputs": [
    {
     "data": {
      "text/plain": [
       "(613, 9)"
      ]
     },
     "execution_count": 107,
     "metadata": {},
     "output_type": "execute_result"
    }
   ],
   "source": [
    "df[df[\"account_name\"] == \"rssfeeds\"].shape"
   ]
  },
  {
   "cell_type": "code",
   "execution_count": 109,
   "metadata": {},
   "outputs": [
    {
     "data": {
      "text/plain": [
       "True"
      ]
     },
     "execution_count": 109,
     "metadata": {},
     "output_type": "execute_result"
    }
   ],
   "source": [
    "613*9 == df[df[\"account_name\"] == \"rssfeeds\"].size"
   ]
  },
  {
   "cell_type": "code",
   "execution_count": 86,
   "metadata": {},
   "outputs": [
    {
     "data": {
      "text/plain": [
       "0.0"
      ]
     },
     "execution_count": 86,
     "metadata": {},
     "output_type": "execute_result"
    }
   ],
   "source": [
    "df[(df[\"account_name\"] == \"rssfeeds\") & (df[\"Label\"] == \"Spam\")].size /df[df[\"account_name\"] == \"rssfeeds\"].size  * 100"
   ]
  },
  {
   "cell_type": "code",
   "execution_count": 87,
   "metadata": {},
   "outputs": [
    {
     "data": {
      "text/plain": [
       "100.0"
      ]
     },
     "execution_count": 87,
     "metadata": {},
     "output_type": "execute_result"
    }
   ],
   "source": [
    "df[(df[\"account_name\"] == \"rssfeeds\") & (df[\"Label\"] == \"Ham\")].size /df[df[\"account_name\"] == \"rssfeeds\"].size  * 100"
   ]
  },
  {
   "cell_type": "code",
   "execution_count": 95,
   "metadata": {},
   "outputs": [
    {
     "data": {
      "text/plain": [
       "4.8279121052217056"
      ]
     },
     "execution_count": 95,
     "metadata": {},
     "output_type": "execute_result"
    }
   ],
   "source": [
    "613/12697*100"
   ]
  },
  {
   "cell_type": "code",
   "execution_count": 93,
   "metadata": {},
   "outputs": [
    {
     "data": {
      "text/html": [
       "<div>\n",
       "<style scoped>\n",
       "    .dataframe tbody tr th:only-of-type {\n",
       "        vertical-align: middle;\n",
       "    }\n",
       "\n",
       "    .dataframe tbody tr th {\n",
       "        vertical-align: top;\n",
       "    }\n",
       "\n",
       "    .dataframe thead th {\n",
       "        text-align: right;\n",
       "    }\n",
       "</style>\n",
       "<table border=\"1\" class=\"dataframe\">\n",
       "  <thead>\n",
       "    <tr style=\"text-align: right;\">\n",
       "      <th></th>\n",
       "      <th>sender_email</th>\n",
       "      <th>Label</th>\n",
       "      <th>has_inline_image</th>\n",
       "      <th>no_return_path</th>\n",
       "      <th>no_reply_no_return</th>\n",
       "      <th>yes_reply_no_return</th>\n",
       "      <th>top_level_domain</th>\n",
       "      <th>account_name</th>\n",
       "      <th>domain</th>\n",
       "    </tr>\n",
       "  </thead>\n",
       "  <tbody>\n",
       "    <tr>\n",
       "      <th>0</th>\n",
       "      <td>rssfeeds@example.com</td>\n",
       "      <td>Ham</td>\n",
       "      <td>False</td>\n",
       "      <td>False</td>\n",
       "      <td>False</td>\n",
       "      <td>False</td>\n",
       "      <td>com</td>\n",
       "      <td>rssfeeds</td>\n",
       "      <td>example</td>\n",
       "    </tr>\n",
       "    <tr>\n",
       "      <th>3</th>\n",
       "      <td>rssfeeds@example.com</td>\n",
       "      <td>Ham</td>\n",
       "      <td>False</td>\n",
       "      <td>False</td>\n",
       "      <td>False</td>\n",
       "      <td>False</td>\n",
       "      <td>com</td>\n",
       "      <td>rssfeeds</td>\n",
       "      <td>example</td>\n",
       "    </tr>\n",
       "    <tr>\n",
       "      <th>9</th>\n",
       "      <td>rssfeeds@example.com</td>\n",
       "      <td>Ham</td>\n",
       "      <td>False</td>\n",
       "      <td>False</td>\n",
       "      <td>False</td>\n",
       "      <td>False</td>\n",
       "      <td>com</td>\n",
       "      <td>rssfeeds</td>\n",
       "      <td>example</td>\n",
       "    </tr>\n",
       "    <tr>\n",
       "      <th>18</th>\n",
       "      <td>rssfeeds@example.com</td>\n",
       "      <td>Ham</td>\n",
       "      <td>False</td>\n",
       "      <td>False</td>\n",
       "      <td>False</td>\n",
       "      <td>False</td>\n",
       "      <td>com</td>\n",
       "      <td>rssfeeds</td>\n",
       "      <td>example</td>\n",
       "    </tr>\n",
       "    <tr>\n",
       "      <th>21</th>\n",
       "      <td>rssfeeds@example.com</td>\n",
       "      <td>Ham</td>\n",
       "      <td>False</td>\n",
       "      <td>False</td>\n",
       "      <td>False</td>\n",
       "      <td>False</td>\n",
       "      <td>com</td>\n",
       "      <td>rssfeeds</td>\n",
       "      <td>example</td>\n",
       "    </tr>\n",
       "    <tr>\n",
       "      <th>...</th>\n",
       "      <td>...</td>\n",
       "      <td>...</td>\n",
       "      <td>...</td>\n",
       "      <td>...</td>\n",
       "      <td>...</td>\n",
       "      <td>...</td>\n",
       "      <td>...</td>\n",
       "      <td>...</td>\n",
       "      <td>...</td>\n",
       "    </tr>\n",
       "    <tr>\n",
       "      <th>2387</th>\n",
       "      <td>rssfeeds@example.com</td>\n",
       "      <td>Ham</td>\n",
       "      <td>False</td>\n",
       "      <td>False</td>\n",
       "      <td>False</td>\n",
       "      <td>False</td>\n",
       "      <td>com</td>\n",
       "      <td>rssfeeds</td>\n",
       "      <td>example</td>\n",
       "    </tr>\n",
       "    <tr>\n",
       "      <th>2391</th>\n",
       "      <td>rssfeeds@example.com</td>\n",
       "      <td>Ham</td>\n",
       "      <td>False</td>\n",
       "      <td>False</td>\n",
       "      <td>False</td>\n",
       "      <td>False</td>\n",
       "      <td>com</td>\n",
       "      <td>rssfeeds</td>\n",
       "      <td>example</td>\n",
       "    </tr>\n",
       "    <tr>\n",
       "      <th>2393</th>\n",
       "      <td>rssfeeds@example.com</td>\n",
       "      <td>Ham</td>\n",
       "      <td>False</td>\n",
       "      <td>False</td>\n",
       "      <td>False</td>\n",
       "      <td>False</td>\n",
       "      <td>com</td>\n",
       "      <td>rssfeeds</td>\n",
       "      <td>example</td>\n",
       "    </tr>\n",
       "    <tr>\n",
       "      <th>2397</th>\n",
       "      <td>rssfeeds@example.com</td>\n",
       "      <td>Ham</td>\n",
       "      <td>False</td>\n",
       "      <td>False</td>\n",
       "      <td>False</td>\n",
       "      <td>False</td>\n",
       "      <td>com</td>\n",
       "      <td>rssfeeds</td>\n",
       "      <td>example</td>\n",
       "    </tr>\n",
       "    <tr>\n",
       "      <th>2398</th>\n",
       "      <td>rssfeeds@example.com</td>\n",
       "      <td>Ham</td>\n",
       "      <td>False</td>\n",
       "      <td>False</td>\n",
       "      <td>False</td>\n",
       "      <td>False</td>\n",
       "      <td>com</td>\n",
       "      <td>rssfeeds</td>\n",
       "      <td>example</td>\n",
       "    </tr>\n",
       "  </tbody>\n",
       "</table>\n",
       "<p>613 rows × 9 columns</p>\n",
       "</div>"
      ],
      "text/plain": [
       "              sender_email Label  has_inline_image  no_return_path  \\\n",
       "0     rssfeeds@example.com   Ham             False           False   \n",
       "3     rssfeeds@example.com   Ham             False           False   \n",
       "9     rssfeeds@example.com   Ham             False           False   \n",
       "18    rssfeeds@example.com   Ham             False           False   \n",
       "21    rssfeeds@example.com   Ham             False           False   \n",
       "...                    ...   ...               ...             ...   \n",
       "2387  rssfeeds@example.com   Ham             False           False   \n",
       "2391  rssfeeds@example.com   Ham             False           False   \n",
       "2393  rssfeeds@example.com   Ham             False           False   \n",
       "2397  rssfeeds@example.com   Ham             False           False   \n",
       "2398  rssfeeds@example.com   Ham             False           False   \n",
       "\n",
       "      no_reply_no_return  yes_reply_no_return top_level_domain account_name  \\\n",
       "0                  False                False              com     rssfeeds   \n",
       "3                  False                False              com     rssfeeds   \n",
       "9                  False                False              com     rssfeeds   \n",
       "18                 False                False              com     rssfeeds   \n",
       "21                 False                False              com     rssfeeds   \n",
       "...                  ...                  ...              ...          ...   \n",
       "2387               False                False              com     rssfeeds   \n",
       "2391               False                False              com     rssfeeds   \n",
       "2393               False                False              com     rssfeeds   \n",
       "2397               False                False              com     rssfeeds   \n",
       "2398               False                False              com     rssfeeds   \n",
       "\n",
       "       domain  \n",
       "0     example  \n",
       "3     example  \n",
       "9     example  \n",
       "18    example  \n",
       "21    example  \n",
       "...       ...  \n",
       "2387  example  \n",
       "2391  example  \n",
       "2393  example  \n",
       "2397  example  \n",
       "2398  example  \n",
       "\n",
       "[613 rows x 9 columns]"
      ]
     },
     "execution_count": 93,
     "metadata": {},
     "output_type": "execute_result"
    }
   ],
   "source": [
    "df[df[\"account_name\"] == \"rssfeeds\"]"
   ]
  },
  {
   "cell_type": "code",
   "execution_count": 92,
   "metadata": {},
   "outputs": [
    {
     "data": {
      "text/html": [
       "<div>\n",
       "<style scoped>\n",
       "    .dataframe tbody tr th:only-of-type {\n",
       "        vertical-align: middle;\n",
       "    }\n",
       "\n",
       "    .dataframe tbody tr th {\n",
       "        vertical-align: top;\n",
       "    }\n",
       "\n",
       "    .dataframe thead th {\n",
       "        text-align: right;\n",
       "    }\n",
       "</style>\n",
       "<table border=\"1\" class=\"dataframe\">\n",
       "  <thead>\n",
       "    <tr style=\"text-align: right;\">\n",
       "      <th></th>\n",
       "      <th>sender_email</th>\n",
       "      <th>Label</th>\n",
       "      <th>has_inline_image</th>\n",
       "      <th>no_return_path</th>\n",
       "      <th>no_reply_no_return</th>\n",
       "      <th>yes_reply_no_return</th>\n",
       "      <th>top_level_domain</th>\n",
       "      <th>account_name</th>\n",
       "      <th>domain</th>\n",
       "    </tr>\n",
       "  </thead>\n",
       "  <tbody>\n",
       "    <tr>\n",
       "      <th>0</th>\n",
       "      <td>rssfeeds@example.com</td>\n",
       "      <td>Ham</td>\n",
       "      <td>False</td>\n",
       "      <td>False</td>\n",
       "      <td>False</td>\n",
       "      <td>False</td>\n",
       "      <td>com</td>\n",
       "      <td>rssfeeds</td>\n",
       "      <td>example</td>\n",
       "    </tr>\n",
       "    <tr>\n",
       "      <th>3</th>\n",
       "      <td>rssfeeds@example.com</td>\n",
       "      <td>Ham</td>\n",
       "      <td>False</td>\n",
       "      <td>False</td>\n",
       "      <td>False</td>\n",
       "      <td>False</td>\n",
       "      <td>com</td>\n",
       "      <td>rssfeeds</td>\n",
       "      <td>example</td>\n",
       "    </tr>\n",
       "    <tr>\n",
       "      <th>9</th>\n",
       "      <td>rssfeeds@example.com</td>\n",
       "      <td>Ham</td>\n",
       "      <td>False</td>\n",
       "      <td>False</td>\n",
       "      <td>False</td>\n",
       "      <td>False</td>\n",
       "      <td>com</td>\n",
       "      <td>rssfeeds</td>\n",
       "      <td>example</td>\n",
       "    </tr>\n",
       "    <tr>\n",
       "      <th>18</th>\n",
       "      <td>rssfeeds@example.com</td>\n",
       "      <td>Ham</td>\n",
       "      <td>False</td>\n",
       "      <td>False</td>\n",
       "      <td>False</td>\n",
       "      <td>False</td>\n",
       "      <td>com</td>\n",
       "      <td>rssfeeds</td>\n",
       "      <td>example</td>\n",
       "    </tr>\n",
       "    <tr>\n",
       "      <th>21</th>\n",
       "      <td>rssfeeds@example.com</td>\n",
       "      <td>Ham</td>\n",
       "      <td>False</td>\n",
       "      <td>False</td>\n",
       "      <td>False</td>\n",
       "      <td>False</td>\n",
       "      <td>com</td>\n",
       "      <td>rssfeeds</td>\n",
       "      <td>example</td>\n",
       "    </tr>\n",
       "    <tr>\n",
       "      <th>...</th>\n",
       "      <td>...</td>\n",
       "      <td>...</td>\n",
       "      <td>...</td>\n",
       "      <td>...</td>\n",
       "      <td>...</td>\n",
       "      <td>...</td>\n",
       "      <td>...</td>\n",
       "      <td>...</td>\n",
       "      <td>...</td>\n",
       "    </tr>\n",
       "    <tr>\n",
       "      <th>2387</th>\n",
       "      <td>rssfeeds@example.com</td>\n",
       "      <td>Ham</td>\n",
       "      <td>False</td>\n",
       "      <td>False</td>\n",
       "      <td>False</td>\n",
       "      <td>False</td>\n",
       "      <td>com</td>\n",
       "      <td>rssfeeds</td>\n",
       "      <td>example</td>\n",
       "    </tr>\n",
       "    <tr>\n",
       "      <th>2391</th>\n",
       "      <td>rssfeeds@example.com</td>\n",
       "      <td>Ham</td>\n",
       "      <td>False</td>\n",
       "      <td>False</td>\n",
       "      <td>False</td>\n",
       "      <td>False</td>\n",
       "      <td>com</td>\n",
       "      <td>rssfeeds</td>\n",
       "      <td>example</td>\n",
       "    </tr>\n",
       "    <tr>\n",
       "      <th>2393</th>\n",
       "      <td>rssfeeds@example.com</td>\n",
       "      <td>Ham</td>\n",
       "      <td>False</td>\n",
       "      <td>False</td>\n",
       "      <td>False</td>\n",
       "      <td>False</td>\n",
       "      <td>com</td>\n",
       "      <td>rssfeeds</td>\n",
       "      <td>example</td>\n",
       "    </tr>\n",
       "    <tr>\n",
       "      <th>2397</th>\n",
       "      <td>rssfeeds@example.com</td>\n",
       "      <td>Ham</td>\n",
       "      <td>False</td>\n",
       "      <td>False</td>\n",
       "      <td>False</td>\n",
       "      <td>False</td>\n",
       "      <td>com</td>\n",
       "      <td>rssfeeds</td>\n",
       "      <td>example</td>\n",
       "    </tr>\n",
       "    <tr>\n",
       "      <th>2398</th>\n",
       "      <td>rssfeeds@example.com</td>\n",
       "      <td>Ham</td>\n",
       "      <td>False</td>\n",
       "      <td>False</td>\n",
       "      <td>False</td>\n",
       "      <td>False</td>\n",
       "      <td>com</td>\n",
       "      <td>rssfeeds</td>\n",
       "      <td>example</td>\n",
       "    </tr>\n",
       "  </tbody>\n",
       "</table>\n",
       "<p>613 rows × 9 columns</p>\n",
       "</div>"
      ],
      "text/plain": [
       "              sender_email Label  has_inline_image  no_return_path  \\\n",
       "0     rssfeeds@example.com   Ham             False           False   \n",
       "3     rssfeeds@example.com   Ham             False           False   \n",
       "9     rssfeeds@example.com   Ham             False           False   \n",
       "18    rssfeeds@example.com   Ham             False           False   \n",
       "21    rssfeeds@example.com   Ham             False           False   \n",
       "...                    ...   ...               ...             ...   \n",
       "2387  rssfeeds@example.com   Ham             False           False   \n",
       "2391  rssfeeds@example.com   Ham             False           False   \n",
       "2393  rssfeeds@example.com   Ham             False           False   \n",
       "2397  rssfeeds@example.com   Ham             False           False   \n",
       "2398  rssfeeds@example.com   Ham             False           False   \n",
       "\n",
       "      no_reply_no_return  yes_reply_no_return top_level_domain account_name  \\\n",
       "0                  False                False              com     rssfeeds   \n",
       "3                  False                False              com     rssfeeds   \n",
       "9                  False                False              com     rssfeeds   \n",
       "18                 False                False              com     rssfeeds   \n",
       "21                 False                False              com     rssfeeds   \n",
       "...                  ...                  ...              ...          ...   \n",
       "2387               False                False              com     rssfeeds   \n",
       "2391               False                False              com     rssfeeds   \n",
       "2393               False                False              com     rssfeeds   \n",
       "2397               False                False              com     rssfeeds   \n",
       "2398               False                False              com     rssfeeds   \n",
       "\n",
       "       domain  \n",
       "0     example  \n",
       "3     example  \n",
       "9     example  \n",
       "18    example  \n",
       "21    example  \n",
       "...       ...  \n",
       "2387  example  \n",
       "2391  example  \n",
       "2393  example  \n",
       "2397  example  \n",
       "2398  example  \n",
       "\n",
       "[613 rows x 9 columns]"
      ]
     },
     "execution_count": 92,
     "metadata": {},
     "output_type": "execute_result"
    }
   ],
   "source": [
    "df[df[\"sender_email\"] == \"rssfeeds@example.com\"]"
   ]
  },
  {
   "cell_type": "code",
   "execution_count": 46,
   "metadata": {},
   "outputs": [
    {
     "data": {
      "text/plain": [
       "(12697, 9)"
      ]
     },
     "execution_count": 46,
     "metadata": {},
     "output_type": "execute_result"
    }
   ],
   "source": [
    "df.shape"
   ]
  },
  {
   "cell_type": "code",
   "execution_count": 48,
   "metadata": {},
   "outputs": [
    {
     "data": {
      "text/plain": [
       "(12084, 9)"
      ]
     },
     "execution_count": 48,
     "metadata": {},
     "output_type": "execute_result"
    }
   ],
   "source": [
    "df.shape"
   ]
  },
  {
   "cell_type": "code",
   "execution_count": 41,
   "metadata": {},
   "outputs": [],
   "source": [
    "df[\"free_in_domain\"] = df[\"domain\"].map(lambda x: \"free\" in x)\n",
    "df[\"free_in_account\"] = df[\"account_name\"].map(lambda x: \"free\" in x)"
   ]
  },
  {
   "cell_type": "code",
   "execution_count": 42,
   "metadata": {},
   "outputs": [
    {
     "name": "stderr",
     "output_type": "stream",
     "text": [
      "/Users/susmitvengurlekar/opt/miniconda3/lib/python3.7/site-packages/ipykernel_launcher.py:1: FutureWarning: Indexing with multiple keys (implicitly converted to a tuple of keys) will be deprecated, use a list instead.\n",
      "  \"\"\"Entry point for launching an IPython kernel.\n"
     ]
    },
    {
     "data": {
      "text/html": [
       "<div>\n",
       "<style scoped>\n",
       "    .dataframe tbody tr th:only-of-type {\n",
       "        vertical-align: middle;\n",
       "    }\n",
       "\n",
       "    .dataframe tbody tr th {\n",
       "        vertical-align: top;\n",
       "    }\n",
       "\n",
       "    .dataframe thead th {\n",
       "        text-align: right;\n",
       "    }\n",
       "</style>\n",
       "<table border=\"1\" class=\"dataframe\">\n",
       "  <thead>\n",
       "    <tr style=\"text-align: right;\">\n",
       "      <th></th>\n",
       "      <th>free_in_domain</th>\n",
       "      <th>free_in_account</th>\n",
       "    </tr>\n",
       "    <tr>\n",
       "      <th>Label</th>\n",
       "      <th></th>\n",
       "      <th></th>\n",
       "    </tr>\n",
       "  </thead>\n",
       "  <tbody>\n",
       "    <tr>\n",
       "      <th>Ham</th>\n",
       "      <td>0.111297</td>\n",
       "      <td>0.000000</td>\n",
       "    </tr>\n",
       "    <tr>\n",
       "      <th>Spam</th>\n",
       "      <td>1.866433</td>\n",
       "      <td>0.087489</td>\n",
       "    </tr>\n",
       "  </tbody>\n",
       "</table>\n",
       "</div>"
      ],
      "text/plain": [
       "       free_in_domain  free_in_account\n",
       "Label                                 \n",
       "Ham          0.111297         0.000000\n",
       "Spam         1.866433         0.087489"
      ]
     },
     "execution_count": 42,
     "metadata": {},
     "output_type": "execute_result"
    }
   ],
   "source": [
    "df.groupby(\"Label\")['free_in_domain',\"free_in_account\"].mean()*100"
   ]
  },
  {
   "cell_type": "code",
   "execution_count": 43,
   "metadata": {},
   "outputs": [
    {
     "data": {
      "text/html": [
       "<div>\n",
       "<style scoped>\n",
       "    .dataframe tbody tr th:only-of-type {\n",
       "        vertical-align: middle;\n",
       "    }\n",
       "\n",
       "    .dataframe tbody tr th {\n",
       "        vertical-align: top;\n",
       "    }\n",
       "\n",
       "    .dataframe thead th {\n",
       "        text-align: right;\n",
       "    }\n",
       "</style>\n",
       "<table border=\"1\" class=\"dataframe\">\n",
       "  <thead>\n",
       "    <tr style=\"text-align: right;\">\n",
       "      <th></th>\n",
       "      <th>sender_email</th>\n",
       "      <th>Label</th>\n",
       "      <th>has_inline_image</th>\n",
       "      <th>no_return_path</th>\n",
       "      <th>no_reply_no_return</th>\n",
       "      <th>yes_reply_no_return</th>\n",
       "      <th>top_level_domain</th>\n",
       "      <th>account_name</th>\n",
       "      <th>domain</th>\n",
       "      <th>free_in_domain</th>\n",
       "      <th>free_in_account</th>\n",
       "    </tr>\n",
       "  </thead>\n",
       "  <tbody>\n",
       "    <tr>\n",
       "      <th>1</th>\n",
       "      <td>thompson@shelob.ce.ttu.edu</td>\n",
       "      <td>Ham</td>\n",
       "      <td>False</td>\n",
       "      <td>False</td>\n",
       "      <td>False</td>\n",
       "      <td>False</td>\n",
       "      <td>edu</td>\n",
       "      <td>thompson</td>\n",
       "      <td>shelob.ce.ttu</td>\n",
       "      <td>False</td>\n",
       "      <td>False</td>\n",
       "    </tr>\n",
       "    <tr>\n",
       "      <th>2</th>\n",
       "      <td>beberg@mithral.com</td>\n",
       "      <td>Ham</td>\n",
       "      <td>False</td>\n",
       "      <td>False</td>\n",
       "      <td>False</td>\n",
       "      <td>False</td>\n",
       "      <td>com</td>\n",
       "      <td>beberg</td>\n",
       "      <td>mithral</td>\n",
       "      <td>False</td>\n",
       "      <td>False</td>\n",
       "    </tr>\n",
       "    <tr>\n",
       "      <th>4</th>\n",
       "      <td>garym@canada.com</td>\n",
       "      <td>Ham</td>\n",
       "      <td>False</td>\n",
       "      <td>False</td>\n",
       "      <td>False</td>\n",
       "      <td>False</td>\n",
       "      <td>com</td>\n",
       "      <td>garym</td>\n",
       "      <td>canada</td>\n",
       "      <td>False</td>\n",
       "      <td>False</td>\n",
       "    </tr>\n",
       "    <tr>\n",
       "      <th>5</th>\n",
       "      <td>kragen@pobox.com</td>\n",
       "      <td>Ham</td>\n",
       "      <td>False</td>\n",
       "      <td>False</td>\n",
       "      <td>False</td>\n",
       "      <td>False</td>\n",
       "      <td>com</td>\n",
       "      <td>kragen</td>\n",
       "      <td>pobox</td>\n",
       "      <td>False</td>\n",
       "      <td>False</td>\n",
       "    </tr>\n",
       "    <tr>\n",
       "      <th>6</th>\n",
       "      <td>paul@cwie.net</td>\n",
       "      <td>Ham</td>\n",
       "      <td>False</td>\n",
       "      <td>False</td>\n",
       "      <td>False</td>\n",
       "      <td>False</td>\n",
       "      <td>net</td>\n",
       "      <td>paul</td>\n",
       "      <td>cwie</td>\n",
       "      <td>False</td>\n",
       "      <td>False</td>\n",
       "    </tr>\n",
       "  </tbody>\n",
       "</table>\n",
       "</div>"
      ],
      "text/plain": [
       "                 sender_email Label  has_inline_image  no_return_path  \\\n",
       "1  thompson@shelob.ce.ttu.edu   Ham             False           False   \n",
       "2          beberg@mithral.com   Ham             False           False   \n",
       "4            garym@canada.com   Ham             False           False   \n",
       "5            kragen@pobox.com   Ham             False           False   \n",
       "6               paul@cwie.net   Ham             False           False   \n",
       "\n",
       "   no_reply_no_return  yes_reply_no_return top_level_domain account_name  \\\n",
       "1               False                False              edu     thompson   \n",
       "2               False                False              com       beberg   \n",
       "4               False                False              com        garym   \n",
       "5               False                False              com       kragen   \n",
       "6               False                False              net         paul   \n",
       "\n",
       "          domain  free_in_domain  free_in_account  \n",
       "1  shelob.ce.ttu           False            False  \n",
       "2        mithral           False            False  \n",
       "4         canada           False            False  \n",
       "5          pobox           False            False  \n",
       "6           cwie           False            False  "
      ]
     },
     "execution_count": 43,
     "metadata": {},
     "output_type": "execute_result"
    }
   ],
   "source": [
    "df.head()"
   ]
  },
  {
   "cell_type": "code",
   "execution_count": 46,
   "metadata": {},
   "outputs": [
    {
     "data": {
      "text/html": [
       "<div>\n",
       "<style scoped>\n",
       "    .dataframe tbody tr th:only-of-type {\n",
       "        vertical-align: middle;\n",
       "    }\n",
       "\n",
       "    .dataframe tbody tr th {\n",
       "        vertical-align: top;\n",
       "    }\n",
       "\n",
       "    .dataframe thead th {\n",
       "        text-align: right;\n",
       "    }\n",
       "</style>\n",
       "<table border=\"1\" class=\"dataframe\">\n",
       "  <thead>\n",
       "    <tr style=\"text-align: right;\">\n",
       "      <th></th>\n",
       "      <th>account_name</th>\n",
       "      <th>Label</th>\n",
       "    </tr>\n",
       "  </thead>\n",
       "  <tbody>\n",
       "    <tr>\n",
       "      <th>3174</th>\n",
       "      <td>zafvyst</td>\n",
       "      <td>Spam</td>\n",
       "    </tr>\n",
       "    <tr>\n",
       "      <th>4963</th>\n",
       "      <td>-UXWPOST</td>\n",
       "      <td>Spam</td>\n",
       "    </tr>\n",
       "    <tr>\n",
       "      <th>4427</th>\n",
       "      <td>wcypzmujhxzcoy</td>\n",
       "      <td>Spam</td>\n",
       "    </tr>\n",
       "    <tr>\n",
       "      <th>11755</th>\n",
       "      <td>bob</td>\n",
       "      <td>Spam</td>\n",
       "    </tr>\n",
       "    <tr>\n",
       "      <th>4751</th>\n",
       "      <td>psawyer_pf</td>\n",
       "      <td>Spam</td>\n",
       "    </tr>\n",
       "    <tr>\n",
       "      <th>6096</th>\n",
       "      <td>marketplaza</td>\n",
       "      <td>Spam</td>\n",
       "    </tr>\n",
       "    <tr>\n",
       "      <th>2774</th>\n",
       "      <td>home_loans</td>\n",
       "      <td>Spam</td>\n",
       "    </tr>\n",
       "    <tr>\n",
       "      <th>3093</th>\n",
       "      <td>Claudia_Fechtner</td>\n",
       "      <td>Spam</td>\n",
       "    </tr>\n",
       "    <tr>\n",
       "      <th>12235</th>\n",
       "      <td>maiolica</td>\n",
       "      <td>Spam</td>\n",
       "    </tr>\n",
       "    <tr>\n",
       "      <th>12412</th>\n",
       "      <td>g.velez_on</td>\n",
       "      <td>Spam</td>\n",
       "    </tr>\n",
       "  </tbody>\n",
       "</table>\n",
       "</div>"
      ],
      "text/plain": [
       "           account_name Label\n",
       "3174            zafvyst  Spam\n",
       "4963           -UXWPOST  Spam\n",
       "4427     wcypzmujhxzcoy  Spam\n",
       "11755               bob  Spam\n",
       "4751         psawyer_pf  Spam\n",
       "6096        marketplaza  Spam\n",
       "2774         home_loans  Spam\n",
       "3093   Claudia_Fechtner  Spam\n",
       "12235          maiolica  Spam\n",
       "12412        g.velez_on  Spam"
      ]
     },
     "execution_count": 46,
     "metadata": {},
     "output_type": "execute_result"
    }
   ],
   "source": [
    "df[df.Label == \"Spam\"][[\"account_name\",\"Label\"]].sample(10)"
   ]
  },
  {
   "cell_type": "code",
   "execution_count": 47,
   "metadata": {},
   "outputs": [
    {
     "data": {
      "text/html": [
       "<div>\n",
       "<style scoped>\n",
       "    .dataframe tbody tr th:only-of-type {\n",
       "        vertical-align: middle;\n",
       "    }\n",
       "\n",
       "    .dataframe tbody tr th {\n",
       "        vertical-align: top;\n",
       "    }\n",
       "\n",
       "    .dataframe thead th {\n",
       "        text-align: right;\n",
       "    }\n",
       "</style>\n",
       "<table border=\"1\" class=\"dataframe\">\n",
       "  <thead>\n",
       "    <tr style=\"text-align: right;\">\n",
       "      <th></th>\n",
       "      <th>account_name</th>\n",
       "      <th>Label</th>\n",
       "    </tr>\n",
       "  </thead>\n",
       "  <tbody>\n",
       "    <tr>\n",
       "      <th>2233</th>\n",
       "      <td>bigpeted</td>\n",
       "      <td>Ham</td>\n",
       "    </tr>\n",
       "    <tr>\n",
       "      <th>1533</th>\n",
       "      <td>yyyy</td>\n",
       "      <td>Ham</td>\n",
       "    </tr>\n",
       "    <tr>\n",
       "      <th>161</th>\n",
       "      <td>kevinc</td>\n",
       "      <td>Ham</td>\n",
       "    </tr>\n",
       "    <tr>\n",
       "      <th>854</th>\n",
       "      <td>matthias</td>\n",
       "      <td>Ham</td>\n",
       "    </tr>\n",
       "    <tr>\n",
       "      <th>2184</th>\n",
       "      <td>Axel.Thimm</td>\n",
       "      <td>Ham</td>\n",
       "    </tr>\n",
       "    <tr>\n",
       "      <th>1254</th>\n",
       "      <td>cdale</td>\n",
       "      <td>Ham</td>\n",
       "    </tr>\n",
       "    <tr>\n",
       "      <th>777</th>\n",
       "      <td>harley</td>\n",
       "      <td>Ham</td>\n",
       "    </tr>\n",
       "    <tr>\n",
       "      <th>336</th>\n",
       "      <td>tomwhore</td>\n",
       "      <td>Ham</td>\n",
       "    </tr>\n",
       "    <tr>\n",
       "      <th>581</th>\n",
       "      <td>tony</td>\n",
       "      <td>Ham</td>\n",
       "    </tr>\n",
       "    <tr>\n",
       "      <th>1666</th>\n",
       "      <td>thomas</td>\n",
       "      <td>Ham</td>\n",
       "    </tr>\n",
       "  </tbody>\n",
       "</table>\n",
       "</div>"
      ],
      "text/plain": [
       "     account_name Label\n",
       "2233     bigpeted   Ham\n",
       "1533         yyyy   Ham\n",
       "161        kevinc   Ham\n",
       "854      matthias   Ham\n",
       "2184   Axel.Thimm   Ham\n",
       "1254        cdale   Ham\n",
       "777        harley   Ham\n",
       "336      tomwhore   Ham\n",
       "581          tony   Ham\n",
       "1666       thomas   Ham"
      ]
     },
     "execution_count": 47,
     "metadata": {},
     "output_type": "execute_result"
    }
   ],
   "source": [
    "df[df.Label == \"Ham\"][[\"account_name\",\"Label\"]].sample(10)"
   ]
  },
  {
   "cell_type": "code",
   "execution_count": 48,
   "metadata": {},
   "outputs": [],
   "source": [
    "df.drop([\"sender_email\",\"free_in_account\",\"domain\",\"top_level_domain\"],axis=1,inplace=True)"
   ]
  },
  {
   "cell_type": "code",
   "execution_count": 49,
   "metadata": {},
   "outputs": [
    {
     "data": {
      "text/html": [
       "<div>\n",
       "<style scoped>\n",
       "    .dataframe tbody tr th:only-of-type {\n",
       "        vertical-align: middle;\n",
       "    }\n",
       "\n",
       "    .dataframe tbody tr th {\n",
       "        vertical-align: top;\n",
       "    }\n",
       "\n",
       "    .dataframe thead th {\n",
       "        text-align: right;\n",
       "    }\n",
       "</style>\n",
       "<table border=\"1\" class=\"dataframe\">\n",
       "  <thead>\n",
       "    <tr style=\"text-align: right;\">\n",
       "      <th></th>\n",
       "      <th>Label</th>\n",
       "      <th>has_inline_image</th>\n",
       "      <th>no_return_path</th>\n",
       "      <th>no_reply_no_return</th>\n",
       "      <th>yes_reply_no_return</th>\n",
       "      <th>account_name</th>\n",
       "      <th>free_in_domain</th>\n",
       "    </tr>\n",
       "  </thead>\n",
       "  <tbody>\n",
       "    <tr>\n",
       "      <th>1</th>\n",
       "      <td>Ham</td>\n",
       "      <td>False</td>\n",
       "      <td>False</td>\n",
       "      <td>False</td>\n",
       "      <td>False</td>\n",
       "      <td>thompson</td>\n",
       "      <td>False</td>\n",
       "    </tr>\n",
       "    <tr>\n",
       "      <th>2</th>\n",
       "      <td>Ham</td>\n",
       "      <td>False</td>\n",
       "      <td>False</td>\n",
       "      <td>False</td>\n",
       "      <td>False</td>\n",
       "      <td>beberg</td>\n",
       "      <td>False</td>\n",
       "    </tr>\n",
       "    <tr>\n",
       "      <th>4</th>\n",
       "      <td>Ham</td>\n",
       "      <td>False</td>\n",
       "      <td>False</td>\n",
       "      <td>False</td>\n",
       "      <td>False</td>\n",
       "      <td>garym</td>\n",
       "      <td>False</td>\n",
       "    </tr>\n",
       "    <tr>\n",
       "      <th>5</th>\n",
       "      <td>Ham</td>\n",
       "      <td>False</td>\n",
       "      <td>False</td>\n",
       "      <td>False</td>\n",
       "      <td>False</td>\n",
       "      <td>kragen</td>\n",
       "      <td>False</td>\n",
       "    </tr>\n",
       "    <tr>\n",
       "      <th>6</th>\n",
       "      <td>Ham</td>\n",
       "      <td>False</td>\n",
       "      <td>False</td>\n",
       "      <td>False</td>\n",
       "      <td>False</td>\n",
       "      <td>paul</td>\n",
       "      <td>False</td>\n",
       "    </tr>\n",
       "  </tbody>\n",
       "</table>\n",
       "</div>"
      ],
      "text/plain": [
       "  Label  has_inline_image  no_return_path  no_reply_no_return  \\\n",
       "1   Ham             False           False               False   \n",
       "2   Ham             False           False               False   \n",
       "4   Ham             False           False               False   \n",
       "5   Ham             False           False               False   \n",
       "6   Ham             False           False               False   \n",
       "\n",
       "   yes_reply_no_return account_name  free_in_domain  \n",
       "1                False     thompson           False  \n",
       "2                False       beberg           False  \n",
       "4                False        garym           False  \n",
       "5                False       kragen           False  \n",
       "6                False         paul           False  "
      ]
     },
     "execution_count": 49,
     "metadata": {},
     "output_type": "execute_result"
    }
   ],
   "source": [
    "df.head()"
   ]
  },
  {
   "cell_type": "markdown",
   "metadata": {},
   "source": [
    "# Feature Extraction From Subject, Text\n"
   ]
  },
  {
   "cell_type": "code",
   "execution_count": 265,
   "metadata": {},
   "outputs": [],
   "source": [
    "df = pd.read_csv(\"../Raw Data/extracted_body.csv\")"
   ]
  },
  {
   "cell_type": "code",
   "execution_count": 247,
   "metadata": {},
   "outputs": [
    {
     "data": {
      "text/plain": [
       "(15720, 3)"
      ]
     },
     "execution_count": 247,
     "metadata": {},
     "output_type": "execute_result"
    }
   ],
   "source": [
    "df.shape"
   ]
  },
  {
   "cell_type": "code",
   "execution_count": 248,
   "metadata": {},
   "outputs": [
    {
     "data": {
      "text/plain": [
       "Subject    247\n",
       "Text         7\n",
       "Label        0\n",
       "dtype: int64"
      ]
     },
     "execution_count": 248,
     "metadata": {},
     "output_type": "execute_result"
    }
   ],
   "source": [
    "df.isna().sum()"
   ]
  },
  {
   "cell_type": "code",
   "execution_count": 266,
   "metadata": {},
   "outputs": [],
   "source": [
    "df[\"no_subject\"] = df[\"Subject\"].isna()\n",
    "df[\"no_text\"] = df[\"Text\"].isna()"
   ]
  },
  {
   "cell_type": "code",
   "execution_count": 267,
   "metadata": {},
   "outputs": [],
   "source": [
    "df[\"Subject\"] = df[\"Subject\"].fillna(\"\")\n",
    "df[\"Text\"] = df[\"Text\"].fillna(\"\")"
   ]
  },
  {
   "cell_type": "code",
   "execution_count": 251,
   "metadata": {},
   "outputs": [
    {
     "data": {
      "text/plain": [
       "Spam    69.3257\n",
       "Ham     30.6743\n",
       "Name: Label, dtype: float64"
      ]
     },
     "execution_count": 251,
     "metadata": {},
     "output_type": "execute_result"
    }
   ],
   "source": [
    "df[\"Label\"].value_counts() / len(df) *100"
   ]
  },
  {
   "cell_type": "code",
   "execution_count": 252,
   "metadata": {},
   "outputs": [
    {
     "data": {
      "text/html": [
       "<div>\n",
       "<style scoped>\n",
       "    .dataframe tbody tr th:only-of-type {\n",
       "        vertical-align: middle;\n",
       "    }\n",
       "\n",
       "    .dataframe tbody tr th {\n",
       "        vertical-align: top;\n",
       "    }\n",
       "\n",
       "    .dataframe thead th {\n",
       "        text-align: right;\n",
       "    }\n",
       "</style>\n",
       "<table border=\"1\" class=\"dataframe\">\n",
       "  <thead>\n",
       "    <tr style=\"text-align: right;\">\n",
       "      <th></th>\n",
       "      <th>Subject</th>\n",
       "      <th>Text</th>\n",
       "    </tr>\n",
       "  </thead>\n",
       "  <tbody>\n",
       "    <tr>\n",
       "      <th>4874</th>\n",
       "      <td>book : semantic\\n</td>\n",
       "      <td>course book peter harder functional semantics ...</td>\n",
       "    </tr>\n",
       "    <tr>\n",
       "      <th>4309</th>\n",
       "      <td>machine translation\\n</td>\n",
       "      <td>mt summit vi : \" machine translation : past , ...</td>\n",
       "    </tr>\n",
       "    <tr>\n",
       "      <th>3788</th>\n",
       "      <td>sum : gloss latex\\n</td>\n",
       "      <td>quite number reply query latex style package l...</td>\n",
       "    </tr>\n",
       "    <tr>\n",
       "      <th>1650</th>\n",
       "      <td>[Razor-users] Razor 2.14 - the day after</td>\n",
       "      <td>Good day, Fox,\\n\\nOn Fri, 23 Aug 2002, Fox wro...</td>\n",
       "    </tr>\n",
       "    <tr>\n",
       "      <th>824</th>\n",
       "      <td>Python 2.2 site libs?</td>\n",
       "      <td>Ahh sweet.  Theres a reason for me to upgrade ...</td>\n",
       "    </tr>\n",
       "    <tr>\n",
       "      <th>3427</th>\n",
       "      <td>han - heinrich waengler\\n</td>\n",
       "      <td>dear linguist member , interest comparable x -...</td>\n",
       "    </tr>\n",
       "    <tr>\n",
       "      <th>5202</th>\n",
       "      <td>workshop language space\\n</td>\n",
       "      <td>alan c . harri , ph . d . telnos : main off : ...</td>\n",
       "    </tr>\n",
       "    <tr>\n",
       "      <th>245</th>\n",
       "      <td>ing message [was: Re: Patch to complete a chan...</td>\n",
       "      <td>On Tue Sep 10 2002 at 12:52, Robert Elz wrote:...</td>\n",
       "    </tr>\n",
       "    <tr>\n",
       "      <th>1871</th>\n",
       "      <td>]: Selling Wedded Bliss (was Re: Ouch...)</td>\n",
       "      <td>On Fri, 6 Sep 2002, Eugen Leitl wrote:\\n\\n&gt; On...</td>\n",
       "    </tr>\n",
       "    <tr>\n",
       "      <th>4292</th>\n",
       "      <td>conf : scil 10 - linguistic cognitive science</td>\n",
       "      <td>scil-10 june 6 &amp; 7 northwestern university ann...</td>\n",
       "    </tr>\n",
       "    <tr>\n",
       "      <th>848</th>\n",
       "      <td>EBusiness Webforms: cluetrain has left the sta...</td>\n",
       "      <td>&gt; &gt;                                           ...</td>\n",
       "    </tr>\n",
       "    <tr>\n",
       "      <th>4008</th>\n",
       "      <td>south slavic phonology\\n</td>\n",
       "      <td>hi anyone recommend fairly uncomplicate book s...</td>\n",
       "    </tr>\n",
       "    <tr>\n",
       "      <th>5230</th>\n",
       "      <td>evolvable hardware gp\\n</td>\n",
       "      <td>paper available post script . . . \" rapidly re...</td>\n",
       "    </tr>\n",
       "    <tr>\n",
       "      <th>1432</th>\n",
       "      <td>just an idiot'</td>\n",
       "      <td>URL: http://www.newsisfree.com/click/-2,865570...</td>\n",
       "    </tr>\n",
       "    <tr>\n",
       "      <th>770</th>\n",
       "      <td>/s through skin</td>\n",
       "      <td>URL: http://boingboing.net/#85534163\\nDate: No...</td>\n",
       "    </tr>\n",
       "  </tbody>\n",
       "</table>\n",
       "</div>"
      ],
      "text/plain": [
       "                                                Subject  \\\n",
       "4874                                  book : semantic\\n   \n",
       "4309                              machine translation\\n   \n",
       "3788                                sum : gloss latex\\n   \n",
       "1650           [Razor-users] Razor 2.14 - the day after   \n",
       "824                               Python 2.2 site libs?   \n",
       "3427                          han - heinrich waengler\\n   \n",
       "5202                          workshop language space\\n   \n",
       "245   ing message [was: Re: Patch to complete a chan...   \n",
       "1871          ]: Selling Wedded Bliss (was Re: Ouch...)   \n",
       "4292      conf : scil 10 - linguistic cognitive science   \n",
       "848   EBusiness Webforms: cluetrain has left the sta...   \n",
       "4008                           south slavic phonology\\n   \n",
       "5230                            evolvable hardware gp\\n   \n",
       "1432                                     just an idiot'   \n",
       "770                                     /s through skin   \n",
       "\n",
       "                                                   Text  \n",
       "4874  course book peter harder functional semantics ...  \n",
       "4309  mt summit vi : \" machine translation : past , ...  \n",
       "3788  quite number reply query latex style package l...  \n",
       "1650  Good day, Fox,\\n\\nOn Fri, 23 Aug 2002, Fox wro...  \n",
       "824   Ahh sweet.  Theres a reason for me to upgrade ...  \n",
       "3427  dear linguist member , interest comparable x -...  \n",
       "5202  alan c . harri , ph . d . telnos : main off : ...  \n",
       "245   On Tue Sep 10 2002 at 12:52, Robert Elz wrote:...  \n",
       "1871  On Fri, 6 Sep 2002, Eugen Leitl wrote:\\n\\n> On...  \n",
       "4292  scil-10 june 6 & 7 northwestern university ann...  \n",
       "848   > >                                           ...  \n",
       "4008  hi anyone recommend fairly uncomplicate book s...  \n",
       "5230  paper available post script . . . \" rapidly re...  \n",
       "1432  URL: http://www.newsisfree.com/click/-2,865570...  \n",
       "770   URL: http://boingboing.net/#85534163\\nDate: No...  "
      ]
     },
     "execution_count": 252,
     "metadata": {},
     "output_type": "execute_result"
    }
   ],
   "source": [
    "df[df[\"Label\"] == \"Ham\"][[\"Subject\",\"Text\"]].sample(15)"
   ]
  },
  {
   "cell_type": "code",
   "execution_count": 253,
   "metadata": {},
   "outputs": [
    {
     "data": {
      "text/html": [
       "<div>\n",
       "<style scoped>\n",
       "    .dataframe tbody tr th:only-of-type {\n",
       "        vertical-align: middle;\n",
       "    }\n",
       "\n",
       "    .dataframe tbody tr th {\n",
       "        vertical-align: top;\n",
       "    }\n",
       "\n",
       "    .dataframe thead th {\n",
       "        text-align: right;\n",
       "    }\n",
       "</style>\n",
       "<table border=\"1\" class=\"dataframe\">\n",
       "  <thead>\n",
       "    <tr style=\"text-align: right;\">\n",
       "      <th></th>\n",
       "      <th>Subject</th>\n",
       "      <th>Text</th>\n",
       "    </tr>\n",
       "  </thead>\n",
       "  <tbody>\n",
       "    <tr>\n",
       "      <th>7693</th>\n",
       "      <td>Alpen-Antique recruitment (Australian job oppo...</td>\n",
       "      <td>Dear Mr/Mrs,\\n\\nAlpen-Antique GmbH was founded...</td>\n",
       "    </tr>\n",
       "    <tr>\n",
       "      <th>7138</th>\n",
       "      <td>Lose your weight. New weightloss loses up to 19%.</td>\n",
       "      <td>Hello, I have a special offer for you...\\n\\nWA...</td>\n",
       "    </tr>\n",
       "    <tr>\n",
       "      <th>15562</th>\n",
       "      <td>=?ISO-2202-JP?Q?=82=A8=8B=E0=82=E0=96=E1=82=A6...</td>\n",
       "      <td>bait,\\n\\n=81=9A=81=9A=81=9A=83T=83N=83=89=82=C...</td>\n",
       "    </tr>\n",
       "    <tr>\n",
       "      <th>10758</th>\n",
       "      <td>=?iso-8859-1?B?TWFjcm9tZWRpYSBTdHVkaW8gTVggMjA...</td>\n",
       "      <td>This is a multi-part message in MIME format.\\n...</td>\n",
       "    </tr>\n",
       "    <tr>\n",
       "      <th>5809</th>\n",
       "      <td>dentistCD,</td>\n",
       "      <td>----E65A48CD569B3811C\\nContent-Type: text/plai...</td>\n",
       "    </tr>\n",
       "    <tr>\n",
       "      <th>2427</th>\n",
       "      <td>change life $ 15 . 55</td>\n",
       "      <td>money excuses . . . both ! ! ! \" dares nothing...</td>\n",
       "    </tr>\n",
       "    <tr>\n",
       "      <th>7306</th>\n",
       "      <td>WORLDWIDE DELIVER POPULAR SOFTWARES FROM 15 DO...</td>\n",
       "      <td>----00551377750667\\nContent-Type: text/plain; ...</td>\n",
       "    </tr>\n",
       "    <tr>\n",
       "      <th>10294</th>\n",
       "      <td>Drugs Online</td>\n",
       "      <td>Online pharmacy - Visit our online store and s...</td>\n",
       "    </tr>\n",
       "    <tr>\n",
       "      <th>8758</th>\n",
       "      <td>Thats how p/orn stars do it</td>\n",
       "      <td>----986928776709369454\\nContent-Type: text/pla...</td>\n",
       "    </tr>\n",
       "    <tr>\n",
       "      <th>9446</th>\n",
       "      <td>drew Acr0bat, Ms 0ffice 2OO3; Adobe Photosh0p....</td>\n",
       "      <td>----448.6796245_81800845170060\\nContent-Type: ...</td>\n",
       "    </tr>\n",
       "    <tr>\n",
       "      <th>12780</th>\n",
       "      <td>It is a great chance to save on meds.</td>\n",
       "      <td>This is a multi-part message in MIME format.\\n...</td>\n",
       "    </tr>\n",
       "    <tr>\n",
       "      <th>7278</th>\n",
       "      <td>YOUR COMPLIANCE IS NEEDED</td>\n",
       "      <td>NAME:MRS. SUZANA NUHAN VAYE\\n%BARR.JAMES BRODE...</td>\n",
       "    </tr>\n",
       "    <tr>\n",
       "      <th>2871</th>\n",
       "      <td>stop pay those high major airline fare\\n</td>\n",
       "      <td>stop paying those inflated airfare prices ! ! ...</td>\n",
       "    </tr>\n",
       "    <tr>\n",
       "      <th>2721</th>\n",
       "      <td>released ! 10 million ! ! !</td>\n",
       "      <td>was released ! ! introducing . . . millions vo...</td>\n",
       "    </tr>\n",
       "    <tr>\n",
       "      <th>8750</th>\n",
       "      <td>National Lottery Headquarters:</td>\n",
       "      <td>National Lottery Headquarters:\\nCustomer Servi...</td>\n",
       "    </tr>\n",
       "  </tbody>\n",
       "</table>\n",
       "</div>"
      ],
      "text/plain": [
       "                                                 Subject  \\\n",
       "7693   Alpen-Antique recruitment (Australian job oppo...   \n",
       "7138   Lose your weight. New weightloss loses up to 19%.   \n",
       "15562  =?ISO-2202-JP?Q?=82=A8=8B=E0=82=E0=96=E1=82=A6...   \n",
       "10758  =?iso-8859-1?B?TWFjcm9tZWRpYSBTdHVkaW8gTVggMjA...   \n",
       "5809                                          dentistCD,   \n",
       "2427                               change life $ 15 . 55   \n",
       "7306   WORLDWIDE DELIVER POPULAR SOFTWARES FROM 15 DO...   \n",
       "10294                                       Drugs Online   \n",
       "8758                         Thats how p/orn stars do it   \n",
       "9446   drew Acr0bat, Ms 0ffice 2OO3; Adobe Photosh0p....   \n",
       "12780              It is a great chance to save on meds.   \n",
       "7278                           YOUR COMPLIANCE IS NEEDED   \n",
       "2871            stop pay those high major airline fare\\n   \n",
       "2721                         released ! 10 million ! ! !   \n",
       "8750                      National Lottery Headquarters:   \n",
       "\n",
       "                                                    Text  \n",
       "7693   Dear Mr/Mrs,\\n\\nAlpen-Antique GmbH was founded...  \n",
       "7138   Hello, I have a special offer for you...\\n\\nWA...  \n",
       "15562  bait,\\n\\n=81=9A=81=9A=81=9A=83T=83N=83=89=82=C...  \n",
       "10758  This is a multi-part message in MIME format.\\n...  \n",
       "5809   ----E65A48CD569B3811C\\nContent-Type: text/plai...  \n",
       "2427   money excuses . . . both ! ! ! \" dares nothing...  \n",
       "7306   ----00551377750667\\nContent-Type: text/plain; ...  \n",
       "10294  Online pharmacy - Visit our online store and s...  \n",
       "8758   ----986928776709369454\\nContent-Type: text/pla...  \n",
       "9446   ----448.6796245_81800845170060\\nContent-Type: ...  \n",
       "12780  This is a multi-part message in MIME format.\\n...  \n",
       "7278   NAME:MRS. SUZANA NUHAN VAYE\\n%BARR.JAMES BRODE...  \n",
       "2871   stop paying those inflated airfare prices ! ! ...  \n",
       "2721   was released ! ! introducing . . . millions vo...  \n",
       "8750   National Lottery Headquarters:\\nCustomer Servi...  "
      ]
     },
     "execution_count": 253,
     "metadata": {},
     "output_type": "execute_result"
    }
   ],
   "source": [
    "df[df[\"Label\"] == \"Spam\"][[\"Subject\",\"Text\"]].sample(15)"
   ]
  },
  {
   "cell_type": "code",
   "execution_count": 254,
   "metadata": {},
   "outputs": [
    {
     "name": "stderr",
     "output_type": "stream",
     "text": [
      "[nltk_data] Downloading package stopwords to\n",
      "[nltk_data]     /Users/susmitvengurlekar/nltk_data...\n",
      "[nltk_data]   Package stopwords is already up-to-date!\n"
     ]
    }
   ],
   "source": [
    "import re\n",
    "import nltk\n",
    "nltk.download('stopwords')\n",
    "from nltk.corpus import stopwords\n"
   ]
  },
  {
   "cell_type": "code",
   "execution_count": 268,
   "metadata": {},
   "outputs": [],
   "source": [
    "df[\"is_html\"] = df[\"Text\"].map(lambda x: \"<html\" in str(x).lower() or \"< html\" in str(x).lower())"
   ]
  },
  {
   "cell_type": "code",
   "execution_count": 269,
   "metadata": {},
   "outputs": [
    {
     "data": {
      "text/plain": [
       "Label  is_html\n",
       "Ham    False      4813\n",
       "       True          9\n",
       "Spam   False      5483\n",
       "       True       5415\n",
       "Name: is_html, dtype: int64"
      ]
     },
     "execution_count": 269,
     "metadata": {},
     "output_type": "execute_result"
    }
   ],
   "source": [
    "df.groupby(\"Label\")[\"is_html\"].value_counts()"
   ]
  },
  {
   "cell_type": "code",
   "execution_count": 270,
   "metadata": {},
   "outputs": [],
   "source": [
    "df[\"Text\"] = df[\"Text\"].str.lower().str.findall(r\"[a-z]+\")"
   ]
  },
  {
   "cell_type": "code",
   "execution_count": 271,
   "metadata": {},
   "outputs": [
    {
     "data": {
      "text/plain": [
       "0        [url, http, www, newsisfree, com, click, date,...\n",
       "1        [you, re, probably, running, exmh, on, a, loca...\n",
       "2        [on, sun, sep, reza, b, far, ebuilt, wrote, c,...\n",
       "3        [url, http, www, newsisfree, com, click, date,...\n",
       "4        [o, owen, byrne, owen, permafrost, net, writes...\n",
       "                               ...                        \n",
       "15715    [us, oi, and, gas, report, oil, climbs, gains,...\n",
       "15716    [cf, b, a, df, speedy, net, pe, content, type,...\n",
       "15717    [html, head, title, acrylic, title, head, body...\n",
       "15718    [content, type, text, plain, charset, us, asci...\n",
       "15719    [this, is, a, multi, part, message, in, mime, ...\n",
       "Name: Text, Length: 15720, dtype: object"
      ]
     },
     "execution_count": 271,
     "metadata": {},
     "output_type": "execute_result"
    }
   ],
   "source": [
    "df[\"Text\"]"
   ]
  },
  {
   "cell_type": "code",
   "execution_count": 272,
   "metadata": {},
   "outputs": [],
   "source": [
    "remove_words = set(stopwords.words())\n",
    "tags = set([\"html\",\"head\",\"img\",\"p\",\"div\",\"body\",\"title\"])\n",
    "remove_words = remove_words.union(tags)\n",
    "def remove_tags(text):\n",
    "    cleaned_text = []\n",
    "    for txt in text:\n",
    "        if txt in remove_words:\n",
    "            continue\n",
    "        cleaned_text.append(txt)\n",
    "    return cleaned_text\n",
    "df[\"Text\"] = df[\"Text\"].map(remove_tags)"
   ]
  },
  {
   "cell_type": "code",
   "execution_count": 273,
   "metadata": {},
   "outputs": [],
   "source": [
    "html_removal_phrases = [\"this part message mime\",\"this multipart mime message\",\"content type\"]\n",
    "def html_removal(text):\n",
    "    text = \" \".join(text)\n",
    "    for remove in html_removal_phrases:\n",
    "        text = text.replace(remove,\"\")\n",
    "    text = text.strip()\n",
    "    text = text.lower()\n",
    "    return text\n",
    "df[\"Text\"] = df[\"Text\"].map(html_removal)"
   ]
  },
  {
   "cell_type": "code",
   "execution_count": 274,
   "metadata": {},
   "outputs": [],
   "source": [
    "remove_phase_two = [\"text plain\",\"content transfer\",\"charset\",\"us ascii\",\"format\",\"encoding\",\"multipart\",\"body\",\"html\",\"head\",\"title\",\"meta\"]\n",
    "def phase_two(text):\n",
    "    for remove in remove_phase_two:\n",
    "        text = text.replace(remove,\"\")\n",
    "    text = text.strip()\n",
    "    text = text.lower()\n",
    "    return text\n",
    "df[\"Text\"] = df[\"Text\"].map(phase_two)"
   ]
  },
  {
   "cell_type": "code",
   "execution_count": 275,
   "metadata": {},
   "outputs": [],
   "source": [
    "def cleaner(text):\n",
    "    text = text.split(\" \")\n",
    "    cleaned = []\n",
    "    for txt in text:\n",
    "        txt = txt.strip()\n",
    "        if len(txt) > 2:\n",
    "            cleaned.append(txt)\n",
    "    return \" \".join(cleaned)\n",
    "df[\"Text\"] = df[\"Text\"].map(cleaner)"
   ]
  },
  {
   "cell_type": "code",
   "execution_count": 276,
   "metadata": {},
   "outputs": [],
   "source": [
    "df[\"Text\"] = df[\"Text\"].str.join(\"\")"
   ]
  },
  {
   "cell_type": "code",
   "execution_count": 277,
   "metadata": {},
   "outputs": [
    {
     "data": {
      "text/html": [
       "<div>\n",
       "<style scoped>\n",
       "    .dataframe tbody tr th:only-of-type {\n",
       "        vertical-align: middle;\n",
       "    }\n",
       "\n",
       "    .dataframe tbody tr th {\n",
       "        vertical-align: top;\n",
       "    }\n",
       "\n",
       "    .dataframe thead th {\n",
       "        text-align: right;\n",
       "    }\n",
       "</style>\n",
       "<table border=\"1\" class=\"dataframe\">\n",
       "  <thead>\n",
       "    <tr style=\"text-align: right;\">\n",
       "      <th></th>\n",
       "      <th>Subject</th>\n",
       "      <th>Text</th>\n",
       "      <th>Label</th>\n",
       "      <th>no_subject</th>\n",
       "      <th>no_text</th>\n",
       "      <th>is_html</th>\n",
       "    </tr>\n",
       "  </thead>\n",
       "  <tbody>\n",
       "    <tr>\n",
       "      <th>0</th>\n",
       "      <td>eless Rubens works stolen in raid on mansion</td>\n",
       "      <td>url http www newsisfree click date arts fourth...</td>\n",
       "      <td>Ham</td>\n",
       "      <td>False</td>\n",
       "      <td>False</td>\n",
       "      <td>False</td>\n",
       "    </tr>\n",
       "    <tr>\n",
       "      <th>1</th>\n",
       "      <td>Sorting</td>\n",
       "      <td>probably running exmh local machine running re...</td>\n",
       "      <td>Ham</td>\n",
       "      <td>False</td>\n",
       "      <td>False</td>\n",
       "      <td>False</td>\n",
       "    </tr>\n",
       "    <tr>\n",
       "      <th>2</th>\n",
       "      <td>Java is for kiddies</td>\n",
       "      <td>sun sep reza far ebuilt wrote forces developer...</td>\n",
       "      <td>Ham</td>\n",
       "      <td>False</td>\n",
       "      <td>False</td>\n",
       "      <td>False</td>\n",
       "    </tr>\n",
       "    <tr>\n",
       "      <th>3</th>\n",
       "      <td>eboarder drives-through Subway. With his face</td>\n",
       "      <td>url http www newsisfree click date dekalb dail...</td>\n",
       "      <td>Ham</td>\n",
       "      <td>False</td>\n",
       "      <td>False</td>\n",
       "      <td>False</td>\n",
       "    </tr>\n",
       "    <tr>\n",
       "      <th>4</th>\n",
       "      <td>Canadians</td>\n",
       "      <td>owen byrne owen permafrost net writes local pa...</td>\n",
       "      <td>Ham</td>\n",
       "      <td>False</td>\n",
       "      <td>False</td>\n",
       "      <td>False</td>\n",
       "    </tr>\n",
       "    <tr>\n",
       "      <th>...</th>\n",
       "      <td>...</td>\n",
       "      <td>...</td>\n",
       "      <td>...</td>\n",
       "      <td>...</td>\n",
       "      <td>...</td>\n",
       "      <td>...</td>\n",
       "    </tr>\n",
       "    <tr>\n",
       "      <th>15715</th>\n",
       "      <td>Wall Street phenomenon reaps rewards</td>\n",
       "      <td>gas report oil climbs gains soar leading track...</td>\n",
       "      <td>Spam</td>\n",
       "      <td>False</td>\n",
       "      <td>False</td>\n",
       "      <td>False</td>\n",
       "    </tr>\n",
       "    <tr>\n",
       "      <th>15716</th>\n",
       "      <td>=?utf-8?B?RndkOiBbc25lYWtpZXJdIDgxJS1vZmYgVmlj...</td>\n",
       "      <td>speedy net text iso quoted printable doctype p...</td>\n",
       "      <td>Spam</td>\n",
       "      <td>False</td>\n",
       "      <td>False</td>\n",
       "      <td>True</td>\n",
       "    </tr>\n",
       "    <tr>\n",
       "      <th>15717</th>\n",
       "      <td>Brand name and generic pills</td>\n",
       "      <td>acrylic center font verdana diphthong muskrat ...</td>\n",
       "      <td>Spam</td>\n",
       "      <td>False</td>\n",
       "      <td>False</td>\n",
       "      <td>True</td>\n",
       "    </tr>\n",
       "    <tr>\n",
       "      <th>15718</th>\n",
       "      <td>write TUSSI0NEEX, AMB11EN, XANAAX, \\/11AGRRA, ...</td>\n",
       "      <td>bit quit besides independent prison youll surp...</td>\n",
       "      <td>Spam</td>\n",
       "      <td>False</td>\n",
       "      <td>False</td>\n",
       "      <td>True</td>\n",
       "    </tr>\n",
       "    <tr>\n",
       "      <th>15719</th>\n",
       "      <td>Surprise your girlfriend this night and make h...</td>\n",
       "      <td>part message mime bit anew demitting salami el...</td>\n",
       "      <td>Spam</td>\n",
       "      <td>False</td>\n",
       "      <td>False</td>\n",
       "      <td>True</td>\n",
       "    </tr>\n",
       "  </tbody>\n",
       "</table>\n",
       "<p>15720 rows × 6 columns</p>\n",
       "</div>"
      ],
      "text/plain": [
       "                                                 Subject  \\\n",
       "0           eless Rubens works stolen in raid on mansion   \n",
       "1                                                Sorting   \n",
       "2                                    Java is for kiddies   \n",
       "3          eboarder drives-through Subway. With his face   \n",
       "4                                              Canadians   \n",
       "...                                                  ...   \n",
       "15715               Wall Street phenomenon reaps rewards   \n",
       "15716  =?utf-8?B?RndkOiBbc25lYWtpZXJdIDgxJS1vZmYgVmlj...   \n",
       "15717                       Brand name and generic pills   \n",
       "15718  write TUSSI0NEEX, AMB11EN, XANAAX, \\/11AGRRA, ...   \n",
       "15719  Surprise your girlfriend this night and make h...   \n",
       "\n",
       "                                                    Text Label  no_subject  \\\n",
       "0      url http www newsisfree click date arts fourth...   Ham       False   \n",
       "1      probably running exmh local machine running re...   Ham       False   \n",
       "2      sun sep reza far ebuilt wrote forces developer...   Ham       False   \n",
       "3      url http www newsisfree click date dekalb dail...   Ham       False   \n",
       "4      owen byrne owen permafrost net writes local pa...   Ham       False   \n",
       "...                                                  ...   ...         ...   \n",
       "15715  gas report oil climbs gains soar leading track...  Spam       False   \n",
       "15716  speedy net text iso quoted printable doctype p...  Spam       False   \n",
       "15717  acrylic center font verdana diphthong muskrat ...  Spam       False   \n",
       "15718  bit quit besides independent prison youll surp...  Spam       False   \n",
       "15719  part message mime bit anew demitting salami el...  Spam       False   \n",
       "\n",
       "       no_text  is_html  \n",
       "0        False    False  \n",
       "1        False    False  \n",
       "2        False    False  \n",
       "3        False    False  \n",
       "4        False    False  \n",
       "...        ...      ...  \n",
       "15715    False    False  \n",
       "15716    False     True  \n",
       "15717    False     True  \n",
       "15718    False     True  \n",
       "15719    False     True  \n",
       "\n",
       "[15720 rows x 6 columns]"
      ]
     },
     "execution_count": 277,
     "metadata": {},
     "output_type": "execute_result"
    }
   ],
   "source": [
    "df"
   ]
  },
  {
   "cell_type": "code",
   "execution_count": null,
   "metadata": {},
   "outputs": [],
   "source": []
  },
  {
   "cell_type": "code",
   "execution_count": null,
   "metadata": {},
   "outputs": [],
   "source": []
  }
 ],
 "metadata": {
  "kernelspec": {
   "display_name": "Python 3",
   "language": "python",
   "name": "python3"
  },
  "language_info": {
   "codemirror_mode": {
    "name": "ipython",
    "version": 3
   },
   "file_extension": ".py",
   "mimetype": "text/x-python",
   "name": "python",
   "nbconvert_exporter": "python",
   "pygments_lexer": "ipython3",
   "version": "3.7.6"
  },
  "toc": {
   "base_numbering": 1,
   "nav_menu": {},
   "number_sections": true,
   "sideBar": true,
   "skip_h1_title": false,
   "title_cell": "Table of Contents",
   "title_sidebar": "Contents",
   "toc_cell": false,
   "toc_position": {},
   "toc_section_display": true,
   "toc_window_display": false
  }
 },
 "nbformat": 4,
 "nbformat_minor": 4
}
