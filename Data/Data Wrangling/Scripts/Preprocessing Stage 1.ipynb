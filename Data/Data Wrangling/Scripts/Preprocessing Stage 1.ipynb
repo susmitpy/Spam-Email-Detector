{
 "cells": [
  {
   "cell_type": "code",
   "execution_count": 102,
   "metadata": {},
   "outputs": [],
   "source": [
    "import pandas as pd\n",
    "import numpy as np\n",
    "import os\n",
    "import re"
   ]
  },
  {
   "cell_type": "markdown",
   "metadata": {},
   "source": [
    "# Preprocessing Header"
   ]
  },
  {
   "cell_type": "code",
   "execution_count": 76,
   "metadata": {},
   "outputs": [],
   "source": [
    "df = pd.read_csv(\"../Raw Data/extracted_header.csv\")"
   ]
  },
  {
   "cell_type": "code",
   "execution_count": 77,
   "metadata": {},
   "outputs": [
    {
     "data": {
      "text/html": [
       "<div>\n",
       "<style scoped>\n",
       "    .dataframe tbody tr th:only-of-type {\n",
       "        vertical-align: middle;\n",
       "    }\n",
       "\n",
       "    .dataframe tbody tr th {\n",
       "        vertical-align: top;\n",
       "    }\n",
       "\n",
       "    .dataframe thead th {\n",
       "        text-align: right;\n",
       "    }\n",
       "</style>\n",
       "<table border=\"1\" class=\"dataframe\">\n",
       "  <thead>\n",
       "    <tr style=\"text-align: right;\">\n",
       "      <th></th>\n",
       "      <th>sender_email</th>\n",
       "      <th>reply_to_email</th>\n",
       "      <th>subject</th>\n",
       "      <th>inline_image_count</th>\n",
       "      <th>Label</th>\n",
       "    </tr>\n",
       "  </thead>\n",
       "  <tbody>\n",
       "    <tr>\n",
       "      <th>0</th>\n",
       "      <td>sh@insiq.us</td>\n",
       "      <td>sh@insiq.us</td>\n",
       "      <td>uaranteed for Eight Years</td>\n",
       "      <td>5</td>\n",
       "      <td>Spam</td>\n",
       "    </tr>\n",
       "    <tr>\n",
       "      <th>1</th>\n",
       "      <td>greatoffers@sendgreatoffers.com</td>\n",
       "      <td>-COM@SMTP1.ADMANMAIL.COM</td>\n",
       "      <td>ratulations! You Get a Free Handheld Organizer!</td>\n",
       "      <td>6</td>\n",
       "      <td>Spam</td>\n",
       "    </tr>\n",
       "    <tr>\n",
       "      <th>2</th>\n",
       "      <td>viagra_medication1182@martyrs.com.au</td>\n",
       "      <td>viagra_medication1182@martyrs.com.au</td>\n",
       "      <td>ne Doctors will fill your Viagra Prescription ...</td>\n",
       "      <td>0</td>\n",
       "      <td>Spam</td>\n",
       "    </tr>\n",
       "  </tbody>\n",
       "</table>\n",
       "</div>"
      ],
      "text/plain": [
       "                           sender_email                        reply_to_email  \\\n",
       "0                           sh@insiq.us                           sh@insiq.us   \n",
       "1       greatoffers@sendgreatoffers.com              -COM@SMTP1.ADMANMAIL.COM   \n",
       "2  viagra_medication1182@martyrs.com.au  viagra_medication1182@martyrs.com.au   \n",
       "\n",
       "                                             subject  inline_image_count Label  \n",
       "0                          uaranteed for Eight Years                   5  Spam  \n",
       "1    ratulations! You Get a Free Handheld Organizer!                   6  Spam  \n",
       "2  ne Doctors will fill your Viagra Prescription ...                   0  Spam  "
      ]
     },
     "execution_count": 77,
     "metadata": {},
     "output_type": "execute_result"
    }
   ],
   "source": [
    "df.head(n=3)"
   ]
  },
  {
   "cell_type": "code",
   "execution_count": 78,
   "metadata": {},
   "outputs": [
    {
     "data": {
      "text/plain": [
       "sender_email           0\n",
       "reply_to_email         0\n",
       "subject               11\n",
       "inline_image_count     0\n",
       "Label                  0\n",
       "dtype: int64"
      ]
     },
     "execution_count": 78,
     "metadata": {},
     "output_type": "execute_result"
    }
   ],
   "source": [
    "df.isna().sum()"
   ]
  },
  {
   "cell_type": "code",
   "execution_count": 79,
   "metadata": {},
   "outputs": [
    {
     "data": {
      "text/plain": [
       "(12484, 5)"
      ]
     },
     "execution_count": 79,
     "metadata": {},
     "output_type": "execute_result"
    }
   ],
   "source": [
    "df.shape"
   ]
  },
  {
   "cell_type": "code",
   "execution_count": 80,
   "metadata": {},
   "outputs": [],
   "source": [
    "df = df.dropna()"
   ]
  },
  {
   "cell_type": "code",
   "execution_count": 81,
   "metadata": {},
   "outputs": [
    {
     "data": {
      "text/plain": [
       "Spam    10074\n",
       "Ham      2399\n",
       "Name: Label, dtype: int64"
      ]
     },
     "execution_count": 81,
     "metadata": {},
     "output_type": "execute_result"
    }
   ],
   "source": [
    "df.Label.value_counts() "
   ]
  },
  {
   "cell_type": "code",
   "execution_count": 82,
   "metadata": {},
   "outputs": [
    {
     "data": {
      "text/html": [
       "<div>\n",
       "<style scoped>\n",
       "    .dataframe tbody tr th:only-of-type {\n",
       "        vertical-align: middle;\n",
       "    }\n",
       "\n",
       "    .dataframe tbody tr th {\n",
       "        vertical-align: top;\n",
       "    }\n",
       "\n",
       "    .dataframe thead th {\n",
       "        text-align: right;\n",
       "    }\n",
       "</style>\n",
       "<table border=\"1\" class=\"dataframe\">\n",
       "  <thead>\n",
       "    <tr style=\"text-align: right;\">\n",
       "      <th></th>\n",
       "      <th>mean</th>\n",
       "      <th>median</th>\n",
       "    </tr>\n",
       "    <tr>\n",
       "      <th>Label</th>\n",
       "      <th></th>\n",
       "      <th></th>\n",
       "    </tr>\n",
       "  </thead>\n",
       "  <tbody>\n",
       "    <tr>\n",
       "      <th>Ham</th>\n",
       "      <td>0.000000</td>\n",
       "      <td>0</td>\n",
       "    </tr>\n",
       "    <tr>\n",
       "      <th>Spam</th>\n",
       "      <td>0.623784</td>\n",
       "      <td>0</td>\n",
       "    </tr>\n",
       "  </tbody>\n",
       "</table>\n",
       "</div>"
      ],
      "text/plain": [
       "           mean  median\n",
       "Label                  \n",
       "Ham    0.000000       0\n",
       "Spam   0.623784       0"
      ]
     },
     "execution_count": 82,
     "metadata": {},
     "output_type": "execute_result"
    }
   ],
   "source": [
    "df.groupby(\"Label\")[\"inline_image_count\"].agg([\"mean\",\"median\"])"
   ]
  },
  {
   "cell_type": "code",
   "execution_count": 83,
   "metadata": {},
   "outputs": [
    {
     "data": {
      "text/plain": [
       "array([0])"
      ]
     },
     "execution_count": 83,
     "metadata": {},
     "output_type": "execute_result"
    }
   ],
   "source": [
    "df[df.Label == \"Ham\"][\"inline_image_count\"].unique() # All Ham emails don't have a single inline image"
   ]
  },
  {
   "cell_type": "code",
   "execution_count": 84,
   "metadata": {},
   "outputs": [],
   "source": [
    "a=df[df.Label == \"Spam\"][\"inline_image_count\"]"
   ]
  },
  {
   "cell_type": "code",
   "execution_count": 85,
   "metadata": {},
   "outputs": [
    {
     "data": {
      "text/plain": [
       "85.4377605717689"
      ]
     },
     "execution_count": 85,
     "metadata": {},
     "output_type": "execute_result"
    }
   ],
   "source": [
    "(a == 0).sum() / len(a) * 100 # 86% of Spam Emails don't have a single inline image"
   ]
  },
  {
   "cell_type": "code",
   "execution_count": 86,
   "metadata": {},
   "outputs": [],
   "source": [
    "df[\"has_inline_image\"] = df[\"inline_image_count\"] >= 1\n",
    "df.drop(\"inline_image_count\",axis=1,inplace=True)"
   ]
  },
  {
   "cell_type": "code",
   "execution_count": 87,
   "metadata": {},
   "outputs": [
    {
     "data": {
      "text/html": [
       "<div>\n",
       "<style scoped>\n",
       "    .dataframe tbody tr th:only-of-type {\n",
       "        vertical-align: middle;\n",
       "    }\n",
       "\n",
       "    .dataframe tbody tr th {\n",
       "        vertical-align: top;\n",
       "    }\n",
       "\n",
       "    .dataframe thead th {\n",
       "        text-align: right;\n",
       "    }\n",
       "</style>\n",
       "<table border=\"1\" class=\"dataframe\">\n",
       "  <thead>\n",
       "    <tr style=\"text-align: right;\">\n",
       "      <th></th>\n",
       "      <th>sender_email</th>\n",
       "      <th>reply_to_email</th>\n",
       "    </tr>\n",
       "  </thead>\n",
       "  <tbody>\n",
       "    <tr>\n",
       "      <th>10155</th>\n",
       "      <td>liblit@eecs.berkeley.edu</td>\n",
       "      <td>rpm-zzzlist-admin@freshrpms.net</td>\n",
       "    </tr>\n",
       "    <tr>\n",
       "      <th>10856</th>\n",
       "      <td>gkm@petting-zoo.net</td>\n",
       "      <td>0xdeadbeef-request@petting-zoo.net</td>\n",
       "    </tr>\n",
       "    <tr>\n",
       "      <th>11910</th>\n",
       "      <td>tjb@unh.edu</td>\n",
       "      <td>rpm-zzzlist-admin@freshrpms.net</td>\n",
       "    </tr>\n",
       "    <tr>\n",
       "      <th>10334</th>\n",
       "      <td>dbr@greenhydrant.com</td>\n",
       "      <td>razor-users-admin@example.sourceforge.net</td>\n",
       "    </tr>\n",
       "    <tr>\n",
       "      <th>11128</th>\n",
       "      <td>cwg-exmh@DeepEddy.Com</td>\n",
       "      <td>exmh-workers-admin@example.com</td>\n",
       "    </tr>\n",
       "    <tr>\n",
       "      <th>10591</th>\n",
       "      <td>ygingras@ygingras.net</td>\n",
       "      <td>example.com@securityfocus.com</td>\n",
       "    </tr>\n",
       "    <tr>\n",
       "      <th>11627</th>\n",
       "      <td>beberg@mithral.com</td>\n",
       "      <td>fork-admin@xent.com</td>\n",
       "    </tr>\n",
       "    <tr>\n",
       "      <th>10565</th>\n",
       "      <td>kre@munnari.OZ.AU</td>\n",
       "      <td>exmh-workers-admin@example.com</td>\n",
       "    </tr>\n",
       "    <tr>\n",
       "      <th>11493</th>\n",
       "      <td>neugens@libero.it</td>\n",
       "      <td>neugens@libero.it</td>\n",
       "    </tr>\n",
       "    <tr>\n",
       "      <th>11349</th>\n",
       "      <td>wkearney99@hotmail.com</td>\n",
       "      <td>fork-admin@xent.com</td>\n",
       "    </tr>\n",
       "  </tbody>\n",
       "</table>\n",
       "</div>"
      ],
      "text/plain": [
       "                   sender_email                             reply_to_email\n",
       "10155  liblit@eecs.berkeley.edu            rpm-zzzlist-admin@freshrpms.net\n",
       "10856       gkm@petting-zoo.net         0xdeadbeef-request@petting-zoo.net\n",
       "11910               tjb@unh.edu            rpm-zzzlist-admin@freshrpms.net\n",
       "10334      dbr@greenhydrant.com  razor-users-admin@example.sourceforge.net\n",
       "11128     cwg-exmh@DeepEddy.Com             exmh-workers-admin@example.com\n",
       "10591     ygingras@ygingras.net              example.com@securityfocus.com\n",
       "11627        beberg@mithral.com                        fork-admin@xent.com\n",
       "10565         kre@munnari.OZ.AU             exmh-workers-admin@example.com\n",
       "11493         neugens@libero.it                          neugens@libero.it\n",
       "11349    wkearney99@hotmail.com                        fork-admin@xent.com"
      ]
     },
     "execution_count": 87,
     "metadata": {},
     "output_type": "execute_result"
    }
   ],
   "source": [
    "df[df.Label == \"Ham\"][[\"sender_email\",\"reply_to_email\"]].sample(10)"
   ]
  },
  {
   "cell_type": "code",
   "execution_count": 88,
   "metadata": {},
   "outputs": [
    {
     "data": {
      "text/html": [
       "<div>\n",
       "<style scoped>\n",
       "    .dataframe tbody tr th:only-of-type {\n",
       "        vertical-align: middle;\n",
       "    }\n",
       "\n",
       "    .dataframe tbody tr th {\n",
       "        vertical-align: top;\n",
       "    }\n",
       "\n",
       "    .dataframe thead th {\n",
       "        text-align: right;\n",
       "    }\n",
       "</style>\n",
       "<table border=\"1\" class=\"dataframe\">\n",
       "  <thead>\n",
       "    <tr style=\"text-align: right;\">\n",
       "      <th></th>\n",
       "      <th>sender_email</th>\n",
       "      <th>reply_to_email</th>\n",
       "    </tr>\n",
       "  </thead>\n",
       "  <tbody>\n",
       "    <tr>\n",
       "      <th>5867</th>\n",
       "      <td>Winston@atlaswebmail.c</td>\n",
       "      <td>Winston@atlaswebmail.com</td>\n",
       "    </tr>\n",
       "    <tr>\n",
       "      <th>4250</th>\n",
       "      <td>MATTHEWBUCHANAN@terra.e</td>\n",
       "      <td>None</td>\n",
       "    </tr>\n",
       "    <tr>\n",
       "      <th>8027</th>\n",
       "      <td>drcheick@tsamail.co.z</td>\n",
       "      <td>None</td>\n",
       "    </tr>\n",
       "    <tr>\n",
       "      <th>6073</th>\n",
       "      <td>stnxrk@worldsite.n</td>\n",
       "      <td>None</td>\n",
       "    </tr>\n",
       "    <tr>\n",
       "      <th>19</th>\n",
       "      <td>jaqwill@msn.com</td>\n",
       "      <td>smave@datapart.no</td>\n",
       "    </tr>\n",
       "    <tr>\n",
       "      <th>3604</th>\n",
       "      <td>allenrobert1@uno.e</td>\n",
       "      <td>None</td>\n",
       "    </tr>\n",
       "    <tr>\n",
       "      <th>5785</th>\n",
       "      <td>n.gleason_gu@stanghal.co.u</td>\n",
       "      <td>None</td>\n",
       "    </tr>\n",
       "    <tr>\n",
       "      <th>2874</th>\n",
       "      <td>kdlwtdp@broadcast.n</td>\n",
       "      <td>None</td>\n",
       "    </tr>\n",
       "    <tr>\n",
       "      <th>332</th>\n",
       "      <td>hezf855@framesetup.com</td>\n",
       "      <td>hezf855@framesetup.com</td>\n",
       "    </tr>\n",
       "    <tr>\n",
       "      <th>7567</th>\n",
       "      <td>m_ndeye2@voila.f</td>\n",
       "      <td>None</td>\n",
       "    </tr>\n",
       "  </tbody>\n",
       "</table>\n",
       "</div>"
      ],
      "text/plain": [
       "                    sender_email            reply_to_email\n",
       "5867      Winston@atlaswebmail.c  Winston@atlaswebmail.com\n",
       "4250     MATTHEWBUCHANAN@terra.e                      None\n",
       "8027       drcheick@tsamail.co.z                      None\n",
       "6073          stnxrk@worldsite.n                      None\n",
       "19               jaqwill@msn.com         smave@datapart.no\n",
       "3604          allenrobert1@uno.e                      None\n",
       "5785  n.gleason_gu@stanghal.co.u                      None\n",
       "2874         kdlwtdp@broadcast.n                      None\n",
       "332       hezf855@framesetup.com    hezf855@framesetup.com\n",
       "7567            m_ndeye2@voila.f                      None"
      ]
     },
     "execution_count": 88,
     "metadata": {},
     "output_type": "execute_result"
    }
   ],
   "source": [
    "df[df.Label == \"Spam\"][[\"sender_email\",\"reply_to_email\"]].sample(10)"
   ]
  },
  {
   "cell_type": "code",
   "execution_count": 92,
   "metadata": {},
   "outputs": [
    {
     "data": {
      "text/html": [
       "<div>\n",
       "<style scoped>\n",
       "    .dataframe tbody tr th:only-of-type {\n",
       "        vertical-align: middle;\n",
       "    }\n",
       "\n",
       "    .dataframe tbody tr th {\n",
       "        vertical-align: top;\n",
       "    }\n",
       "\n",
       "    .dataframe thead th {\n",
       "        text-align: right;\n",
       "    }\n",
       "</style>\n",
       "<table border=\"1\" class=\"dataframe\">\n",
       "  <thead>\n",
       "    <tr style=\"text-align: right;\">\n",
       "      <th></th>\n",
       "      <th>mean</th>\n",
       "    </tr>\n",
       "    <tr>\n",
       "      <th>Label</th>\n",
       "      <th></th>\n",
       "    </tr>\n",
       "  </thead>\n",
       "  <tbody>\n",
       "    <tr>\n",
       "      <th>Ham</th>\n",
       "      <td>0.000000</td>\n",
       "    </tr>\n",
       "    <tr>\n",
       "      <th>Spam</th>\n",
       "      <td>71.808616</td>\n",
       "    </tr>\n",
       "  </tbody>\n",
       "</table>\n",
       "</div>"
      ],
      "text/plain": [
       "            mean\n",
       "Label           \n",
       "Ham     0.000000\n",
       "Spam   71.808616"
      ]
     },
     "execution_count": 92,
     "metadata": {},
     "output_type": "execute_result"
    }
   ],
   "source": [
    "df[\"has_reply_to_email\"] = df[\"reply_to_email\"].map(lambda x: x==\"None\")\n",
    "df.drop(\"reply_to_email\",axis=1,inplace=True)\n",
    "df.groupby(\"Label\")[\"has_reply_to_email\"].agg([\"mean\"])*100"
   ]
  },
  {
   "cell_type": "code",
   "execution_count": 93,
   "metadata": {},
   "outputs": [
    {
     "data": {
      "text/html": [
       "<div>\n",
       "<style scoped>\n",
       "    .dataframe tbody tr th:only-of-type {\n",
       "        vertical-align: middle;\n",
       "    }\n",
       "\n",
       "    .dataframe tbody tr th {\n",
       "        vertical-align: top;\n",
       "    }\n",
       "\n",
       "    .dataframe thead th {\n",
       "        text-align: right;\n",
       "    }\n",
       "</style>\n",
       "<table border=\"1\" class=\"dataframe\">\n",
       "  <thead>\n",
       "    <tr style=\"text-align: right;\">\n",
       "      <th></th>\n",
       "      <th>sender_email</th>\n",
       "      <th>subject</th>\n",
       "      <th>Label</th>\n",
       "      <th>has_inline_image</th>\n",
       "      <th>has_reply_to_email</th>\n",
       "    </tr>\n",
       "  </thead>\n",
       "  <tbody>\n",
       "    <tr>\n",
       "      <th>0</th>\n",
       "      <td>sh@insiq.us</td>\n",
       "      <td>uaranteed for Eight Years</td>\n",
       "      <td>Spam</td>\n",
       "      <td>True</td>\n",
       "      <td>False</td>\n",
       "    </tr>\n",
       "    <tr>\n",
       "      <th>1</th>\n",
       "      <td>greatoffers@sendgreatoffers.com</td>\n",
       "      <td>ratulations! You Get a Free Handheld Organizer!</td>\n",
       "      <td>Spam</td>\n",
       "      <td>True</td>\n",
       "      <td>False</td>\n",
       "    </tr>\n",
       "    <tr>\n",
       "      <th>2</th>\n",
       "      <td>viagra_medication1182@martyrs.com.au</td>\n",
       "      <td>ne Doctors will fill your Viagra Prescription ...</td>\n",
       "      <td>Spam</td>\n",
       "      <td>False</td>\n",
       "      <td>False</td>\n",
       "    </tr>\n",
       "    <tr>\n",
       "      <th>3</th>\n",
       "      <td>vbi@insiq.us</td>\n",
       "      <td>Sale - Three Commission Streams</td>\n",
       "      <td>Spam</td>\n",
       "      <td>True</td>\n",
       "      <td>False</td>\n",
       "    </tr>\n",
       "    <tr>\n",
       "      <th>4</th>\n",
       "      <td>newpsychic414@mail.ru</td>\n",
       "      <td>Peace, Harmony, Tranquility, And Happiness Ri...</td>\n",
       "      <td>Spam</td>\n",
       "      <td>True</td>\n",
       "      <td>False</td>\n",
       "    </tr>\n",
       "  </tbody>\n",
       "</table>\n",
       "</div>"
      ],
      "text/plain": [
       "                           sender_email  \\\n",
       "0                           sh@insiq.us   \n",
       "1       greatoffers@sendgreatoffers.com   \n",
       "2  viagra_medication1182@martyrs.com.au   \n",
       "3                          vbi@insiq.us   \n",
       "4                 newpsychic414@mail.ru   \n",
       "\n",
       "                                             subject Label  has_inline_image  \\\n",
       "0                          uaranteed for Eight Years  Spam              True   \n",
       "1    ratulations! You Get a Free Handheld Organizer!  Spam              True   \n",
       "2  ne Doctors will fill your Viagra Prescription ...  Spam             False   \n",
       "3                    Sale - Three Commission Streams  Spam              True   \n",
       "4   Peace, Harmony, Tranquility, And Happiness Ri...  Spam              True   \n",
       "\n",
       "   has_reply_to_email  \n",
       "0               False  \n",
       "1               False  \n",
       "2               False  \n",
       "3               False  \n",
       "4               False  "
      ]
     },
     "execution_count": 93,
     "metadata": {},
     "output_type": "execute_result"
    }
   ],
   "source": [
    "df.head()"
   ]
  },
  {
   "cell_type": "code",
   "execution_count": 107,
   "metadata": {},
   "outputs": [],
   "source": [
    "tld_pattern_compiled = re.compile(r\"(@.+\\.)(\\w+)\")\n",
    "def get_tld(email):\n",
    "    return tld_pattern_compiled.search(email).groups()[1]\n",
    "    \n",
    "df[\"top_level_domain\"] = df[\"sender_email\"].apply(get_tld)"
   ]
  },
  {
   "cell_type": "code",
   "execution_count": 114,
   "metadata": {},
   "outputs": [
    {
     "data": {
      "text/plain": [
       "c            5489\n",
       "n            1758\n",
       "com          1669\n",
       "net           498\n",
       "d             316\n",
       "             ... \n",
       "nl              1\n",
       "specified       1\n",
       "jp              1\n",
       "Net             1\n",
       "ro              1\n",
       "Name: top_level_domain, Length: 79, dtype: int64"
      ]
     },
     "execution_count": 114,
     "metadata": {},
     "output_type": "execute_result"
    }
   ],
   "source": [
    "df[\"top_level_domain\"].value_counts()"
   ]
  },
  {
   "cell_type": "code",
   "execution_count": null,
   "metadata": {},
   "outputs": [],
   "source": []
  }
 ],
 "metadata": {
  "kernelspec": {
   "display_name": "Python 3",
   "language": "python",
   "name": "python3"
  },
  "language_info": {
   "codemirror_mode": {
    "name": "ipython",
    "version": 3
   },
   "file_extension": ".py",
   "mimetype": "text/x-python",
   "name": "python",
   "nbconvert_exporter": "python",
   "pygments_lexer": "ipython3",
   "version": "3.7.6"
  },
  "toc": {
   "base_numbering": 1,
   "nav_menu": {},
   "number_sections": true,
   "sideBar": true,
   "skip_h1_title": false,
   "title_cell": "Table of Contents",
   "title_sidebar": "Contents",
   "toc_cell": false,
   "toc_position": {},
   "toc_section_display": true,
   "toc_window_display": false
  }
 },
 "nbformat": 4,
 "nbformat_minor": 4
}
