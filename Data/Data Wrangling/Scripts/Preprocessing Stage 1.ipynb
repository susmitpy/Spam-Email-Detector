{
 "cells": [
  {
   "cell_type": "code",
   "execution_count": 1,
   "metadata": {},
   "outputs": [],
   "source": [
    "import pandas as pd\n",
    "import numpy as np\n",
    "import os\n",
    "import re"
   ]
  },
  {
   "cell_type": "markdown",
   "metadata": {},
   "source": [
    "# Preprocessing Header"
   ]
  },
  {
   "cell_type": "code",
   "execution_count": 2,
   "metadata": {},
   "outputs": [],
   "source": [
    "df = pd.read_csv(\"../Raw Data/extracted_header.csv\")"
   ]
  },
  {
   "cell_type": "code",
   "execution_count": 3,
   "metadata": {},
   "outputs": [
    {
     "data": {
      "text/html": [
       "<div>\n",
       "<style scoped>\n",
       "    .dataframe tbody tr th:only-of-type {\n",
       "        vertical-align: middle;\n",
       "    }\n",
       "\n",
       "    .dataframe tbody tr th {\n",
       "        vertical-align: top;\n",
       "    }\n",
       "\n",
       "    .dataframe thead th {\n",
       "        text-align: right;\n",
       "    }\n",
       "</style>\n",
       "<table border=\"1\" class=\"dataframe\">\n",
       "  <thead>\n",
       "    <tr style=\"text-align: right;\">\n",
       "      <th></th>\n",
       "      <th>sender_email</th>\n",
       "      <th>reply_to_email</th>\n",
       "      <th>return_path</th>\n",
       "      <th>inline_image_count</th>\n",
       "      <th>Label</th>\n",
       "    </tr>\n",
       "  </thead>\n",
       "  <tbody>\n",
       "    <tr>\n",
       "      <th>0</th>\n",
       "      <td>rssfeeds@example.com</td>\n",
       "      <td>NaN</td>\n",
       "      <td>rssfeeds@example.com</td>\n",
       "      <td>0</td>\n",
       "      <td>Ham</td>\n",
       "    </tr>\n",
       "    <tr>\n",
       "      <th>1</th>\n",
       "      <td>thompson@shelob.ce.ttu.edu</td>\n",
       "      <td>exmh-users@example.com</td>\n",
       "      <td>exmh-users-admin@example.com</td>\n",
       "      <td>0</td>\n",
       "      <td>Ham</td>\n",
       "    </tr>\n",
       "    <tr>\n",
       "      <th>2</th>\n",
       "      <td>beberg@mithral.com</td>\n",
       "      <td>NaN</td>\n",
       "      <td>fork-admin@xent.com</td>\n",
       "      <td>0</td>\n",
       "      <td>Ham</td>\n",
       "    </tr>\n",
       "  </tbody>\n",
       "</table>\n",
       "</div>"
      ],
      "text/plain": [
       "                 sender_email          reply_to_email  \\\n",
       "0        rssfeeds@example.com                     NaN   \n",
       "1  thompson@shelob.ce.ttu.edu  exmh-users@example.com   \n",
       "2          beberg@mithral.com                     NaN   \n",
       "\n",
       "                    return_path  inline_image_count Label  \n",
       "0          rssfeeds@example.com                   0   Ham  \n",
       "1  exmh-users-admin@example.com                   0   Ham  \n",
       "2           fork-admin@xent.com                   0   Ham  "
      ]
     },
     "execution_count": 3,
     "metadata": {},
     "output_type": "execute_result"
    }
   ],
   "source": [
    "df.head(n=3)"
   ]
  },
  {
   "cell_type": "code",
   "execution_count": 4,
   "metadata": {},
   "outputs": [
    {
     "data": {
      "text/plain": [
       "sender_email           130\n",
       "reply_to_email        9312\n",
       "return_path            340\n",
       "inline_image_count       0\n",
       "Label                    0\n",
       "dtype: int64"
      ]
     },
     "execution_count": 4,
     "metadata": {},
     "output_type": "execute_result"
    }
   ],
   "source": [
    "df.isna().sum()"
   ]
  },
  {
   "cell_type": "code",
   "execution_count": 5,
   "metadata": {},
   "outputs": [
    {
     "data": {
      "text/plain": [
       "(12827, 5)"
      ]
     },
     "execution_count": 5,
     "metadata": {},
     "output_type": "execute_result"
    }
   ],
   "source": [
    "df.shape"
   ]
  },
  {
   "cell_type": "code",
   "execution_count": 6,
   "metadata": {},
   "outputs": [
    {
     "data": {
      "text/plain": [
       "Spam    81.211507\n",
       "Ham     18.788493\n",
       "Name: Label, dtype: float64"
      ]
     },
     "execution_count": 6,
     "metadata": {},
     "output_type": "execute_result"
    }
   ],
   "source": [
    "df.Label.value_counts() / len(df) * 100"
   ]
  },
  {
   "cell_type": "code",
   "execution_count": 7,
   "metadata": {},
   "outputs": [
    {
     "data": {
      "text/html": [
       "<div>\n",
       "<style scoped>\n",
       "    .dataframe tbody tr th:only-of-type {\n",
       "        vertical-align: middle;\n",
       "    }\n",
       "\n",
       "    .dataframe tbody tr th {\n",
       "        vertical-align: top;\n",
       "    }\n",
       "\n",
       "    .dataframe thead th {\n",
       "        text-align: right;\n",
       "    }\n",
       "</style>\n",
       "<table border=\"1\" class=\"dataframe\">\n",
       "  <thead>\n",
       "    <tr style=\"text-align: right;\">\n",
       "      <th></th>\n",
       "      <th>mean</th>\n",
       "      <th>median</th>\n",
       "    </tr>\n",
       "    <tr>\n",
       "      <th>Label</th>\n",
       "      <th></th>\n",
       "      <th></th>\n",
       "    </tr>\n",
       "  </thead>\n",
       "  <tbody>\n",
       "    <tr>\n",
       "      <th>Ham</th>\n",
       "      <td>0.000000</td>\n",
       "      <td>0</td>\n",
       "    </tr>\n",
       "    <tr>\n",
       "      <th>Spam</th>\n",
       "      <td>0.607085</td>\n",
       "      <td>0</td>\n",
       "    </tr>\n",
       "  </tbody>\n",
       "</table>\n",
       "</div>"
      ],
      "text/plain": [
       "           mean  median\n",
       "Label                  \n",
       "Ham    0.000000       0\n",
       "Spam   0.607085       0"
      ]
     },
     "execution_count": 7,
     "metadata": {},
     "output_type": "execute_result"
    }
   ],
   "source": [
    "df.groupby(\"Label\")[\"inline_image_count\"].agg([\"mean\",\"median\"])"
   ]
  },
  {
   "cell_type": "code",
   "execution_count": 8,
   "metadata": {},
   "outputs": [
    {
     "data": {
      "text/plain": [
       "array([0])"
      ]
     },
     "execution_count": 8,
     "metadata": {},
     "output_type": "execute_result"
    }
   ],
   "source": [
    "df[df.Label == \"Ham\"][\"inline_image_count\"].unique() # All Ham emails don't have a single inline image"
   ]
  },
  {
   "cell_type": "code",
   "execution_count": 9,
   "metadata": {},
   "outputs": [],
   "source": [
    "a=df[df.Label == \"Spam\"][\"inline_image_count\"]"
   ]
  },
  {
   "cell_type": "code",
   "execution_count": 10,
   "metadata": {},
   "outputs": [
    {
     "data": {
      "text/plain": [
       "85.79245464145147"
      ]
     },
     "execution_count": 10,
     "metadata": {},
     "output_type": "execute_result"
    }
   ],
   "source": [
    "(a == 0).sum() / len(a) * 100 # 86% of Spam Emails don't have a single inline image"
   ]
  },
  {
   "cell_type": "code",
   "execution_count": 11,
   "metadata": {},
   "outputs": [],
   "source": [
    "df[\"has_inline_image\"] = df[\"inline_image_count\"] >= 1\n",
    "df.drop(\"inline_image_count\",axis=1,inplace=True)"
   ]
  },
  {
   "cell_type": "code",
   "execution_count": 12,
   "metadata": {},
   "outputs": [
    {
     "data": {
      "text/html": [
       "<div>\n",
       "<style scoped>\n",
       "    .dataframe tbody tr th:only-of-type {\n",
       "        vertical-align: middle;\n",
       "    }\n",
       "\n",
       "    .dataframe tbody tr th {\n",
       "        vertical-align: top;\n",
       "    }\n",
       "\n",
       "    .dataframe thead th {\n",
       "        text-align: right;\n",
       "    }\n",
       "</style>\n",
       "<table border=\"1\" class=\"dataframe\">\n",
       "  <thead>\n",
       "    <tr style=\"text-align: right;\">\n",
       "      <th></th>\n",
       "      <th>sender_email</th>\n",
       "      <th>reply_to_email</th>\n",
       "      <th>return_path</th>\n",
       "    </tr>\n",
       "  </thead>\n",
       "  <tbody>\n",
       "    <tr>\n",
       "      <th>1416</th>\n",
       "      <td>bill@whump.com</td>\n",
       "      <td>NaN</td>\n",
       "      <td>fork-admin@xent.com</td>\n",
       "    </tr>\n",
       "    <tr>\n",
       "      <th>1694</th>\n",
       "      <td>rssfeeds@example.com</td>\n",
       "      <td>NaN</td>\n",
       "      <td>rssfeeds@example.com</td>\n",
       "    </tr>\n",
       "    <tr>\n",
       "      <th>1126</th>\n",
       "      <td>garym@canada.com</td>\n",
       "      <td>garym@canada.com</td>\n",
       "      <td>fork-admin@xent.com</td>\n",
       "    </tr>\n",
       "    <tr>\n",
       "      <th>2398</th>\n",
       "      <td>rssfeeds@example.com</td>\n",
       "      <td>NaN</td>\n",
       "      <td>rssfeeds@example.com</td>\n",
       "    </tr>\n",
       "    <tr>\n",
       "      <th>1273</th>\n",
       "      <td>eugen@leitl.org</td>\n",
       "      <td>NaN</td>\n",
       "      <td>fork-admin@xent.com</td>\n",
       "    </tr>\n",
       "    <tr>\n",
       "      <th>913</th>\n",
       "      <td>eh@mad.scientist.com</td>\n",
       "      <td>NaN</td>\n",
       "      <td>fork-admin@xent.com</td>\n",
       "    </tr>\n",
       "    <tr>\n",
       "      <th>79</th>\n",
       "      <td>beberg@mithral.com</td>\n",
       "      <td>NaN</td>\n",
       "      <td>fork-admin@xent.com</td>\n",
       "    </tr>\n",
       "    <tr>\n",
       "      <th>475</th>\n",
       "      <td>harley@argote.ch</td>\n",
       "      <td>NaN</td>\n",
       "      <td>fork-admin@xent.com</td>\n",
       "    </tr>\n",
       "    <tr>\n",
       "      <th>323</th>\n",
       "      <td>bitbitch@magnesium.net</td>\n",
       "      <td>bitbitch@magnesium.net</td>\n",
       "      <td>fork-admin@xent.com</td>\n",
       "    </tr>\n",
       "    <tr>\n",
       "      <th>927</th>\n",
       "      <td>matthias@rpmforge.net</td>\n",
       "      <td>rpm-zzzlist@freshrpms.net</td>\n",
       "      <td>rpm-zzzlist-admin@freshrpms.net</td>\n",
       "    </tr>\n",
       "  </tbody>\n",
       "</table>\n",
       "</div>"
      ],
      "text/plain": [
       "                sender_email             reply_to_email  \\\n",
       "1416          bill@whump.com                        NaN   \n",
       "1694    rssfeeds@example.com                        NaN   \n",
       "1126        garym@canada.com           garym@canada.com   \n",
       "2398    rssfeeds@example.com                        NaN   \n",
       "1273         eugen@leitl.org                        NaN   \n",
       "913     eh@mad.scientist.com                        NaN   \n",
       "79        beberg@mithral.com                        NaN   \n",
       "475         harley@argote.ch                        NaN   \n",
       "323   bitbitch@magnesium.net     bitbitch@magnesium.net   \n",
       "927    matthias@rpmforge.net  rpm-zzzlist@freshrpms.net   \n",
       "\n",
       "                          return_path  \n",
       "1416              fork-admin@xent.com  \n",
       "1694             rssfeeds@example.com  \n",
       "1126              fork-admin@xent.com  \n",
       "2398             rssfeeds@example.com  \n",
       "1273              fork-admin@xent.com  \n",
       "913               fork-admin@xent.com  \n",
       "79                fork-admin@xent.com  \n",
       "475               fork-admin@xent.com  \n",
       "323               fork-admin@xent.com  \n",
       "927   rpm-zzzlist-admin@freshrpms.net  "
      ]
     },
     "execution_count": 12,
     "metadata": {},
     "output_type": "execute_result"
    }
   ],
   "source": [
    "df[df.Label == \"Ham\"][[\"sender_email\",\"reply_to_email\",\"return_path\"]].sample(10)"
   ]
  },
  {
   "cell_type": "code",
   "execution_count": 13,
   "metadata": {},
   "outputs": [
    {
     "data": {
      "text/html": [
       "<div>\n",
       "<style scoped>\n",
       "    .dataframe tbody tr th:only-of-type {\n",
       "        vertical-align: middle;\n",
       "    }\n",
       "\n",
       "    .dataframe tbody tr th {\n",
       "        vertical-align: top;\n",
       "    }\n",
       "\n",
       "    .dataframe thead th {\n",
       "        text-align: right;\n",
       "    }\n",
       "</style>\n",
       "<table border=\"1\" class=\"dataframe\">\n",
       "  <thead>\n",
       "    <tr style=\"text-align: right;\">\n",
       "      <th></th>\n",
       "      <th>sender_email</th>\n",
       "      <th>reply_to_email</th>\n",
       "      <th>return_path</th>\n",
       "    </tr>\n",
       "  </thead>\n",
       "  <tbody>\n",
       "    <tr>\n",
       "      <th>7350</th>\n",
       "      <td>istlearning@istlearning.com</td>\n",
       "      <td>NaN</td>\n",
       "      <td>istlearning@istlearning.com</td>\n",
       "    </tr>\n",
       "    <tr>\n",
       "      <th>5518</th>\n",
       "      <td>Riggsowohi@lili.uib.no</td>\n",
       "      <td>NaN</td>\n",
       "      <td>Riggsowohi@lili.uib.no</td>\n",
       "    </tr>\n",
       "    <tr>\n",
       "      <th>4946</th>\n",
       "      <td>aguardhouse@ustaxsolutions.com</td>\n",
       "      <td>NaN</td>\n",
       "      <td>aguardhouse@ustaxsolutions.com</td>\n",
       "    </tr>\n",
       "    <tr>\n",
       "      <th>5946</th>\n",
       "      <td>dunbar@acadia.net</td>\n",
       "      <td>NaN</td>\n",
       "      <td>dunbar@acadia.net</td>\n",
       "    </tr>\n",
       "    <tr>\n",
       "      <th>11611</th>\n",
       "      <td>hlaihrpklgmj@freeweb.de</td>\n",
       "      <td>NaN</td>\n",
       "      <td>hlaihrpklgmj@freeweb.de</td>\n",
       "    </tr>\n",
       "    <tr>\n",
       "      <th>3451</th>\n",
       "      <td>dwvyjcvprda@surftimemag.com</td>\n",
       "      <td>NaN</td>\n",
       "      <td>dwvyjcvprda@surftimemag.com</td>\n",
       "    </tr>\n",
       "    <tr>\n",
       "      <th>12557</th>\n",
       "      <td>eojgylsst@netnet.com.sg</td>\n",
       "      <td>NaN</td>\n",
       "      <td>eojgylsst@netnet.com.sg</td>\n",
       "    </tr>\n",
       "    <tr>\n",
       "      <th>7244</th>\n",
       "      <td>adylbaev@yahoo.com</td>\n",
       "      <td>NaN</td>\n",
       "      <td>NaN</td>\n",
       "    </tr>\n",
       "    <tr>\n",
       "      <th>11940</th>\n",
       "      <td>Davisonryv@linux.org</td>\n",
       "      <td>NaN</td>\n",
       "      <td>Davisonryv@linux.org</td>\n",
       "    </tr>\n",
       "    <tr>\n",
       "      <th>11134</th>\n",
       "      <td>carter_te@modul-bus.de</td>\n",
       "      <td>NaN</td>\n",
       "      <td>carter_te@modul-bus.de</td>\n",
       "    </tr>\n",
       "  </tbody>\n",
       "</table>\n",
       "</div>"
      ],
      "text/plain": [
       "                         sender_email reply_to_email  \\\n",
       "7350      istlearning@istlearning.com            NaN   \n",
       "5518           Riggsowohi@lili.uib.no            NaN   \n",
       "4946   aguardhouse@ustaxsolutions.com            NaN   \n",
       "5946                dunbar@acadia.net            NaN   \n",
       "11611         hlaihrpklgmj@freeweb.de            NaN   \n",
       "3451      dwvyjcvprda@surftimemag.com            NaN   \n",
       "12557         eojgylsst@netnet.com.sg            NaN   \n",
       "7244               adylbaev@yahoo.com            NaN   \n",
       "11940            Davisonryv@linux.org            NaN   \n",
       "11134          carter_te@modul-bus.de            NaN   \n",
       "\n",
       "                          return_path  \n",
       "7350      istlearning@istlearning.com  \n",
       "5518           Riggsowohi@lili.uib.no  \n",
       "4946   aguardhouse@ustaxsolutions.com  \n",
       "5946                dunbar@acadia.net  \n",
       "11611         hlaihrpklgmj@freeweb.de  \n",
       "3451      dwvyjcvprda@surftimemag.com  \n",
       "12557         eojgylsst@netnet.com.sg  \n",
       "7244                              NaN  \n",
       "11940            Davisonryv@linux.org  \n",
       "11134          carter_te@modul-bus.de  "
      ]
     },
     "execution_count": 13,
     "metadata": {},
     "output_type": "execute_result"
    }
   ],
   "source": [
    "df[df.Label == \"Spam\"][[\"sender_email\",\"reply_to_email\",\"return_path\"]].sample(10)"
   ]
  },
  {
   "cell_type": "code",
   "execution_count": 14,
   "metadata": {},
   "outputs": [
    {
     "data": {
      "text/plain": [
       "sender_email         1.013487\n",
       "reply_to_email      72.596866\n",
       "return_path          2.650659\n",
       "Label                0.000000\n",
       "has_inline_image     0.000000\n",
       "dtype: float64"
      ]
     },
     "execution_count": 14,
     "metadata": {},
     "output_type": "execute_result"
    }
   ],
   "source": [
    "df.isna().sum() / len(df) * 100"
   ]
  },
  {
   "cell_type": "code",
   "execution_count": 15,
   "metadata": {},
   "outputs": [
    {
     "data": {
      "text/html": [
       "<div>\n",
       "<style scoped>\n",
       "    .dataframe tbody tr th:only-of-type {\n",
       "        vertical-align: middle;\n",
       "    }\n",
       "\n",
       "    .dataframe tbody tr th {\n",
       "        vertical-align: top;\n",
       "    }\n",
       "\n",
       "    .dataframe thead th {\n",
       "        text-align: right;\n",
       "    }\n",
       "</style>\n",
       "<table border=\"1\" class=\"dataframe\">\n",
       "  <thead>\n",
       "    <tr style=\"text-align: right;\">\n",
       "      <th></th>\n",
       "      <th>mean</th>\n",
       "    </tr>\n",
       "    <tr>\n",
       "      <th>Label</th>\n",
       "      <th></th>\n",
       "    </tr>\n",
       "  </thead>\n",
       "  <tbody>\n",
       "    <tr>\n",
       "      <th>Ham</th>\n",
       "      <td>74.439834</td>\n",
       "    </tr>\n",
       "    <tr>\n",
       "      <th>Spam</th>\n",
       "      <td>72.170491</td>\n",
       "    </tr>\n",
       "  </tbody>\n",
       "</table>\n",
       "</div>"
      ],
      "text/plain": [
       "            mean\n",
       "Label           \n",
       "Ham    74.439834\n",
       "Spam   72.170491"
      ]
     },
     "execution_count": 15,
     "metadata": {},
     "output_type": "execute_result"
    }
   ],
   "source": [
    "df[\"no_reply_to_email\"] = df[\"reply_to_email\"].isna() # true -> does not have\n",
    "df.groupby(\"Label\")[\"no_reply_to_email\"].agg([\"mean\"])*100"
   ]
  },
  {
   "cell_type": "code",
   "execution_count": 16,
   "metadata": {},
   "outputs": [
    {
     "data": {
      "text/html": [
       "<div>\n",
       "<style scoped>\n",
       "    .dataframe tbody tr th:only-of-type {\n",
       "        vertical-align: middle;\n",
       "    }\n",
       "\n",
       "    .dataframe tbody tr th {\n",
       "        vertical-align: top;\n",
       "    }\n",
       "\n",
       "    .dataframe thead th {\n",
       "        text-align: right;\n",
       "    }\n",
       "</style>\n",
       "<table border=\"1\" class=\"dataframe\">\n",
       "  <thead>\n",
       "    <tr style=\"text-align: right;\">\n",
       "      <th></th>\n",
       "      <th>mean</th>\n",
       "    </tr>\n",
       "    <tr>\n",
       "      <th>Label</th>\n",
       "      <th></th>\n",
       "    </tr>\n",
       "  </thead>\n",
       "  <tbody>\n",
       "    <tr>\n",
       "      <th>Ham</th>\n",
       "      <td>0.000000</td>\n",
       "    </tr>\n",
       "    <tr>\n",
       "      <th>Spam</th>\n",
       "      <td>3.263896</td>\n",
       "    </tr>\n",
       "  </tbody>\n",
       "</table>\n",
       "</div>"
      ],
      "text/plain": [
       "           mean\n",
       "Label          \n",
       "Ham    0.000000\n",
       "Spam   3.263896"
      ]
     },
     "execution_count": 16,
     "metadata": {},
     "output_type": "execute_result"
    }
   ],
   "source": [
    "df[\"no_return_path\"] = df[\"return_path\"].isna() # true -> does not have\n",
    "df.groupby(\"Label\")[\"no_return_path\"].agg([\"mean\"])*100\n",
    "\n",
    "# 3.26% of spam don't have return path"
   ]
  },
  {
   "cell_type": "code",
   "execution_count": 17,
   "metadata": {},
   "outputs": [
    {
     "data": {
      "text/html": [
       "<div>\n",
       "<style scoped>\n",
       "    .dataframe tbody tr th:only-of-type {\n",
       "        vertical-align: middle;\n",
       "    }\n",
       "\n",
       "    .dataframe tbody tr th {\n",
       "        vertical-align: top;\n",
       "    }\n",
       "\n",
       "    .dataframe thead th {\n",
       "        text-align: right;\n",
       "    }\n",
       "</style>\n",
       "<table border=\"1\" class=\"dataframe\">\n",
       "  <thead>\n",
       "    <tr style=\"text-align: right;\">\n",
       "      <th></th>\n",
       "      <th>sender_email</th>\n",
       "      <th>reply_to_email</th>\n",
       "      <th>return_path</th>\n",
       "      <th>Label</th>\n",
       "      <th>has_inline_image</th>\n",
       "      <th>no_reply_to_email</th>\n",
       "      <th>no_return_path</th>\n",
       "    </tr>\n",
       "  </thead>\n",
       "  <tbody>\n",
       "    <tr>\n",
       "      <th>2484</th>\n",
       "      <td>rkkss@redseven.de</td>\n",
       "      <td>NaN</td>\n",
       "      <td>NaN</td>\n",
       "      <td>Spam</td>\n",
       "      <td>False</td>\n",
       "      <td>True</td>\n",
       "      <td>True</td>\n",
       "    </tr>\n",
       "    <tr>\n",
       "      <th>2541</th>\n",
       "      <td>rkkss@redseven.de</td>\n",
       "      <td>NaN</td>\n",
       "      <td>NaN</td>\n",
       "      <td>Spam</td>\n",
       "      <td>False</td>\n",
       "      <td>True</td>\n",
       "      <td>True</td>\n",
       "    </tr>\n",
       "    <tr>\n",
       "      <th>2571</th>\n",
       "      <td>emailrewardz@emailrewardz.email-publisher.com</td>\n",
       "      <td>perf-remove.3565.64698.13893713.0.0.4@boing.to...</td>\n",
       "      <td>NaN</td>\n",
       "      <td>Spam</td>\n",
       "      <td>False</td>\n",
       "      <td>False</td>\n",
       "      <td>True</td>\n",
       "    </tr>\n",
       "    <tr>\n",
       "      <th>2693</th>\n",
       "      <td>meg34807147238s03@isppan.waw.pl</td>\n",
       "      <td>meg34807147238s03@isppan.waw.pl</td>\n",
       "      <td>NaN</td>\n",
       "      <td>Spam</td>\n",
       "      <td>False</td>\n",
       "      <td>False</td>\n",
       "      <td>True</td>\n",
       "    </tr>\n",
       "    <tr>\n",
       "      <th>2745</th>\n",
       "      <td>meg34807147238s03@isppan.waw.pl</td>\n",
       "      <td>meg34807147238s03@isppan.waw.pl</td>\n",
       "      <td>NaN</td>\n",
       "      <td>Spam</td>\n",
       "      <td>False</td>\n",
       "      <td>False</td>\n",
       "      <td>True</td>\n",
       "    </tr>\n",
       "    <tr>\n",
       "      <th>...</th>\n",
       "      <td>...</td>\n",
       "      <td>...</td>\n",
       "      <td>...</td>\n",
       "      <td>...</td>\n",
       "      <td>...</td>\n",
       "      <td>...</td>\n",
       "      <td>...</td>\n",
       "    </tr>\n",
       "    <tr>\n",
       "      <th>12625</th>\n",
       "      <td>NaN</td>\n",
       "      <td>NaN</td>\n",
       "      <td>NaN</td>\n",
       "      <td>Spam</td>\n",
       "      <td>False</td>\n",
       "      <td>True</td>\n",
       "      <td>True</td>\n",
       "    </tr>\n",
       "    <tr>\n",
       "      <th>12639</th>\n",
       "      <td>YCPZHUNZN@marchmail.com</td>\n",
       "      <td>YCPZHUNZN@marchmail.com</td>\n",
       "      <td>NaN</td>\n",
       "      <td>Spam</td>\n",
       "      <td>False</td>\n",
       "      <td>False</td>\n",
       "      <td>True</td>\n",
       "    </tr>\n",
       "    <tr>\n",
       "      <th>12648</th>\n",
       "      <td>keh-ming@a-vip.com</td>\n",
       "      <td>NaN</td>\n",
       "      <td>NaN</td>\n",
       "      <td>Spam</td>\n",
       "      <td>False</td>\n",
       "      <td>True</td>\n",
       "      <td>True</td>\n",
       "    </tr>\n",
       "    <tr>\n",
       "      <th>12747</th>\n",
       "      <td>505jeff@acadia.net</td>\n",
       "      <td>NaN</td>\n",
       "      <td>NaN</td>\n",
       "      <td>Spam</td>\n",
       "      <td>False</td>\n",
       "      <td>True</td>\n",
       "      <td>True</td>\n",
       "    </tr>\n",
       "    <tr>\n",
       "      <th>12814</th>\n",
       "      <td>MelHaas6869@janornode.com</td>\n",
       "      <td>NaN</td>\n",
       "      <td>NaN</td>\n",
       "      <td>Spam</td>\n",
       "      <td>False</td>\n",
       "      <td>True</td>\n",
       "      <td>True</td>\n",
       "    </tr>\n",
       "  </tbody>\n",
       "</table>\n",
       "<p>340 rows × 7 columns</p>\n",
       "</div>"
      ],
      "text/plain": [
       "                                        sender_email  \\\n",
       "2484                               rkkss@redseven.de   \n",
       "2541                               rkkss@redseven.de   \n",
       "2571   emailrewardz@emailrewardz.email-publisher.com   \n",
       "2693                 meg34807147238s03@isppan.waw.pl   \n",
       "2745                 meg34807147238s03@isppan.waw.pl   \n",
       "...                                              ...   \n",
       "12625                                            NaN   \n",
       "12639                        YCPZHUNZN@marchmail.com   \n",
       "12648                             keh-ming@a-vip.com   \n",
       "12747                             505jeff@acadia.net   \n",
       "12814                      MelHaas6869@janornode.com   \n",
       "\n",
       "                                          reply_to_email return_path Label  \\\n",
       "2484                                                 NaN         NaN  Spam   \n",
       "2541                                                 NaN         NaN  Spam   \n",
       "2571   perf-remove.3565.64698.13893713.0.0.4@boing.to...         NaN  Spam   \n",
       "2693                     meg34807147238s03@isppan.waw.pl         NaN  Spam   \n",
       "2745                     meg34807147238s03@isppan.waw.pl         NaN  Spam   \n",
       "...                                                  ...         ...   ...   \n",
       "12625                                                NaN         NaN  Spam   \n",
       "12639                            YCPZHUNZN@marchmail.com         NaN  Spam   \n",
       "12648                                                NaN         NaN  Spam   \n",
       "12747                                                NaN         NaN  Spam   \n",
       "12814                                                NaN         NaN  Spam   \n",
       "\n",
       "       has_inline_image  no_reply_to_email  no_return_path  \n",
       "2484              False               True            True  \n",
       "2541              False               True            True  \n",
       "2571              False              False            True  \n",
       "2693              False              False            True  \n",
       "2745              False              False            True  \n",
       "...                 ...                ...             ...  \n",
       "12625             False               True            True  \n",
       "12639             False              False            True  \n",
       "12648             False               True            True  \n",
       "12747             False               True            True  \n",
       "12814             False               True            True  \n",
       "\n",
       "[340 rows x 7 columns]"
      ]
     },
     "execution_count": 17,
     "metadata": {},
     "output_type": "execute_result"
    }
   ],
   "source": [
    "df[df[\"no_return_path\"] == True]"
   ]
  },
  {
   "cell_type": "code",
   "execution_count": 18,
   "metadata": {},
   "outputs": [
    {
     "name": "stdout",
     "output_type": "stream",
     "text": [
      "Spam    100.0\n",
      "Name: Label, dtype: float64\n",
      "Overall Distribution of class:\n",
      "Spam    81.211507\n",
      "Ham     18.788493\n",
      "Name: Label, dtype: float64\n",
      "% of such records: 2.3388165588212364\n",
      "      Label  no_reply_to_email  no_return_path\n",
      "7289   Spam               True            True\n",
      "7787   Spam               True            True\n",
      "11332  Spam               True            True\n",
      "8003   Spam               True            True\n",
      "11478  Spam               True            True\n",
      "12586  Spam               True            True\n",
      "9734   Spam               True            True\n"
     ]
    }
   ],
   "source": [
    "a=df[(df[\"no_reply_to_email\"]==True) & (df[\"no_return_path\"] == True)]\n",
    "print(a[\"Label\"].value_counts() / len(a) * 100)\n",
    "print(\"Overall Distribution of class:\")\n",
    "print(df.Label.value_counts() / len(df) * 100)\n",
    "print(\"% of such records: \" + str(len(a)/len(df)*100))\n",
    "print(a.sample(7)[[\"Label\",\"no_reply_to_email\",\"no_return_path\"]])"
   ]
  },
  {
   "cell_type": "code",
   "execution_count": 19,
   "metadata": {},
   "outputs": [
    {
     "name": "stdout",
     "output_type": "stream",
     "text": [
      "Spam    82.273381\n",
      "Ham     17.726619\n",
      "Name: Label, dtype: float64\n",
      "Overall Distribution of class:\n",
      "Spam    81.211507\n",
      "Ham     18.788493\n",
      "Name: Label, dtype: float64\n",
      "% of such records: 27.09129180634599\n",
      "      Label  no_reply_to_email  no_return_path\n",
      "2249    Ham              False           False\n",
      "824     Ham              False           False\n",
      "8400   Spam              False           False\n",
      "11846  Spam              False           False\n",
      "7786   Spam              False           False\n",
      "6511   Spam              False           False\n",
      "4826   Spam              False           False\n"
     ]
    }
   ],
   "source": [
    "a=df[(df[\"no_reply_to_email\"]==False) & (df[\"no_return_path\"] == False)]\n",
    "print(a[\"Label\"].value_counts() / len(a) * 100)\n",
    "print(\"Overall Distribution of class:\")\n",
    "print(df.Label.value_counts() / len(df) * 100)\n",
    "print(\"% of such records: \" + str(len(a)/len(df)*100))\n",
    "print(a.sample(7)[[\"Label\",\"no_reply_to_email\",\"no_return_path\"]])"
   ]
  },
  {
   "cell_type": "code",
   "execution_count": 20,
   "metadata": {},
   "outputs": [
    {
     "name": "stdout",
     "output_type": "stream",
     "text": [
      "Spam    80.093209\n",
      "Ham     19.906791\n",
      "Name: Label, dtype: float64\n",
      "Overall Distribution of class:\n",
      "Spam    81.211507\n",
      "Ham     18.788493\n",
      "Name: Label, dtype: float64\n",
      "% of such records: 70.25804942698994\n",
      "      Label  no_reply_to_email  no_return_path\n",
      "2715   Spam               True           False\n",
      "12017  Spam               True           False\n",
      "3677   Spam               True           False\n",
      "7750   Spam               True           False\n",
      "2442   Spam               True           False\n",
      "3949   Spam               True           False\n",
      "2291    Ham               True           False\n"
     ]
    }
   ],
   "source": [
    "a=df[(df[\"no_reply_to_email\"]==True) & (df[\"no_return_path\"] == False)]\n",
    "print(a[\"Label\"].value_counts() / len(a) * 100)\n",
    "print(\"Overall Distribution of class:\")\n",
    "print(df.Label.value_counts() / len(df) * 100)\n",
    "print(\"% of such records: \" + str(len(a)/len(df)*100))\n",
    "print(a.sample(7)[[\"Label\",\"no_reply_to_email\",\"no_return_path\"]])"
   ]
  },
  {
   "cell_type": "code",
   "execution_count": 21,
   "metadata": {},
   "outputs": [
    {
     "name": "stdout",
     "output_type": "stream",
     "text": [
      "Spam    100.0\n",
      "Name: Label, dtype: float64\n",
      "Overall Distribution of class:\n",
      "Spam    81.211507\n",
      "Ham     18.788493\n",
      "Name: Label, dtype: float64\n",
      "% of such records: 0.3118422078428315\n",
      "      Label  no_reply_to_email  no_return_path\n",
      "9796   Spam              False            True\n",
      "5184   Spam              False            True\n",
      "11687  Spam              False            True\n",
      "7926   Spam              False            True\n",
      "6094   Spam              False            True\n",
      "10807  Spam              False            True\n",
      "6502   Spam              False            True\n"
     ]
    }
   ],
   "source": [
    "a=df[(df[\"no_reply_to_email\"]==False) & (df[\"no_return_path\"] == True)]\n",
    "print(a[\"Label\"].value_counts() / len(a) * 100)\n",
    "print(\"Overall Distribution of class:\")\n",
    "print(df.Label.value_counts() / len(df) * 100)\n",
    "print(\"% of such records: \" + str(len(a)/len(df)*100))\n",
    "print(a.sample(7)[[\"Label\",\"no_reply_to_email\",\"no_return_path\"]])"
   ]
  },
  {
   "cell_type": "code",
   "execution_count": 22,
   "metadata": {},
   "outputs": [
    {
     "name": "stdout",
     "output_type": "stream",
     "text": [
      "Index(['sender_email', 'reply_to_email', 'return_path', 'Label',\n",
      "       'has_inline_image', 'no_reply_to_email', 'no_return_path',\n",
      "       'no_reply_no_return', 'yes_reply_no_return'],\n",
      "      dtype='object')\n"
     ]
    }
   ],
   "source": [
    "df[\"no_reply_no_return\"] = (df[\"no_reply_to_email\"] == True) & (df[\"no_return_path\"] == True)\n",
    "df[\"yes_reply_no_return\"] = (df[\"no_reply_to_email\"] == False) & (df[\"no_return_path\"] == True)\n",
    "print(df.columns)"
   ]
  },
  {
   "cell_type": "code",
   "execution_count": 23,
   "metadata": {},
   "outputs": [
    {
     "data": {
      "text/html": [
       "<div>\n",
       "<style scoped>\n",
       "    .dataframe tbody tr th:only-of-type {\n",
       "        vertical-align: middle;\n",
       "    }\n",
       "\n",
       "    .dataframe tbody tr th {\n",
       "        vertical-align: top;\n",
       "    }\n",
       "\n",
       "    .dataframe thead th {\n",
       "        text-align: right;\n",
       "    }\n",
       "</style>\n",
       "<table border=\"1\" class=\"dataframe\">\n",
       "  <thead>\n",
       "    <tr style=\"text-align: right;\">\n",
       "      <th></th>\n",
       "      <th>sender_email</th>\n",
       "      <th>Label</th>\n",
       "      <th>has_inline_image</th>\n",
       "      <th>no_return_path</th>\n",
       "      <th>no_reply_no_return</th>\n",
       "      <th>yes_reply_no_return</th>\n",
       "    </tr>\n",
       "  </thead>\n",
       "  <tbody>\n",
       "    <tr>\n",
       "      <th>0</th>\n",
       "      <td>rssfeeds@example.com</td>\n",
       "      <td>Ham</td>\n",
       "      <td>False</td>\n",
       "      <td>False</td>\n",
       "      <td>False</td>\n",
       "      <td>False</td>\n",
       "    </tr>\n",
       "    <tr>\n",
       "      <th>1</th>\n",
       "      <td>thompson@shelob.ce.ttu.edu</td>\n",
       "      <td>Ham</td>\n",
       "      <td>False</td>\n",
       "      <td>False</td>\n",
       "      <td>False</td>\n",
       "      <td>False</td>\n",
       "    </tr>\n",
       "    <tr>\n",
       "      <th>2</th>\n",
       "      <td>beberg@mithral.com</td>\n",
       "      <td>Ham</td>\n",
       "      <td>False</td>\n",
       "      <td>False</td>\n",
       "      <td>False</td>\n",
       "      <td>False</td>\n",
       "    </tr>\n",
       "    <tr>\n",
       "      <th>3</th>\n",
       "      <td>rssfeeds@example.com</td>\n",
       "      <td>Ham</td>\n",
       "      <td>False</td>\n",
       "      <td>False</td>\n",
       "      <td>False</td>\n",
       "      <td>False</td>\n",
       "    </tr>\n",
       "    <tr>\n",
       "      <th>4</th>\n",
       "      <td>garym@canada.com</td>\n",
       "      <td>Ham</td>\n",
       "      <td>False</td>\n",
       "      <td>False</td>\n",
       "      <td>False</td>\n",
       "      <td>False</td>\n",
       "    </tr>\n",
       "  </tbody>\n",
       "</table>\n",
       "</div>"
      ],
      "text/plain": [
       "                 sender_email Label  has_inline_image  no_return_path  \\\n",
       "0        rssfeeds@example.com   Ham             False           False   \n",
       "1  thompson@shelob.ce.ttu.edu   Ham             False           False   \n",
       "2          beberg@mithral.com   Ham             False           False   \n",
       "3        rssfeeds@example.com   Ham             False           False   \n",
       "4            garym@canada.com   Ham             False           False   \n",
       "\n",
       "   no_reply_no_return  yes_reply_no_return  \n",
       "0               False                False  \n",
       "1               False                False  \n",
       "2               False                False  \n",
       "3               False                False  \n",
       "4               False                False  "
      ]
     },
     "execution_count": 23,
     "metadata": {},
     "output_type": "execute_result"
    }
   ],
   "source": [
    "df.drop([\"no_reply_to_email\",\"reply_to_email\",\"return_path\"],axis=1,inplace=True)\n",
    "df.head()"
   ]
  },
  {
   "cell_type": "code",
   "execution_count": 24,
   "metadata": {},
   "outputs": [
    {
     "data": {
      "text/plain": [
       "sender_email           130\n",
       "Label                    0\n",
       "has_inline_image         0\n",
       "no_return_path           0\n",
       "no_reply_no_return       0\n",
       "yes_reply_no_return      0\n",
       "dtype: int64"
      ]
     },
     "execution_count": 24,
     "metadata": {},
     "output_type": "execute_result"
    }
   ],
   "source": [
    "df.isna().sum()"
   ]
  },
  {
   "cell_type": "code",
   "execution_count": 25,
   "metadata": {},
   "outputs": [],
   "source": [
    "df = df.dropna()"
   ]
  },
  {
   "cell_type": "code",
   "execution_count": 26,
   "metadata": {},
   "outputs": [
    {
     "name": "stderr",
     "output_type": "stream",
     "text": [
      "/Users/susmitvengurlekar/opt/miniconda3/lib/python3.7/site-packages/ipykernel_launcher.py:5: SettingWithCopyWarning: \n",
      "A value is trying to be set on a copy of a slice from a DataFrame.\n",
      "Try using .loc[row_indexer,col_indexer] = value instead\n",
      "\n",
      "See the caveats in the documentation: https://pandas.pydata.org/pandas-docs/stable/user_guide/indexing.html#returning-a-view-versus-a-copy\n",
      "  \"\"\"\n"
     ]
    }
   ],
   "source": [
    "tld_pattern_compiled = re.compile(r\"(@.+\\.)(\\w+)\")\n",
    "def get_tld(email):\n",
    "    return tld_pattern_compiled.search(email).groups()[1]\n",
    "    \n",
    "df[\"top_level_domain\"] = df[\"sender_email\"].apply(get_tld)"
   ]
  },
  {
   "cell_type": "code",
   "execution_count": 27,
   "metadata": {},
   "outputs": [
    {
     "data": {
      "text/plain": [
       "com          6873\n",
       "net          2108\n",
       "org           424\n",
       "de            311\n",
       "uk            302\n",
       "             ... \n",
       "18              1\n",
       "kw              1\n",
       "tj              1\n",
       "specified       1\n",
       "name            1\n",
       "Name: top_level_domain, Length: 150, dtype: int64"
      ]
     },
     "execution_count": 27,
     "metadata": {},
     "output_type": "execute_result"
    }
   ],
   "source": [
    "df[\"top_level_domain\"].value_counts()"
   ]
  },
  {
   "cell_type": "code",
   "execution_count": 28,
   "metadata": {},
   "outputs": [
    {
     "data": {
      "text/html": [
       "<div>\n",
       "<style scoped>\n",
       "    .dataframe tbody tr th:only-of-type {\n",
       "        vertical-align: middle;\n",
       "    }\n",
       "\n",
       "    .dataframe tbody tr th {\n",
       "        vertical-align: top;\n",
       "    }\n",
       "\n",
       "    .dataframe thead th {\n",
       "        text-align: right;\n",
       "    }\n",
       "</style>\n",
       "<table border=\"1\" class=\"dataframe\">\n",
       "  <thead>\n",
       "    <tr style=\"text-align: right;\">\n",
       "      <th></th>\n",
       "      <th>sender_email</th>\n",
       "      <th>Label</th>\n",
       "      <th>has_inline_image</th>\n",
       "      <th>no_return_path</th>\n",
       "      <th>no_reply_no_return</th>\n",
       "      <th>yes_reply_no_return</th>\n",
       "      <th>top_level_domain</th>\n",
       "    </tr>\n",
       "  </thead>\n",
       "  <tbody>\n",
       "    <tr>\n",
       "      <th>0</th>\n",
       "      <td>rssfeeds@example.com</td>\n",
       "      <td>Ham</td>\n",
       "      <td>False</td>\n",
       "      <td>False</td>\n",
       "      <td>False</td>\n",
       "      <td>False</td>\n",
       "      <td>com</td>\n",
       "    </tr>\n",
       "    <tr>\n",
       "      <th>1</th>\n",
       "      <td>thompson@shelob.ce.ttu.edu</td>\n",
       "      <td>Ham</td>\n",
       "      <td>False</td>\n",
       "      <td>False</td>\n",
       "      <td>False</td>\n",
       "      <td>False</td>\n",
       "      <td>edu</td>\n",
       "    </tr>\n",
       "    <tr>\n",
       "      <th>2</th>\n",
       "      <td>beberg@mithral.com</td>\n",
       "      <td>Ham</td>\n",
       "      <td>False</td>\n",
       "      <td>False</td>\n",
       "      <td>False</td>\n",
       "      <td>False</td>\n",
       "      <td>com</td>\n",
       "    </tr>\n",
       "    <tr>\n",
       "      <th>3</th>\n",
       "      <td>rssfeeds@example.com</td>\n",
       "      <td>Ham</td>\n",
       "      <td>False</td>\n",
       "      <td>False</td>\n",
       "      <td>False</td>\n",
       "      <td>False</td>\n",
       "      <td>com</td>\n",
       "    </tr>\n",
       "    <tr>\n",
       "      <th>4</th>\n",
       "      <td>garym@canada.com</td>\n",
       "      <td>Ham</td>\n",
       "      <td>False</td>\n",
       "      <td>False</td>\n",
       "      <td>False</td>\n",
       "      <td>False</td>\n",
       "      <td>com</td>\n",
       "    </tr>\n",
       "  </tbody>\n",
       "</table>\n",
       "</div>"
      ],
      "text/plain": [
       "                 sender_email Label  has_inline_image  no_return_path  \\\n",
       "0        rssfeeds@example.com   Ham             False           False   \n",
       "1  thompson@shelob.ce.ttu.edu   Ham             False           False   \n",
       "2          beberg@mithral.com   Ham             False           False   \n",
       "3        rssfeeds@example.com   Ham             False           False   \n",
       "4            garym@canada.com   Ham             False           False   \n",
       "\n",
       "   no_reply_no_return  yes_reply_no_return top_level_domain  \n",
       "0               False                False              com  \n",
       "1               False                False              edu  \n",
       "2               False                False              com  \n",
       "3               False                False              com  \n",
       "4               False                False              com  "
      ]
     },
     "execution_count": 28,
     "metadata": {},
     "output_type": "execute_result"
    }
   ],
   "source": [
    "df.head()"
   ]
  },
  {
   "cell_type": "code",
   "execution_count": 29,
   "metadata": {},
   "outputs": [
    {
     "name": "stderr",
     "output_type": "stream",
     "text": [
      "/Users/susmitvengurlekar/opt/miniconda3/lib/python3.7/site-packages/ipykernel_launcher.py:5: SettingWithCopyWarning: \n",
      "A value is trying to be set on a copy of a slice from a DataFrame.\n",
      "Try using .loc[row_indexer,col_indexer] = value instead\n",
      "\n",
      "See the caveats in the documentation: https://pandas.pydata.org/pandas-docs/stable/user_guide/indexing.html#returning-a-view-versus-a-copy\n",
      "  \"\"\"\n"
     ]
    }
   ],
   "source": [
    "account_pattern_compiled = re.compile(r\"(.+@)\")\n",
    "def get_account(email):\n",
    "    return account_pattern_compiled.search(email).groups()[0][:-1]\n",
    "    \n",
    "df[\"account_name\"] = df[\"sender_email\"].apply(get_account)"
   ]
  },
  {
   "cell_type": "code",
   "execution_count": 30,
   "metadata": {},
   "outputs": [
    {
     "name": "stderr",
     "output_type": "stream",
     "text": [
      "/Users/susmitvengurlekar/opt/miniconda3/lib/python3.7/site-packages/ipykernel_launcher.py:5: SettingWithCopyWarning: \n",
      "A value is trying to be set on a copy of a slice from a DataFrame.\n",
      "Try using .loc[row_indexer,col_indexer] = value instead\n",
      "\n",
      "See the caveats in the documentation: https://pandas.pydata.org/pandas-docs/stable/user_guide/indexing.html#returning-a-view-versus-a-copy\n",
      "  \"\"\"\n"
     ]
    }
   ],
   "source": [
    "domain_pattern_compiled = re.compile(r\"(@.+)(\\.\\w+)\")\n",
    "def get_domain(email):\n",
    "    return domain_pattern_compiled.search(email).groups()[0][1:]\n",
    "    \n",
    "df[\"domain\"] = df[\"sender_email\"].apply(get_domain)"
   ]
  },
  {
   "cell_type": "code",
   "execution_count": 36,
   "metadata": {},
   "outputs": [
    {
     "data": {
      "text/html": [
       "<div>\n",
       "<style scoped>\n",
       "    .dataframe tbody tr th:only-of-type {\n",
       "        vertical-align: middle;\n",
       "    }\n",
       "\n",
       "    .dataframe tbody tr th {\n",
       "        vertical-align: top;\n",
       "    }\n",
       "\n",
       "    .dataframe thead th {\n",
       "        text-align: right;\n",
       "    }\n",
       "</style>\n",
       "<table border=\"1\" class=\"dataframe\">\n",
       "  <thead>\n",
       "    <tr style=\"text-align: right;\">\n",
       "      <th></th>\n",
       "      <th>account_name</th>\n",
       "      <th>top_level_domain</th>\n",
       "      <th>domain</th>\n",
       "      <th>Label</th>\n",
       "    </tr>\n",
       "  </thead>\n",
       "  <tbody>\n",
       "    <tr>\n",
       "      <th>10951</th>\n",
       "      <td>epvxvhclc</td>\n",
       "      <td>com</td>\n",
       "      <td>drizzle</td>\n",
       "      <td>Spam</td>\n",
       "    </tr>\n",
       "    <tr>\n",
       "      <th>6755</th>\n",
       "      <td>j.myers_ld</td>\n",
       "      <td>net</td>\n",
       "      <td>gateway</td>\n",
       "      <td>Spam</td>\n",
       "    </tr>\n",
       "    <tr>\n",
       "      <th>7560</th>\n",
       "      <td>Whitfield</td>\n",
       "      <td>com</td>\n",
       "      <td>bradsnet</td>\n",
       "      <td>Spam</td>\n",
       "    </tr>\n",
       "    <tr>\n",
       "      <th>8059</th>\n",
       "      <td>SWVAWL</td>\n",
       "      <td>it</td>\n",
       "      <td>freemail</td>\n",
       "      <td>Spam</td>\n",
       "    </tr>\n",
       "    <tr>\n",
       "      <th>10162</th>\n",
       "      <td>cyan.preston</td>\n",
       "      <td>fr</td>\n",
       "      <td>tiscali</td>\n",
       "      <td>Spam</td>\n",
       "    </tr>\n",
       "    <tr>\n",
       "      <th>7351</th>\n",
       "      <td>5laurinda</td>\n",
       "      <td>com</td>\n",
       "      <td>access-one</td>\n",
       "      <td>Spam</td>\n",
       "    </tr>\n",
       "    <tr>\n",
       "      <th>10676</th>\n",
       "      <td>kmlgvcvk</td>\n",
       "      <td>com</td>\n",
       "      <td>freeze</td>\n",
       "      <td>Spam</td>\n",
       "    </tr>\n",
       "    <tr>\n",
       "      <th>3570</th>\n",
       "      <td>transformers</td>\n",
       "      <td>lv</td>\n",
       "      <td>andrews</td>\n",
       "      <td>Spam</td>\n",
       "    </tr>\n",
       "    <tr>\n",
       "      <th>10188</th>\n",
       "      <td>ldaniels_15</td>\n",
       "      <td>at</td>\n",
       "      <td>removethis.siemens</td>\n",
       "      <td>Spam</td>\n",
       "    </tr>\n",
       "    <tr>\n",
       "      <th>7064</th>\n",
       "      <td>19671488</td>\n",
       "      <td>edu</td>\n",
       "      <td>winthrop</td>\n",
       "      <td>Spam</td>\n",
       "    </tr>\n",
       "  </tbody>\n",
       "</table>\n",
       "</div>"
      ],
      "text/plain": [
       "       account_name top_level_domain              domain Label\n",
       "10951     epvxvhclc              com             drizzle  Spam\n",
       "6755     j.myers_ld              net             gateway  Spam\n",
       "7560      Whitfield              com            bradsnet  Spam\n",
       "8059         SWVAWL               it            freemail  Spam\n",
       "10162  cyan.preston               fr             tiscali  Spam\n",
       "7351      5laurinda              com          access-one  Spam\n",
       "10676      kmlgvcvk              com              freeze  Spam\n",
       "3570   transformers               lv             andrews  Spam\n",
       "10188   ldaniels_15               at  removethis.siemens  Spam\n",
       "7064       19671488              edu            winthrop  Spam"
      ]
     },
     "execution_count": 36,
     "metadata": {},
     "output_type": "execute_result"
    }
   ],
   "source": [
    "df[df.Label == \"Spam\"][[\"account_name\",\"top_level_domain\",\"domain\",\"Label\"]].sample(10)"
   ]
  },
  {
   "cell_type": "code",
   "execution_count": 37,
   "metadata": {},
   "outputs": [
    {
     "data": {
      "text/html": [
       "<div>\n",
       "<style scoped>\n",
       "    .dataframe tbody tr th:only-of-type {\n",
       "        vertical-align: middle;\n",
       "    }\n",
       "\n",
       "    .dataframe tbody tr th {\n",
       "        vertical-align: top;\n",
       "    }\n",
       "\n",
       "    .dataframe thead th {\n",
       "        text-align: right;\n",
       "    }\n",
       "</style>\n",
       "<table border=\"1\" class=\"dataframe\">\n",
       "  <thead>\n",
       "    <tr style=\"text-align: right;\">\n",
       "      <th></th>\n",
       "      <th>account_name</th>\n",
       "      <th>top_level_domain</th>\n",
       "      <th>domain</th>\n",
       "      <th>Label</th>\n",
       "    </tr>\n",
       "  </thead>\n",
       "  <tbody>\n",
       "    <tr>\n",
       "      <th>981</th>\n",
       "      <td>rssfeeds</td>\n",
       "      <td>com</td>\n",
       "      <td>example</td>\n",
       "      <td>Ham</td>\n",
       "    </tr>\n",
       "    <tr>\n",
       "      <th>2379</th>\n",
       "      <td>aeriksson</td>\n",
       "      <td>fm</td>\n",
       "      <td>fastmail</td>\n",
       "      <td>Ham</td>\n",
       "    </tr>\n",
       "    <tr>\n",
       "      <th>278</th>\n",
       "      <td>pudge</td>\n",
       "      <td>org</td>\n",
       "      <td>perl</td>\n",
       "      <td>Ham</td>\n",
       "    </tr>\n",
       "    <tr>\n",
       "      <th>1661</th>\n",
       "      <td>owen</td>\n",
       "      <td>net</td>\n",
       "      <td>permafrost</td>\n",
       "      <td>Ham</td>\n",
       "    </tr>\n",
       "    <tr>\n",
       "      <th>230</th>\n",
       "      <td>owen</td>\n",
       "      <td>net</td>\n",
       "      <td>permafrost</td>\n",
       "      <td>Ham</td>\n",
       "    </tr>\n",
       "    <tr>\n",
       "      <th>896</th>\n",
       "      <td>rssfeeds</td>\n",
       "      <td>com</td>\n",
       "      <td>example</td>\n",
       "      <td>Ham</td>\n",
       "    </tr>\n",
       "    <tr>\n",
       "      <th>1732</th>\n",
       "      <td>tim.one</td>\n",
       "      <td>net</td>\n",
       "      <td>comcast</td>\n",
       "      <td>Ham</td>\n",
       "    </tr>\n",
       "    <tr>\n",
       "      <th>674</th>\n",
       "      <td>mcmasjc</td>\n",
       "      <td>com</td>\n",
       "      <td>tatanka.stortek</td>\n",
       "      <td>Ham</td>\n",
       "    </tr>\n",
       "    <tr>\n",
       "      <th>1364</th>\n",
       "      <td>garym</td>\n",
       "      <td>com</td>\n",
       "      <td>canada</td>\n",
       "      <td>Ham</td>\n",
       "    </tr>\n",
       "    <tr>\n",
       "      <th>2268</th>\n",
       "      <td>cwg-exmh</td>\n",
       "      <td>Com</td>\n",
       "      <td>DeepEddy</td>\n",
       "      <td>Ham</td>\n",
       "    </tr>\n",
       "  </tbody>\n",
       "</table>\n",
       "</div>"
      ],
      "text/plain": [
       "     account_name top_level_domain           domain Label\n",
       "981      rssfeeds              com          example   Ham\n",
       "2379    aeriksson               fm         fastmail   Ham\n",
       "278         pudge              org             perl   Ham\n",
       "1661         owen              net       permafrost   Ham\n",
       "230          owen              net       permafrost   Ham\n",
       "896      rssfeeds              com          example   Ham\n",
       "1732      tim.one              net          comcast   Ham\n",
       "674       mcmasjc              com  tatanka.stortek   Ham\n",
       "1364        garym              com           canada   Ham\n",
       "2268     cwg-exmh              Com         DeepEddy   Ham"
      ]
     },
     "execution_count": 37,
     "metadata": {},
     "output_type": "execute_result"
    }
   ],
   "source": [
    "df[df.Label == \"Ham\"][[\"account_name\",\"top_level_domain\",\"domain\",\"Label\"]].sample(10)"
   ]
  },
  {
   "cell_type": "code",
   "execution_count": 46,
   "metadata": {},
   "outputs": [
    {
     "data": {
      "text/plain": [
       "com     5557\n",
       "net     1652\n",
       "de       299\n",
       "uk       276\n",
       "org      166\n",
       "        ... \n",
       "iNFo       1\n",
       "kw         1\n",
       "18         1\n",
       "tj         1\n",
       "name       1\n",
       "Name: top_level_domain, Length: 145, dtype: int64"
      ]
     },
     "execution_count": 46,
     "metadata": {},
     "output_type": "execute_result"
    }
   ],
   "source": [
    "df[df[\"Label\"] == \"Spam\"][\"top_level_domain\"].value_counts()"
   ]
  },
  {
   "cell_type": "code",
   "execution_count": 47,
   "metadata": {},
   "outputs": [
    {
     "data": {
      "text/plain": [
       "com    1316\n",
       "net     456\n",
       "org     258\n",
       "edu      83\n",
       "Com      39\n",
       "ie       38\n",
       "uk       26\n",
       "AU       25\n",
       "ch       22\n",
       "au       21\n",
       "ca       19\n",
       "fm       13\n",
       "fi       13\n",
       "de       12\n",
       "be        8\n",
       "at        7\n",
       "COM       6\n",
       "FI        5\n",
       "EDU       5\n",
       "nu        5\n",
       "fr        5\n",
       "it        5\n",
       "to        4\n",
       "ru        4\n",
       "us        2\n",
       "bz        2\n",
       "za        2\n",
       "br        2\n",
       "ph        2\n",
       "dk        1\n",
       "es        1\n",
       "ee        1\n",
       "mx        1\n",
       "mil       1\n",
       "Name: top_level_domain, dtype: int64"
      ]
     },
     "execution_count": 47,
     "metadata": {},
     "output_type": "execute_result"
    }
   ],
   "source": [
    "df[df[\"Label\"] == \"Ham\"][\"top_level_domain\"].value_counts()"
   ]
  },
  {
   "cell_type": "code",
   "execution_count": 57,
   "metadata": {},
   "outputs": [
    {
     "data": {
      "text/plain": [
       "yahoo           529\n",
       "hotmail         222\n",
       "netscape         70\n",
       "msn              66\n",
       "yahoo.co         65\n",
       "               ... \n",
       "vsso.sll          1\n",
       "dr                1\n",
       "g4                1\n",
       "meganet           1\n",
       "lowestoft.ac      1\n",
       "Name: domain, Length: 4915, dtype: int64"
      ]
     },
     "execution_count": 57,
     "metadata": {},
     "output_type": "execute_result"
    }
   ],
   "source": [
    "df[df[\"Label\"] == \"Spam\"][\"domain\"].value_counts()"
   ]
  },
  {
   "cell_type": "code",
   "execution_count": 58,
   "metadata": {},
   "outputs": [
    {
     "data": {
      "text/plain": [
       "example         649\n",
       "hotmail          58\n",
       "slack            57\n",
       "perl             56\n",
       "comcast          45\n",
       "               ... \n",
       "impression        1\n",
       "kssp.upd.edu      1\n",
       "mceahern          1\n",
       "realsoftware      1\n",
       "tuxfan            1\n",
       "Name: domain, Length: 355, dtype: int64"
      ]
     },
     "execution_count": 58,
     "metadata": {},
     "output_type": "execute_result"
    }
   ],
   "source": [
    "df[df[\"Label\"] == \"Ham\"][\"domain\"].value_counts()"
   ]
  },
  {
   "cell_type": "code",
   "execution_count": 68,
   "metadata": {},
   "outputs": [
    {
     "data": {
      "text/plain": [
       "53.107033157438764"
      ]
     },
     "execution_count": 68,
     "metadata": {},
     "output_type": "execute_result"
    }
   ],
   "source": [
    "df[df[\"account_name\"] == \"rssfeeds\"].size / len(df) * 100"
   ]
  },
  {
   "cell_type": "code",
   "execution_count": 69,
   "metadata": {},
   "outputs": [
    {
     "data": {
      "text/plain": [
       "0.0"
      ]
     },
     "execution_count": 69,
     "metadata": {},
     "output_type": "execute_result"
    }
   ],
   "source": [
    "df[(df[\"account_name\"] == \"rssfeeds\") & (df[\"Label\"] == \"Spam\")].size /df[df[\"account_name\"] == \"rssfeeds\"].size  * 100"
   ]
  },
  {
   "cell_type": "code",
   "execution_count": 70,
   "metadata": {},
   "outputs": [
    {
     "data": {
      "text/plain": [
       "100.0"
      ]
     },
     "execution_count": 70,
     "metadata": {},
     "output_type": "execute_result"
    }
   ],
   "source": [
    "df[(df[\"account_name\"] == \"rssfeeds\") & (df[\"Label\"] == \"Ham\")].size /df[df[\"account_name\"] == \"rssfeeds\"].size  * 100"
   ]
  },
  {
   "cell_type": "markdown",
   "metadata": {},
   "source": [
    "### In Production while predicting:\n",
    "    if rss in sender_mail, and user likes rss feeds: Ham else Spam"
   ]
  },
  {
   "cell_type": "code",
   "execution_count": 78,
   "metadata": {},
   "outputs": [],
   "source": [
    "df.drop(df[df[\"account_name\"] == \"rssfeeds\"].index,inplace=True)"
   ]
  },
  {
   "cell_type": "code",
   "execution_count": 79,
   "metadata": {},
   "outputs": [],
   "source": [
    "df[\"free_in_domain\"] = df[\"domain\"].map(lambda x: \"free\" in x)\n",
    "df[\"free_in_account\"] = df[\"account_name\"].map(lambda x: \"free\" in x)"
   ]
  },
  {
   "cell_type": "code",
   "execution_count": 80,
   "metadata": {},
   "outputs": [
    {
     "name": "stderr",
     "output_type": "stream",
     "text": [
      "/Users/susmitvengurlekar/opt/miniconda3/lib/python3.7/site-packages/ipykernel_launcher.py:1: FutureWarning: Indexing with multiple keys (implicitly converted to a tuple of keys) will be deprecated, use a list instead.\n",
      "  \"\"\"Entry point for launching an IPython kernel.\n"
     ]
    },
    {
     "data": {
      "text/html": [
       "<div>\n",
       "<style scoped>\n",
       "    .dataframe tbody tr th:only-of-type {\n",
       "        vertical-align: middle;\n",
       "    }\n",
       "\n",
       "    .dataframe tbody tr th {\n",
       "        vertical-align: top;\n",
       "    }\n",
       "\n",
       "    .dataframe thead th {\n",
       "        text-align: right;\n",
       "    }\n",
       "</style>\n",
       "<table border=\"1\" class=\"dataframe\">\n",
       "  <thead>\n",
       "    <tr style=\"text-align: right;\">\n",
       "      <th></th>\n",
       "      <th>free_in_domain</th>\n",
       "      <th>free_in_account</th>\n",
       "    </tr>\n",
       "    <tr>\n",
       "      <th>Label</th>\n",
       "      <th></th>\n",
       "      <th></th>\n",
       "    </tr>\n",
       "  </thead>\n",
       "  <tbody>\n",
       "    <tr>\n",
       "      <th>Ham</th>\n",
       "      <td>0.111297</td>\n",
       "      <td>0.000000</td>\n",
       "    </tr>\n",
       "    <tr>\n",
       "      <th>Spam</th>\n",
       "      <td>1.866433</td>\n",
       "      <td>0.087489</td>\n",
       "    </tr>\n",
       "  </tbody>\n",
       "</table>\n",
       "</div>"
      ],
      "text/plain": [
       "       free_in_domain  free_in_account\n",
       "Label                                 \n",
       "Ham          0.111297         0.000000\n",
       "Spam         1.866433         0.087489"
      ]
     },
     "execution_count": 80,
     "metadata": {},
     "output_type": "execute_result"
    }
   ],
   "source": [
    "df.groupby(\"Label\")['free_in_domain',\"free_in_account\"].mean()*100"
   ]
  },
  {
   "cell_type": "code",
   "execution_count": 81,
   "metadata": {},
   "outputs": [],
   "source": [
    "df.drop([\"sender_email\",\"free_in_account\",\"domain\",\"top_level_domain\"],axis=1,inplace=True)"
   ]
  },
  {
   "cell_type": "code",
   "execution_count": 85,
   "metadata": {},
   "outputs": [
    {
     "data": {
      "text/html": [
       "<div>\n",
       "<style scoped>\n",
       "    .dataframe tbody tr th:only-of-type {\n",
       "        vertical-align: middle;\n",
       "    }\n",
       "\n",
       "    .dataframe tbody tr th {\n",
       "        vertical-align: top;\n",
       "    }\n",
       "\n",
       "    .dataframe thead th {\n",
       "        text-align: right;\n",
       "    }\n",
       "</style>\n",
       "<table border=\"1\" class=\"dataframe\">\n",
       "  <thead>\n",
       "    <tr style=\"text-align: right;\">\n",
       "      <th></th>\n",
       "      <th>Label</th>\n",
       "      <th>has_inline_image</th>\n",
       "      <th>no_return_path</th>\n",
       "      <th>no_reply_no_return</th>\n",
       "      <th>yes_reply_no_return</th>\n",
       "      <th>account_name</th>\n",
       "      <th>free_in_domain</th>\n",
       "    </tr>\n",
       "  </thead>\n",
       "  <tbody>\n",
       "    <tr>\n",
       "      <th>1</th>\n",
       "      <td>Ham</td>\n",
       "      <td>False</td>\n",
       "      <td>False</td>\n",
       "      <td>False</td>\n",
       "      <td>False</td>\n",
       "      <td>thompson</td>\n",
       "      <td>False</td>\n",
       "    </tr>\n",
       "    <tr>\n",
       "      <th>2</th>\n",
       "      <td>Ham</td>\n",
       "      <td>False</td>\n",
       "      <td>False</td>\n",
       "      <td>False</td>\n",
       "      <td>False</td>\n",
       "      <td>beberg</td>\n",
       "      <td>False</td>\n",
       "    </tr>\n",
       "    <tr>\n",
       "      <th>4</th>\n",
       "      <td>Ham</td>\n",
       "      <td>False</td>\n",
       "      <td>False</td>\n",
       "      <td>False</td>\n",
       "      <td>False</td>\n",
       "      <td>garym</td>\n",
       "      <td>False</td>\n",
       "    </tr>\n",
       "    <tr>\n",
       "      <th>5</th>\n",
       "      <td>Ham</td>\n",
       "      <td>False</td>\n",
       "      <td>False</td>\n",
       "      <td>False</td>\n",
       "      <td>False</td>\n",
       "      <td>kragen</td>\n",
       "      <td>False</td>\n",
       "    </tr>\n",
       "    <tr>\n",
       "      <th>6</th>\n",
       "      <td>Ham</td>\n",
       "      <td>False</td>\n",
       "      <td>False</td>\n",
       "      <td>False</td>\n",
       "      <td>False</td>\n",
       "      <td>paul</td>\n",
       "      <td>False</td>\n",
       "    </tr>\n",
       "  </tbody>\n",
       "</table>\n",
       "</div>"
      ],
      "text/plain": [
       "  Label  has_inline_image  no_return_path  no_reply_no_return  \\\n",
       "1   Ham             False           False               False   \n",
       "2   Ham             False           False               False   \n",
       "4   Ham             False           False               False   \n",
       "5   Ham             False           False               False   \n",
       "6   Ham             False           False               False   \n",
       "\n",
       "   yes_reply_no_return account_name  free_in_domain  \n",
       "1                False     thompson           False  \n",
       "2                False       beberg           False  \n",
       "4                False        garym           False  \n",
       "5                False       kragen           False  \n",
       "6                False         paul           False  "
      ]
     },
     "execution_count": 85,
     "metadata": {},
     "output_type": "execute_result"
    }
   ],
   "source": [
    "df.head()"
   ]
  },
  {
   "cell_type": "code",
   "execution_count": 87,
   "metadata": {},
   "outputs": [
    {
     "name": "stdout",
     "output_type": "stream",
     "text": [
      "Collecting pyenchant\n",
      "  Downloading pyenchant-3.1.1-py3-none-any.whl (55 kB)\n",
      "\u001b[K     |████████████████████████████████| 55 kB 1.0 MB/s eta 0:00:011\n",
      "\u001b[?25hInstalling collected packages: pyenchant\n",
      "Successfully installed pyenchant-3.1.1\n",
      "\u001b[33mWARNING: You are using pip version 20.1.1; however, version 20.2.2 is available.\n",
      "You should consider upgrading via the '/Users/susmitvengurlekar/opt/miniconda3/bin/python -m pip install --upgrade pip' command.\u001b[0m\n"
     ]
    }
   ],
   "source": [
    "!pip3 install pyenchant"
   ]
  },
  {
   "cell_type": "code",
   "execution_count": 88,
   "metadata": {},
   "outputs": [
    {
     "ename": "ImportError",
     "evalue": "The 'enchant' C library was not found and maybe needs to be installed.\nSee  https://pyenchant.github.io/pyenchant/install.html\nfor details\n",
     "output_type": "error",
     "traceback": [
      "\u001b[0;31m---------------------------------------------------------------------------\u001b[0m",
      "\u001b[0;31mImportError\u001b[0m                               Traceback (most recent call last)",
      "\u001b[0;32m<ipython-input-88-c6a4b7ed6a34>\u001b[0m in \u001b[0;36m<module>\u001b[0;34m\u001b[0m\n\u001b[0;32m----> 1\u001b[0;31m \u001b[0;32mimport\u001b[0m \u001b[0menchant\u001b[0m\u001b[0;34m\u001b[0m\u001b[0;34m\u001b[0m\u001b[0m\n\u001b[0m",
      "\u001b[0;32m~/opt/miniconda3/lib/python3.7/site-packages/enchant/__init__.py\u001b[0m in \u001b[0;36m<module>\u001b[0;34m\u001b[0m\n\u001b[1;32m     79\u001b[0m \u001b[0;34m\u001b[0m\u001b[0m\n\u001b[1;32m     80\u001b[0m \u001b[0;32mtry\u001b[0m\u001b[0;34m:\u001b[0m\u001b[0;34m\u001b[0m\u001b[0;34m\u001b[0m\u001b[0m\n\u001b[0;32m---> 81\u001b[0;31m     \u001b[0;32mfrom\u001b[0m \u001b[0menchant\u001b[0m \u001b[0;32mimport\u001b[0m \u001b[0m_enchant\u001b[0m \u001b[0;32mas\u001b[0m \u001b[0m_e\u001b[0m\u001b[0;34m\u001b[0m\u001b[0;34m\u001b[0m\u001b[0m\n\u001b[0m\u001b[1;32m     82\u001b[0m \u001b[0;32mexcept\u001b[0m \u001b[0mImportError\u001b[0m\u001b[0;34m:\u001b[0m\u001b[0;34m\u001b[0m\u001b[0;34m\u001b[0m\u001b[0m\n\u001b[1;32m     83\u001b[0m     \u001b[0;32mif\u001b[0m \u001b[0;32mnot\u001b[0m \u001b[0mos\u001b[0m\u001b[0;34m.\u001b[0m\u001b[0menviron\u001b[0m\u001b[0;34m.\u001b[0m\u001b[0mget\u001b[0m\u001b[0;34m(\u001b[0m\u001b[0;34m\"PYENCHANT_IGNORE_MISSING_LIB\"\u001b[0m\u001b[0;34m,\u001b[0m \u001b[0;32mFalse\u001b[0m\u001b[0;34m)\u001b[0m\u001b[0;34m:\u001b[0m\u001b[0;34m\u001b[0m\u001b[0;34m\u001b[0m\u001b[0m\n",
      "\u001b[0;32m~/opt/miniconda3/lib/python3.7/site-packages/enchant/_enchant.py\u001b[0m in \u001b[0;36m<module>\u001b[0;34m\u001b[0m\n\u001b[1;32m    155\u001b[0m         \"\"\"\n\u001b[1;32m    156\u001b[0m     )\n\u001b[0;32m--> 157\u001b[0;31m     \u001b[0;32mraise\u001b[0m \u001b[0mImportError\u001b[0m\u001b[0;34m(\u001b[0m\u001b[0mmsg\u001b[0m\u001b[0;34m)\u001b[0m\u001b[0;34m\u001b[0m\u001b[0;34m\u001b[0m\u001b[0m\n\u001b[0m\u001b[1;32m    158\u001b[0m \u001b[0;34m\u001b[0m\u001b[0m\n\u001b[1;32m    159\u001b[0m \u001b[0;34m\u001b[0m\u001b[0m\n",
      "\u001b[0;31mImportError\u001b[0m: The 'enchant' C library was not found and maybe needs to be installed.\nSee  https://pyenchant.github.io/pyenchant/install.html\nfor details\n"
     ]
    }
   ],
   "source": [
    "import enchant"
   ]
  },
  {
   "cell_type": "code",
   "execution_count": null,
   "metadata": {},
   "outputs": [],
   "source": []
  }
 ],
 "metadata": {
  "kernelspec": {
   "display_name": "Python 3",
   "language": "python",
   "name": "python3"
  },
  "language_info": {
   "codemirror_mode": {
    "name": "ipython",
    "version": 3
   },
   "file_extension": ".py",
   "mimetype": "text/x-python",
   "name": "python",
   "nbconvert_exporter": "python",
   "pygments_lexer": "ipython3",
   "version": "3.7.6"
  },
  "toc": {
   "base_numbering": 1,
   "nav_menu": {},
   "number_sections": true,
   "sideBar": true,
   "skip_h1_title": false,
   "title_cell": "Table of Contents",
   "title_sidebar": "Contents",
   "toc_cell": false,
   "toc_position": {},
   "toc_section_display": true,
   "toc_window_display": false
  }
 },
 "nbformat": 4,
 "nbformat_minor": 4
}
